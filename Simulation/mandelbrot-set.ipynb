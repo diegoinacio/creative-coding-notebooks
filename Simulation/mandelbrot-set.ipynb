{
 "cells": [
  {
   "cell_type": "markdown",
   "metadata": {},
   "source": [
    "# Mandelbrot Set\n",
    "---\n",
    "- Author: Diego Inácio\n",
    "- GitHub: [github.com/diegoinacio](https://github.com/diegoinacio)\n",
    "- Notebook: [mandelbrot-set.ipynb](https://github.com/diegoinacio/creative-coding-notebooks/blob/master/Simulation/mandelbrot-set.ipynb)\n",
    "---\n",
    "A very basic implementation of [mandelbrot set](https://en.wikipedia.org/wiki/Mandelbrot_set) algorithm with some performatic improvements using [Numba](https://numba.pydata.org/)."
   ]
  },
  {
   "cell_type": "code",
   "execution_count": null,
   "metadata": {},
   "outputs": [],
   "source": [
    "%matplotlib inline\n",
    "import matplotlib\n",
    "import matplotlib.pyplot as plt\n",
    "import numpy as np\n",
    "\n",
    "from numba import prange, vectorize, int64, float64"
   ]
  },
  {
   "cell_type": "markdown",
   "metadata": {},
   "source": [
    "Considering $z_0 = 0$ and the constant $c = x + iy$, we can calculate the *mandelbrot set* for each point as:\n",
    "\n",
    "$$ \\large\n",
    "\\begin{aligned}\n",
    "z_1 & = z_0^2 + c \\\\\n",
    " & = 0^2 + x + iy \\\\\n",
    " & = x + iy \\\\\n",
    "z_2 & = z_1^2 + c \\\\\n",
    " & = (x + iy)^2 + x + iy \\\\\n",
    " & = x^2 + i^2y^2 + i2xy + x + iy \\\\\n",
    " & = x^2 - y^2 + x + i(2xy + y) \\\\\n",
    "z_{n+1} & = z_n^2+c\n",
    "\\end{aligned} \n",
    "$$"
   ]
  },
  {
   "cell_type": "code",
   "execution_count": null,
   "metadata": {},
   "outputs": [],
   "source": [
    "@vectorize(\n",
    "    [float64(float64, float64, int64)],\n",
    "    target='parallel'\n",
    ")\n",
    "def mandelbrot(r, i, iters):\n",
    "    c = complex(r, i)\n",
    "    z = 0 + c\n",
    "    for n in prange(iters):\n",
    "        if z.real**2 + z.imag**2 > 4:\n",
    "            return n\n",
    "        z = z**2 + c\n",
    "    return 0\n",
    "\n",
    "def mandelbrot_set(rmin, rmax, imin, imax, iters, size):\n",
    "    # Build complex plane\n",
    "    N = size if isinstance(size, complex) else 1j*size\n",
    "    i, r = np.mgrid[imin:imax:N, rmin:rmax:N].astype(np.float64)\n",
    "    # Calculate mandelbrot\n",
    "    MB = mandelbrot(r, i, iters)\n",
    "\n",
    "    return np.log10(MB + 1)"
   ]
  },
  {
   "cell_type": "code",
   "execution_count": null,
   "metadata": {},
   "outputs": [],
   "source": [
    "%%time\n",
    "N = 2048j\n",
    "rmin, imin, rmax, imax = -1.5, -1, 0.5, 1\n",
    "mbs = mandelbrot_set(\n",
    "    rmin, rmax, imin, imax, 1024, N\n",
    ")\n",
    "\n",
    "fig, ax = plt.subplots(1, 1, figsize=(18, 18))\n",
    "plt.imshow(mbs, cmap=\"rainbow\")\n",
    "plt.xticks(\n",
    "    np.linspace(0, N.imag, 20 + 1),\n",
    "    [f'{e:.02f}' for e in np.linspace(rmin, rmax, 20 + 1)])\n",
    "plt.yticks(\n",
    "    np.linspace(0, N.imag, 20 + 1),\n",
    "    [f'{e:.02f}' for e in np.linspace(imin, imax, 20 + 1)])\n",
    "plt.show()"
   ]
  },
  {
   "cell_type": "code",
   "execution_count": null,
   "metadata": {},
   "outputs": [],
   "source": [
    "fig, AX = plt.subplots(2, 2, figsize=(18, 18))\n",
    "\n",
    "center = np.array((-0.4505, 0.555))\n",
    "side = 0.001\n",
    "(rmin, imin), (rmax, imax) = center - side/2, center + side/2\n",
    "mbA = mandelbrot_set(rmin, rmax, imin, imax, 100000, 2048j)\n",
    "AX[0,0].imshow(mbA, cmap=\"prism\")\n",
    "AX[0,0].axis(\"off\")\n",
    "AX[0,0].set_title(\n",
    "    f'Re[{rmin:.06f}, {rmax:.06f}] Im[{imin:.06f}, {imax:.06f}]',\n",
    "    fontsize=15\n",
    ")\n",
    "\n",
    "center = np.array((-0.3, 0.625))\n",
    "side = 0.01\n",
    "(rmin, imin), (rmax, imax) = center - side/2, center + side/2\n",
    "mbB = mandelbrot_set(rmin, rmax, imin, imax, 100000, 2048j)\n",
    "AX[0,1].imshow(mbB**0.455, cmap=\"prism\")\n",
    "AX[0,1].axis(\"off\")\n",
    "AX[0,1].set_title(\n",
    "    f'Re[{rmin:.06f}, {rmax:.06f}] Im[{imin:.06f}, {imax:.06f}]',\n",
    "    fontsize=15\n",
    ")\n",
    "\n",
    "center = np.array((-0.4505, 0.555))\n",
    "side = 0.00001\n",
    "(rmin, imin), (rmax, imax) = center - side/2, center + side/2\n",
    "mbC = mandelbrot_set(rmin, rmax, imin, imax, 1000000, 2048j)\n",
    "AX[1,0].imshow(mbC, cmap=\"prism\")\n",
    "AX[1,0].axis(\"off\")\n",
    "AX[1,0].set_title(\n",
    "    f'Re[{rmin:.06f}, {rmax:.06f}] Im[{imin:.06f}, {imax:.06f}]',\n",
    "    fontsize=15\n",
    ")\n",
    "\n",
    "center = np.array((-0.3, 0.624))\n",
    "side = 0.0001\n",
    "(rmin, imin), (rmax, imax) = center - side/2, center + side/2\n",
    "mbD = mandelbrot_set(rmin, rmax, imin, imax, 1000000, 2048)\n",
    "AX[1,1].imshow(mbD, cmap=\"prism\")\n",
    "AX[1,1].axis(\"off\")\n",
    "AX[1,1].set_title(\n",
    "    f'Re[{rmin:.06f}, {rmax:.06f}] Im[{imin:.06f}, {imax:.06f}]',\n",
    "    fontsize=15\n",
    ")\n",
    "\n",
    "plt.tight_layout()\n",
    "plt.show()"
   ]
  }
 ],
 "metadata": {
  "kernelspec": {
   "display_name": "Python 3",
   "language": "python",
   "name": "python3"
  },
  "language_info": {
   "codemirror_mode": {
    "name": "ipython",
    "version": 3
   },
   "file_extension": ".py",
   "mimetype": "text/x-python",
   "name": "python",
   "nbconvert_exporter": "python",
   "pygments_lexer": "ipython3",
   "version": "3.7.7"
  }
 },
 "nbformat": 4,
 "nbformat_minor": 4
}
