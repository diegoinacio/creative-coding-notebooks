{
 "cells": [
  {
   "cell_type": "markdown",
   "metadata": {},
   "source": [
    "# Cellular Automaton 1D\n",
    "---\n",
    "- Author: Diego Inácio\n",
    "- GitHub: [github.com/diegoinacio](https://github.com/diegoinacio)\n",
    "- Notebook: [cellularAutomaton1D.ipynb](https://github.com/diegoinacio/creative-coding-notebooks/blob/master/Simulation/cellularAutomaton1D.ipynb)\n",
    "---\n",
    "Implementation of an uni-dimensional cellular automata of binary values.\n",
    "\n",
    "<font color='#CC0000'>[<b>PT-BR</b> content]</font>\n",
    "\n",
    "Implementação de um autômato celular unidimensional em valores binários."
   ]
  },
  {
   "cell_type": "code",
   "execution_count": null,
   "metadata": {},
   "outputs": [],
   "source": [
    "%matplotlib inline\n",
    "import matplotlib.pyplot as plt\n",
    "import matplotlib.animation as manim\n",
    "import numpy as np\n",
    "import imageio"
   ]
  },
  {
   "cell_type": "code",
   "execution_count": null,
   "metadata": {},
   "outputs": [],
   "source": [
    "plt.rcParams['figure.figsize'] = (16, 8)\n",
    "plt.set_cmap('gray')"
   ]
  },
  {
   "cell_type": "markdown",
   "metadata": {},
   "source": [
    "## 1. Definição da lista de regra\n",
    "---\n",
    "A função ***conjRegras*** resulta em uma lista de regras para definição de novos estados para as células centrais em gerações posteriores, com base em uma vizinhança definida por um diâmetro ímpar. Para uma vizinhança de diâmetro **3** existem $2^3=8$ padrões possíveis e $2^8=256$ possibilidades de regras. Da mesma forma, uma vizinhança de diâmetro **5** tem $2^5=32$ padrões possíveis e $2^{32}=4294967296L$ possibilidades de regras.\n",
    "\n",
    "- Autômato celular com regra **27**\n",
    "\n",
    "| x                                     | 7 | 6 | 5 | 4 | 3 | 2 | 1 | 0 |\n",
    "|---------------------------------------|---|---|---|---|---|---|---|---|\n",
    "| **estado atual**                      |111|110|101|100|011|010|001|000|\n",
    "| **novo estado para células centrais** | 0 | 0 | 0 | 1 | 1 | 0 | 1 | 1 |\n",
    "\n",
    "- Autômato celular com regra **53**\n",
    "\n",
    "| x                                     | 7 | 6 | 5 | 4 | 3 | 2 | 1 | 0 |\n",
    "|---------------------------------------|---|---|---|---|---|---|---|---|\n",
    "| **estado atual**                      |111|110|101|100|011|010|001|000|\n",
    "| **novo estado para células centrais** | 0 | 0 | 1 | 1 | 0 | 1 | 0 | 1 |"
   ]
  },
  {
   "cell_type": "code",
   "execution_count": null,
   "metadata": {},
   "outputs": [],
   "source": [
    "def conjRegras(regra, diametro):\n",
    "    tamanho = 2**diametro\n",
    "    bits = list('{0:0{1}b}'.format(regra, tamanho)[::-1])\n",
    "    resultado = np.array(bits, dtype=np.int)\n",
    "    return resultado"
   ]
  },
  {
   "cell_type": "markdown",
   "metadata": {},
   "source": [
    "## 2. Tabela de regras\n",
    "---\n",
    "A função ***conjRegras_tab*** define a tabela de regras para visualização."
   ]
  },
  {
   "cell_type": "code",
   "execution_count": null,
   "metadata": {},
   "outputs": [],
   "source": [
    "def conjRegras_tab(regra, diametro, disp=(8, 4)):\n",
    "    '''\n",
    "    Define a tabela do conjunto de regras\n",
    "    '''\n",
    "    s, t = disp\n",
    "    S, T = s*(diametro + 1), 3*t\n",
    "    raio = (diametro - 1)//2\n",
    "    crt = np.ones((T, S), np.float32)*0.25\n",
    "    crList = conjRegras(regra, diametro)\n",
    "    total = 2**diametro\n",
    "    indices = np.linspace(0, total - 1, s*t, dtype=np.int32)\n",
    "    if total < s*t:\n",
    "        indices = np.unique(indices)\n",
    "    for j in range(t):\n",
    "        for i in range(s):\n",
    "            try:\n",
    "                indice = indices[i + j*s]\n",
    "                bits = list('{0:0{1}b}'.format(indice, diametro))\n",
    "                bits = np.array(bits, dtype=np.int)\n",
    "                iro = (diametro + 1)*i\n",
    "                iri = iro + diametro\n",
    "                jro = 3*j\n",
    "                crt[jro, iro:iri] = bits\n",
    "                crt[jro + 1, iro + raio] = crList[indice]\n",
    "            except:\n",
    "                pass\n",
    "    return crt[:-1, :-1]"
   ]
  },
  {
   "cell_type": "markdown",
   "metadata": {},
   "source": [
    "## 3. Definição do autômato celular\n",
    "---\n",
    "Gera autômato celular a partir da geração 0."
   ]
  },
  {
   "cell_type": "code",
   "execution_count": null,
   "metadata": {},
   "outputs": [],
   "source": [
    "def automatoCelular(ger0, gers, regra, diametro):\n",
    "    '''\n",
    "    Gera autômato celular\n",
    "    '''\n",
    "    n = ger0.size\n",
    "    raio = (diametro - 1)//2\n",
    "    resultado = np.zeros((gers, n), np.float32)\n",
    "    resultado[0] = ger0\n",
    "    novoEstado = conjRegras(regra, diametro)\n",
    "    for ger in range(1, gers):\n",
    "        for i in range(n):\n",
    "            vizinhanca = np.roll(resultado[ger - 1], - i + raio)[:diametro]\n",
    "            binario = ''.join(map(str, vizinhanca.astype(int)))\n",
    "            indice = int(binario, 2)\n",
    "            resultado[ger, i] = novoEstado[indice]\n",
    "    return resultado"
   ]
  },
  {
   "cell_type": "markdown",
   "metadata": {},
   "source": [
    "## 4. Autômato\n",
    "---"
   ]
  },
  {
   "cell_type": "code",
   "execution_count": null,
   "metadata": {},
   "outputs": [],
   "source": [
    "%%time\n",
    "# Parâmetros\n",
    "gers = 128\n",
    "regra = 362\n",
    "raio = 2\n",
    "\n",
    "diametro = 2*raio + 1\n",
    "regra %= 2**2**diametro\n",
    "\n",
    "# Incialização da geração 0\n",
    "celulas = 512\n",
    "np.random.seed(sum(map(lambda c: ord(c), 'automato celular')))\n",
    "ger0 = np.random.randint(0, 1 + 1, celulas).astype(np.float32)\n",
    "\n",
    "# Autômato\n",
    "ac = automatoCelular(ger0, gers, regra, diametro)"
   ]
  },
  {
   "cell_type": "markdown",
   "metadata": {},
   "source": [
    "## 5. Visualização\n",
    "---\n",
    "### 5.1. Visualização do autômato\n",
    "---"
   ]
  },
  {
   "cell_type": "code",
   "execution_count": null,
   "metadata": {},
   "outputs": [],
   "source": [
    "%%time\n",
    "fig, ax = plt.subplots(figsize=(2048//72, 512//72))\n",
    "\n",
    "AC = ac.copy()*0\n",
    "def animation(frame):\n",
    "    plt.cla()\n",
    "    gen = frame*2\n",
    "    AC[:gen] = ac[:gen]\n",
    "    imshow = ax.imshow(AC, interpolation='none')\n",
    "    ax.set_title('Cellular Automaton 1D | generation {:04}'.format(gen), fontsize=24)\n",
    "    ax.set_xlabel('cells', fontsize=20)\n",
    "    ax.set_ylabel('generations', fontsize=20)\n",
    "    plt.tight_layout()\n",
    "    return imshow\n",
    "\n",
    "anim = manim.FuncAnimation(fig, animation, frames=gers//2 + 1, interval=100)\n",
    "\n",
    "anim.save('output/NLDC_cellularAutomaton1D_anim.gif', writer=\"imagemagick\", extra_args=\"convert\")\n",
    "plt.close()\n",
    "\n",
    "# Solve repetition problem\n",
    "! magick convert _output/NLDC_cellularAutomaton1D_anim.gif -loop 0 _output/NLDC_cellularAutomaton1D_anim.gif\n",
    "! echo GIF exported and reconverted. Disregard the message above."
   ]
  },
  {
   "cell_type": "markdown",
   "metadata": {},
   "source": [
    "![cellular automaton 1D](output/NLDC_cellularAutomaton1D_anim.gif \"Cellular Automaton 1D\")"
   ]
  },
  {
   "cell_type": "markdown",
   "metadata": {},
   "source": [
    "### 5.2. Visualização da tabela de regra\n",
    "---"
   ]
  },
  {
   "cell_type": "code",
   "execution_count": null,
   "metadata": {},
   "outputs": [],
   "source": [
    "crt = conjRegras_tab(regra, diametro)\n",
    "plt.imshow(crt, interpolation='none')\n",
    "plt.axis('off')\n",
    "titulo = 'rule = {}'.format(regra)\n",
    "titulo += ' | diameter = {}'.format(diametro)\n",
    "plt.title(titulo, fontsize=16)\n",
    "plt.show()"
   ]
  },
  {
   "cell_type": "markdown",
   "metadata": {},
   "source": [
    "## 6. Exemplos\n",
    "---\n",
    "### 6.1. autômato celular A\n",
    "---"
   ]
  },
  {
   "cell_type": "code",
   "execution_count": null,
   "metadata": {},
   "outputs": [],
   "source": [
    "%%time\n",
    "gers = 128\n",
    "regra = 106\n",
    "raio = 1\n",
    "\n",
    "diametro = 2*raio + 1\n",
    "regra %= 2**2**diametro\n",
    "\n",
    "celulas = 512\n",
    "np.random.seed(sum(map(lambda c: ord(c), 'cellular automaton A')))\n",
    "ger0 = np.random.randint(0, 1 + 1, celulas).astype(np.float32)\n",
    "\n",
    "acA = automatoCelular(ger0, gers, regra, diametro)\n",
    "\n",
    "plt.imshow(acA, interpolation='none')\n",
    "titulo = 'Cellular Automaton A'\n",
    "titulo += ' | generations = {}'.format(gers)\n",
    "titulo += ' | rule = {}'.format(regra)\n",
    "titulo += ' | diameter = {}'.format(diametro)\n",
    "plt.title(titulo, fontsize=16)\n",
    "\n",
    "plt.xlabel('cells', fontsize=12)\n",
    "plt.ylabel('generations', fontsize=12)\n",
    "plt.show()"
   ]
  },
  {
   "cell_type": "markdown",
   "metadata": {},
   "source": [
    "### 6.2. autômato celular B\n",
    "---"
   ]
  },
  {
   "cell_type": "code",
   "execution_count": null,
   "metadata": {},
   "outputs": [],
   "source": [
    "%%time\n",
    "gers = 128\n",
    "regra = 137\n",
    "raio = 1\n",
    "\n",
    "diametro = 2*raio + 1\n",
    "regra %= 2**2**diametro\n",
    "\n",
    "celulas = 512\n",
    "np.random.seed(sum(map(lambda c: ord(c), 'cellular automaton B')))\n",
    "ger0 = np.random.randint(0, 1 + 1, celulas).astype(np.float32)\n",
    "\n",
    "acB = automatoCelular(ger0, gers, regra, diametro)\n",
    "\n",
    "plt.imshow(acB, interpolation='none')\n",
    "titulo = 'Cellular Automaton B'\n",
    "titulo += ' | generations = {}'.format(gers)\n",
    "titulo += ' | rule = {}'.format(regra)\n",
    "titulo += ' | diameter = {}'.format(diametro)\n",
    "plt.title(titulo, fontsize=16)\n",
    "\n",
    "plt.xlabel('cells', fontsize=12)\n",
    "plt.ylabel('generations', fontsize=12)\n",
    "plt.show()"
   ]
  },
  {
   "cell_type": "markdown",
   "metadata": {},
   "source": [
    "### 6.3. autômato celular C\n",
    "---"
   ]
  },
  {
   "cell_type": "code",
   "execution_count": null,
   "metadata": {},
   "outputs": [],
   "source": [
    "%%time\n",
    "gers = 128\n",
    "regra = 123456789987654321\n",
    "raio = 3\n",
    "\n",
    "diametro = 2*raio + 1\n",
    "regra %= 2**2**diametro\n",
    "\n",
    "celulas = 512\n",
    "np.random.seed(sum(map(lambda c: ord(c), 'cellular automaton C')))\n",
    "ger0 = np.random.randint(0, 1 + 1, celulas).astype(np.float32)\n",
    "\n",
    "acC = automatoCelular(ger0, gers, regra, diametro)\n",
    "\n",
    "plt.imshow(acC, interpolation='none')\n",
    "titulo = 'Cellular Automaton C'\n",
    "titulo += ' | generations = {}'.format(gers)\n",
    "titulo += ' | rule = {}'.format(regra)\n",
    "titulo += ' | diameter = {}'.format(diametro)\n",
    "plt.title(titulo, fontsize=16)\n",
    "\n",
    "plt.xlabel('cells', fontsize=12)\n",
    "plt.ylabel('generations', fontsize=12)\n",
    "plt.show()"
   ]
  }
 ],
 "metadata": {
  "kernelspec": {
   "display_name": "Python 3",
   "language": "python",
   "name": "python3"
  },
  "language_info": {
   "codemirror_mode": {
    "name": "ipython",
    "version": 3
   },
   "file_extension": ".py",
   "mimetype": "text/x-python",
   "name": "python",
   "nbconvert_exporter": "python",
   "pygments_lexer": "ipython3",
   "version": "3.7.7"
  }
 },
 "nbformat": 4,
 "nbformat_minor": 2
}
