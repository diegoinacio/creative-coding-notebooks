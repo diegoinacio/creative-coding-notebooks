{
 "cells": [
  {
   "cell_type": "markdown",
   "metadata": {},
   "source": [
    "# Cellular Automaton 2D\n",
    "---\n",
    "- Author: Diego Inácio\n",
    "- GitHub: [github.com/diegoinacio](https://github.com/diegoinacio)\n",
    "- Notebook: [cellularAutomaton2D.ipynb](https://github.com/diegoinacio/creative-coding-notebooks/blob/master/Simulation/cellularAutomaton2D.ipynb)\n",
    "---\n",
    "Implementation of an uni-dimensional cellular automata of binary values.\n",
    "\n",
    "<font color='#CC0000'>[<b>PT-BR</b> content]</font>\n",
    "\n",
    "Implementação de um autômato celular bidimensional em valores binários."
   ]
  },
  {
   "cell_type": "code",
   "execution_count": 1,
   "metadata": {},
   "outputs": [],
   "source": [
    "%matplotlib inline\n",
    "import matplotlib.pyplot as plt\n",
    "import matplotlib.animation as manim\n",
    "import numpy as np\n",
    "import imageio"
   ]
  },
  {
   "cell_type": "code",
   "execution_count": 2,
   "metadata": {},
   "outputs": [
    {
     "data": {
      "text/plain": [
       "<Figure size 1152x576 with 0 Axes>"
      ]
     },
     "metadata": {},
     "output_type": "display_data"
    }
   ],
   "source": [
    "plt.rcParams['figure.figsize'] = (16, 8)\n",
    "plt.set_cmap('gray')"
   ]
  },
  {
   "cell_type": "markdown",
   "metadata": {},
   "source": [
    "## 1. Definição da lista de regra\n",
    "---\n",
    "A função ***conjRegras*** resulta em uma lista de regras para definição de novos estados para as células centrais em gerações posteriores, com base em uma vizinhança definida por uma area ou kernel. Se uma célula tem *raio* igual a **1**, seu diâmetro será **3** e sua *area* igual a **9**. Para uma vizinhança de area **9** existem $2^9=512$ padrões possíveis e $2^{512}$ (valor com mais de 150 dígitos) possibilidades de regras.\n",
    "\n",
    "\n",
    "- Autômato celular com regra **35**\n",
    "\n",
    "| x                                     | 511     | ...     | 11      | ...     | 5       | ...     | 1       | 0       |\n",
    "|---------------------------------------|---------|---------|---------|---------|---------|---------|---------|---------|\n",
    "| **estado atual**                      |111111111| ...     |000001011| ...     |000000101| ...     |000000001|000000000|\n",
    "| **novo estado para células centrais** | 0       | 0       | 0       | 0       | 1       | 0       | 1       | 1       |\n",
    "\n",
    "- Autômato celular com regra **2051**\n",
    "\n",
    "| x                                     | 511     | ...     | 11      | ...     | 5       | ...     | 1       | 0       |\n",
    "|---------------------------------------|---------|---------|---------|---------|---------|---------|---------|---------|\n",
    "| **estado atual**                      |111111111| ...     |000001011| ...     |000000101| ...     |000000001|000000000|\n",
    "| **novo estado para células centrais** | 0       | 0       | 1       | 0       | 0       | 0       | 1       | 1       |"
   ]
  },
  {
   "cell_type": "code",
   "execution_count": 3,
   "metadata": {},
   "outputs": [],
   "source": [
    "def conjRegras(regra, area):\n",
    "    tamanho = 2**area\n",
    "    bits = list('{0:0{1}b}'.format(regra, tamanho)[::-1])\n",
    "    resultado = np.array(bits, dtype=np.int)\n",
    "    return resultado"
   ]
  },
  {
   "cell_type": "markdown",
   "metadata": {},
   "source": [
    "## 2. Tabela de regras\n",
    "---\n",
    "A função ***conjRegras_tab*** define a tabela de regras para visualização."
   ]
  },
  {
   "cell_type": "code",
   "execution_count": 4,
   "metadata": {},
   "outputs": [],
   "source": [
    "def conjRegras_tab(regra, area, disp=(8, 2)):\n",
    "    '''\n",
    "    Define a tabela do conjunto de regras\n",
    "    '''\n",
    "    raio = int(area**0.5/2)\n",
    "    diametro = 2*raio + 1\n",
    "    s, t = disp\n",
    "    S, T = s*(diametro + 1), t*(diametro + 2)\n",
    "    crt = np.ones((T, S), np.float32)*0.25\n",
    "    crList = conjRegras(regra, area)\n",
    "    total = 2**area\n",
    "    indices = np.linspace(0, total - 1, s*t, dtype=np.int32)\n",
    "    for j in range(t):\n",
    "        for i in range(s):\n",
    "            try:\n",
    "                indice = indices[i + j*s]\n",
    "                bits = list('{0:0{1}b}'.format(indice, area))\n",
    "                bits = np.array(bits, dtype=np.int).reshape((diametro, diametro))\n",
    "                iro = (diametro + 1)*i\n",
    "                iri = iro + diametro\n",
    "                jro = (diametro + 2)*j\n",
    "                jri = jro + diametro\n",
    "                crt[jro:jri, iro:iri] = bits\n",
    "                crt[jri, iro + raio] = crList[indice]\n",
    "            except:\n",
    "                pass\n",
    "    return crt[:-1, :-1]"
   ]
  },
  {
   "cell_type": "markdown",
   "metadata": {},
   "source": [
    "## 3. Definição do autômato celular\n",
    "---\n",
    "Gera autômato celular a partir da geração 0."
   ]
  },
  {
   "cell_type": "code",
   "execution_count": 5,
   "metadata": {},
   "outputs": [],
   "source": [
    "def automatoCelular(ger, regra, area):\n",
    "    '''\n",
    "    Gera autômato celular\n",
    "    '''\n",
    "    t, s = ger.shape\n",
    "    resultado = np.zeros((t, s), np.float32)\n",
    "    raio = int(area**0.5/2)\n",
    "    diametro = 2*raio + 1\n",
    "    novoEstado = conjRegras(regra, area)\n",
    "    for j, i in np.ndindex(ger.shape):\n",
    "        roll = [- j + raio, - i + raio]\n",
    "        vizinhanca = np.roll(ger, roll, axis=(0, 1))[:diametro, :diametro]\n",
    "        binario = ''.join(map(str, vizinhanca.ravel().astype(int)))\n",
    "        indice = int(binario, 2)\n",
    "        resultado[j, i] = novoEstado[indice]\n",
    "    return resultado"
   ]
  },
  {
   "cell_type": "markdown",
   "metadata": {},
   "source": [
    "## 4. Autômato\n",
    "---"
   ]
  },
  {
   "cell_type": "code",
   "execution_count": 6,
   "metadata": {},
   "outputs": [
    {
     "name": "stdout",
     "output_type": "stream",
     "text": [
      "Wall time: 1 ms\n"
     ]
    }
   ],
   "source": [
    "%%time\n",
    "# Parâmetros\n",
    "raio = 1\n",
    "area = (2*raio + 1)**2\n",
    "tamanho = 2**area\n",
    "np.random.seed(sum(map(lambda c: ord(c), 'automato celular')))\n",
    "N = int(tamanho*0.25)\n",
    "regra = np.array([1]*N + [0]*(tamanho - N))\n",
    "np.random.shuffle(regra)\n",
    "regra[0], regra[-1] = 0, 0\n",
    "regra = int(''.join([str(e) for e in regra]), 2)\n",
    "\n",
    "# Incialização da geração 0\n",
    "celulas = (32, 128)\n",
    "ger0 = np.random.random(celulas) > 0.99"
   ]
  },
  {
   "cell_type": "markdown",
   "metadata": {},
   "source": [
    "## 5. Visualização\n",
    "---\n",
    "### 5.1. Visualização do autômato\n",
    "---"
   ]
  },
  {
   "cell_type": "code",
   "execution_count": 7,
   "metadata": {},
   "outputs": [
    {
     "name": "stderr",
     "output_type": "stream",
     "text": [
      "MovieWriter imagemagick unavailable.\n"
     ]
    },
    {
     "name": "stdout",
     "output_type": "stream",
     "text": [
      "GIF exported and reconverted. Disregard the message above.\n",
      "Wall time: 32.8 s\n"
     ]
    }
   ],
   "source": [
    "%%time\n",
    "fig, ax = plt.subplots(figsize=(2048//72, 512//72))\n",
    "\n",
    "ger1 = ger0.copy()\n",
    "def animation(frame):\n",
    "    plt.cla()\n",
    "    gen = frame\n",
    "    imshow = ax.imshow(ger1, interpolation='none')\n",
    "    ger1[:] = automatoCelular(ger1, regra, area)\n",
    "    ax.set_title('Cellular Automaton 2D | generation {:04}'.format(gen), fontsize=24)\n",
    "    plt.tight_layout()\n",
    "    return imshow\n",
    "\n",
    "anim = manim.FuncAnimation(fig, animation, frames=64, interval=100)\n",
    "\n",
    "anim.save('output/NLDC_cellularAutomaton2D_anim.gif', writer=\"imagemagick\", extra_args=\"convert\")\n",
    "plt.close()\n",
    "\n",
    "# Solve repetition problem\n",
    "! magick convert _output/NLDC_cellularAutomaton2D_anim.gif -loop 0 _output/NLDC_cellularAutomaton2D_anim.gif\n",
    "! echo GIF exported and reconverted. Disregard the message above."
   ]
  },
  {
   "cell_type": "markdown",
   "metadata": {},
   "source": [
    "![cellular automaton 2D](output/NLDC_cellularAutomaton2D_anim.gif \"Cellular Automaton 2D\")"
   ]
  },
  {
   "cell_type": "markdown",
   "metadata": {},
   "source": [
    "### 5.2. Visualização da tabela de regra\n",
    "---"
   ]
  },
  {
   "cell_type": "code",
   "execution_count": 8,
   "metadata": {
    "scrolled": true
   },
   "outputs": [
    {
     "data": {
      "image/png": "[encoded data removed]",
      "text/plain": [
       "<Figure size 1152x576 with 1 Axes>"
      ]
     },
     "metadata": {
      "needs_background": "light"
     },
     "output_type": "display_data"
    }
   ],
   "source": [
    "crt = conjRegras_tab(regra, area)\n",
    "plt.imshow(crt, interpolation='none')\n",
    "plt.axis('off')\n",
    "titulo = 'rule = {}'.format(regra)\n",
    "plt.title(titulo, fontsize=8)\n",
    "plt.show()"
   ]
  },
  {
   "cell_type": "markdown",
   "metadata": {},
   "source": [
    "## 6. Exemplos\n",
    "---\n",
    "### 6.1. autômato celular A\n",
    "---"
   ]
  },
  {
   "cell_type": "code",
   "execution_count": 9,
   "metadata": {},
   "outputs": [
    {
     "name": "stderr",
     "output_type": "stream",
     "text": [
      "MovieWriter imagemagick unavailable.\n"
     ]
    },
    {
     "name": "stdout",
     "output_type": "stream",
     "text": [
      "GIF exported and reconverted. Disregard the message above.\n",
      "Wall time: 31.7 s\n"
     ]
    }
   ],
   "source": [
    "%%time\n",
    "# Parâmetros\n",
    "raio = 1\n",
    "area = (2*raio + 1)**2\n",
    "tamanho = 2**area\n",
    "np.random.seed(sum(map(lambda c: ord(c), 'automato celular A 123')))\n",
    "N = int(tamanho*0.123)\n",
    "regra = np.array([1]*N + [0]*(tamanho - N))\n",
    "np.random.shuffle(regra)\n",
    "regra[0], regra[-1] = 0, 0\n",
    "regra = int(''.join([str(e) for e in regra]), 2)\n",
    "\n",
    "# Incialização da geração 0\n",
    "celulas = (32, 128)\n",
    "ger0 = np.random.random(celulas) > 0.99\n",
    "\n",
    "fig, ax = plt.subplots(figsize=(2048//72, 512//72))\n",
    "\n",
    "ger1 = ger0.copy()\n",
    "def animation(frame):\n",
    "    plt.cla()\n",
    "    gen = frame\n",
    "    imshow = ax.imshow(ger1, interpolation='none')\n",
    "    ger1[:] = automatoCelular(ger1, regra, area)\n",
    "    ax.set_title('Cellular Automaton 2D A | generation {:04}'.format(gen), fontsize=24)\n",
    "    plt.tight_layout()\n",
    "    return imshow\n",
    "\n",
    "anim = manim.FuncAnimation(fig, animation, frames=64, interval=100)\n",
    "\n",
    "anim.save('output/NLDC_cellularAutomaton2D_animA.gif', writer=\"imagemagick\", extra_args=\"convert\")\n",
    "plt.close()\n",
    "\n",
    "# Solve repetition problem\n",
    "! magick convert _output/NLDC_cellularAutomaton2D_animA.gif -loop 0 _output/NLDC_cellularAutomaton2D_animA.gif\n",
    "! echo GIF exported and reconverted. Disregard the message above."
   ]
  },
  {
   "cell_type": "markdown",
   "metadata": {},
   "source": [
    "![cellular automaton 2D A](output/NLDC_cellularAutomaton2D_animA.gif \"Cellular Automaton 2D A\")"
   ]
  },
  {
   "cell_type": "markdown",
   "metadata": {},
   "source": [
    "### 6.2. autômato celular B\n",
    "---"
   ]
  },
  {
   "cell_type": "code",
   "execution_count": 10,
   "metadata": {},
   "outputs": [
    {
     "name": "stderr",
     "output_type": "stream",
     "text": [
      "MovieWriter imagemagick unavailable.\n"
     ]
    },
    {
     "name": "stdout",
     "output_type": "stream",
     "text": [
      "GIF exported and reconverted. Disregard the message above.\n",
      "Wall time: 31.1 s\n"
     ]
    }
   ],
   "source": [
    "%%time\n",
    "# Parâmetros\n",
    "raio = 1\n",
    "area = (2*raio + 1)**2\n",
    "tamanho = 2**area\n",
    "np.random.seed(sum(map(lambda c: ord(c), 'automato celular B 234')))\n",
    "N = int(tamanho*0.234)\n",
    "regra = np.array([1]*N + [0]*(tamanho - N))\n",
    "np.random.shuffle(regra)\n",
    "regra[0], regra[-1] = 0, 0\n",
    "regra = int(''.join([str(e) for e in regra]), 2)\n",
    "\n",
    "# Incialização da geração 0\n",
    "celulas = (32, 128)\n",
    "ger0 = np.random.random(celulas) > 0.99\n",
    "\n",
    "fig, ax = plt.subplots(figsize=(2048//72, 512//72))\n",
    "\n",
    "ger1 = ger0.copy()\n",
    "def animation(frame):\n",
    "    plt.cla()\n",
    "    gen = frame\n",
    "    imshow = ax.imshow(ger1, interpolation='none')\n",
    "    ger1[:] = automatoCelular(ger1, regra, area)\n",
    "    ax.set_title('Cellular Automaton 2D B | generation {:04}'.format(gen), fontsize=24)\n",
    "    plt.tight_layout()\n",
    "    return imshow\n",
    "\n",
    "anim = manim.FuncAnimation(fig, animation, frames=64, interval=100)\n",
    "\n",
    "anim.save('output/NLDC_cellularAutomaton2D_animB.gif', writer=\"imagemagick\", extra_args=\"convert\")\n",
    "plt.close()\n",
    "\n",
    "# Solve repetition problem\n",
    "! magick convert _output/NLDC_cellularAutomaton2D_animB.gif -loop 0 _output/NLDC_cellularAutomaton2D_animB.gif\n",
    "! echo GIF exported and reconverted. Disregard the message above."
   ]
  },
  {
   "cell_type": "markdown",
   "metadata": {},
   "source": [
    "![cellular automaton 2D B](output/NLDC_cellularAutomaton2D_animB.gif \"Cellular Automaton 2D B\")"
   ]
  },
  {
   "cell_type": "markdown",
   "metadata": {},
   "source": [
    "### 6.3. autômato celular C\n",
    "---"
   ]
  },
  {
   "cell_type": "code",
   "execution_count": 11,
   "metadata": {},
   "outputs": [
    {
     "name": "stderr",
     "output_type": "stream",
     "text": [
      "MovieWriter imagemagick unavailable.\n"
     ]
    },
    {
     "name": "stdout",
     "output_type": "stream",
     "text": [
      "GIF exported and reconverted. Disregard the message above.\n",
      "Wall time: 31.3 s\n"
     ]
    }
   ],
   "source": [
    "%%time\n",
    "# Parâmetros\n",
    "raio = 1\n",
    "area = (2*raio + 1)**2\n",
    "tamanho = 2**area\n",
    "np.random.seed(sum(map(lambda c: ord(c), 'automato celular C 345')))\n",
    "N = int(tamanho*0.345)\n",
    "regra = np.array([1]*N + [0]*(tamanho - N))\n",
    "np.random.shuffle(regra)\n",
    "regra[0], regra[-1] = 0, 0\n",
    "regra = int(''.join([str(e) for e in regra]), 2)\n",
    "\n",
    "# Incialização da geração 0\n",
    "celulas = (32, 128)\n",
    "ger0 = np.random.random(celulas) > 0.99\n",
    "\n",
    "fig, ax = plt.subplots(figsize=(2048//72, 512//72))\n",
    "\n",
    "ger1 = ger0.copy()\n",
    "def animation(frame):\n",
    "    plt.cla()\n",
    "    gen = frame\n",
    "    imshow = ax.imshow(ger1, interpolation='none')\n",
    "    ger1[:] = automatoCelular(ger1, regra, area)\n",
    "    ax.set_title('Cellular Automaton 2D C | generation {:04}'.format(gen), fontsize=24)\n",
    "    plt.tight_layout()\n",
    "    return imshow\n",
    "\n",
    "anim = manim.FuncAnimation(fig, animation, frames=64, interval=100)\n",
    "\n",
    "anim.save('output/NLDC_cellularAutomaton2D_animC.gif', writer=\"imagemagick\", extra_args=\"convert\")\n",
    "plt.close()\n",
    "\n",
    "# Solve repetition problem\n",
    "! magick convert _output/NLDC_cellularAutomaton2D_animC.gif -loop 0 _output/NLDC_cellularAutomaton2D_animC.gif\n",
    "! echo GIF exported and reconverted. Disregard the message above."
   ]
  },
  {
   "cell_type": "markdown",
   "metadata": {},
   "source": [
    "![cellular automaton 2D C](output/NLDC_cellularAutomaton2D_animC.gif \"Cellular Automaton 2D C\")"
   ]
  }
 ],
 "metadata": {
  "kernelspec": {
   "display_name": "Python 3",
   "language": "python",
   "name": "python3"
  },
  "language_info": {
   "codemirror_mode": {
    "name": "ipython",
    "version": 3
   },
   "file_extension": ".py",
   "mimetype": "text/x-python",
   "name": "python",
   "nbconvert_exporter": "python",
   "pygments_lexer": "ipython3",
   "version": "3.7.7"
  }
 },
 "nbformat": 4,
 "nbformat_minor": 2
}
