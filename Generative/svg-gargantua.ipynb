{
 "cells": [
  {
   "cell_type": "markdown",
   "metadata": {},
   "source": [
    "# Gargantua\n",
    "---\n",
    "- Author: Diego Inácio\n",
    "- GitHub: [github.com/diegoinacio](https://github.com/diegoinacio)\n",
    "- Notebook: [svg-gargantua.ipynb](https://github.com/diegoinacio/creative-coding-notebooks/blob/master/Generative/svg-gargantua.ipynb)\n",
    "---\n",
    "A stylized representation of the *Gargantua* black hole in *SVG* graphics."
   ]
  },
  {
   "cell_type": "code",
   "execution_count": null,
   "metadata": {},
   "outputs": [],
   "source": [
    "%matplotlib inline\n",
    "import matplotlib.pyplot as plt\n",
    "import numpy as np"
   ]
  },
  {
   "cell_type": "markdown",
   "metadata": {},
   "source": [
    "## Useful functions\n",
    "---"
   ]
  },
  {
   "cell_type": "code",
   "execution_count": null,
   "metadata": {},
   "outputs": [],
   "source": [
    "def display_svg(data):\n",
    "    from IPython.display import SVG, display\n",
    "    display(SVG(data))"
   ]
  },
  {
   "cell_type": "code",
   "execution_count": null,
   "metadata": {},
   "outputs": [],
   "source": [
    "def export_svg(data, filename):\n",
    "    f = open(f'{filename}.svg', \"w\")\n",
    "    f.write(data)\n",
    "    f.close()"
   ]
  },
  {
   "cell_type": "markdown",
   "metadata": {},
   "source": [
    "# Build SVG\n",
    "---"
   ]
  },
  {
   "cell_type": "code",
   "execution_count": null,
   "metadata": {},
   "outputs": [],
   "source": [
    "WIDTH = 360\n",
    "HEIGHT = 480"
   ]
  },
  {
   "cell_type": "code",
   "execution_count": null,
   "metadata": {},
   "outputs": [],
   "source": [
    "SVG = '<?xml version=\"1.0\" encoding=\"utf-8\"?>\\n'\n",
    "SVG += '<!DOCTYPE svg PUBLIC \"-//W3C//DTD SVG 1.1//EN\" \"http://www.w3.org/Graphics/SVG/1.1/DTD/svg11.dtd\">\\n'"
   ]
  },
  {
   "cell_type": "code",
   "execution_count": null,
   "metadata": {},
   "outputs": [],
   "source": [
    "SVG += f'<svg id=\"image\" width=\"{WIDTH}px\" height=\"{HEIGHT}px\" xmlns=\"http://www.w3.org/2000/svg\" xmlns:xlink=\"http://www.w3.org/1999/xlink\">'"
   ]
  },
  {
   "cell_type": "markdown",
   "metadata": {},
   "source": [
    "## References definition\n",
    "---"
   ]
  },
  {
   "cell_type": "code",
   "execution_count": null,
   "metadata": {},
   "outputs": [],
   "source": [
    "SVG += '''\n",
    "\n",
    "  <defs>\n",
    "    <!-- ! Gradients -->\n",
    "    <linearGradient id=\"BG-grad1\" x1=\"0%\" y1=\"0%\" x2=\"0%\" y2=\"100%\">\n",
    "      <stop offset=\"0%\" stop-color=\"rgb(0,0,0)\" stop-opacity=\"1\" />\n",
    "      <stop offset=\"50%\" stop-color=\"rgb(5,15,30)\" stop-opacity=\"1\" />\n",
    "      <stop offset=\"100%\" stop-color=\"rgb(15,30,40)\" stop-opacity=\"1\" />\n",
    "    </linearGradient>\n",
    "    <radialGradient id=\"BG-grad2\" cx=\"198\" cy=\"216\" r=\"250\" gradientUnits=\"userSpaceOnUse\">\n",
    "      <stop offset=\"0%\" stop-color=\"rgb(255,255,255)\" stop-opacity=\"1\" />\n",
    "      <stop offset=\"100%\" stop-color=\"rgb(0,0,0)\" stop-opacity=\"1\" />\n",
    "    </radialGradient>\n",
    "    <radialGradient id=\"BH-grad1\" cx=\"0.5\" cy=\"0.5\" r=\"0.5\">\n",
    "      <stop offset=\"0%\" stop-color=\"rgb(0,0,0)\" stop-opacity=\"1\" />\n",
    "      <stop offset=\"100%\" stop-color=\"rgb(30,30,30)\" stop-opacity=\"1\" />\n",
    "    </radialGradient>\n",
    "    <radialGradient id=\"planet-umbra\" cx=\"0.25\" cy=\"0.65\" r=\"0.7\">\n",
    "      <stop offset=\"0%\" stop-color=\"rgb(0,0,0)\" stop-opacity=\"1\" />\n",
    "      <stop offset=\"90%\" stop-color=\"rgb(80,60,40)\" stop-opacity=\"1\" />\n",
    "      <stop offset=\"100%\" stop-color=\"rgb(255,255,255)\" stop-opacity=\"1\" />\n",
    "    </radialGradient>\n",
    "    <radialGradient id=\"planet-atm\" cx=\"1\" cy=\"0.25\" r=\"1\">\n",
    "      <stop offset=\"0%\" stop-color=\"rgb(255,200,180)\" stop-opacity=\"1\" />\n",
    "      <stop offset=\"30%\" stop-color=\"rgb(100,130,150)\" stop-opacity=\"1\" />\n",
    "      <stop offset=\"100%\" stop-color=\"rgb(10,20,30)\" stop-opacity=\"1\" />\n",
    "    </radialGradient>\n",
    "    <!-- ! Filters -->\n",
    "    <filter id=\"BH-photo-ring-red\" x=\"-20%\" y=\"-20%\" width=\"140%\" height=\"140%\">\n",
    "      <feGaussianBlur stdDeviation=\"3 3\" in=\"SourceGraphic\" edgeMode=\"none\" result=\"blur1\" />\n",
    "      <feTurbulence type=\"turbulence\" baseFrequency=\"0.1\" numOctaves=\"2\" seed=\"1\" stitchTiles=\"stitch\" result=\"turbulence1\" />\n",
    "      <feOffset in=\"turbulence1\" result=\"turbulence-dy1\">\n",
    "        <animate attributeName=\"dy\" values=\"0;-140\" dur=\"10s\" repeatCount=\"indefinite\" />\n",
    "      </feOffset>\n",
    "      <feOffset in=\"turbulence1\" result=\"turbulence-dy2\">\n",
    "        <animate attributeName=\"dy\" values=\"140;0\" dur=\"10s\" repeatCount=\"indefinite\" />\n",
    "      </feOffset>\n",
    "      <feMerge result=\"merge1\">\n",
    "        <feMergeNode in=\"turbulence-dy1\" />\n",
    "        <feMergeNode in=\"turbulence-dy2\" />\n",
    "      </feMerge>\n",
    "      <feComposite in=\"merge1\" in2=\"blur1\" operator=\"in\" result=\"composite1\" />\n",
    "      <feColorMatrix\n",
    "        type=\"matrix\" \n",
    "        values=\"1 0 0 0 0\n",
    "                0 1 0 0 0\n",
    "                0 0 1 0 0\n",
    "                0 0 0 60 -4\"\n",
    "        in=\"composite\"\n",
    "        result=\"colormatrix1\"/>\n",
    "      <feFlood flood-color=\"rgb(255,0,55)\" flood-opacity=\"1\" result=\"flood1\" />\n",
    "      <feComposite in=\"flood1\" in2=\"colormatrix1\" operator=\"in\" result=\"composite2\" />\n",
    "      <feGaussianBlur stdDeviation=\"3 3\" in=\"composite2\" edgeMode=\"none\" result=\"blur2\" />\n",
    "      <feColorMatrix\n",
    "        type=\"matrix\" \n",
    "        values=\"1 0 0 0 0\n",
    "                0 1 0 0 0\n",
    "                0 0 1 0 0\n",
    "                0 0 0 15 -6\"\n",
    "        in=\"blur2\"\n",
    "        result=\"colormatrix2\" />\n",
    "    </filter>\n",
    "    <filter id=\"BH-photo-ring-green\" x=\"-20%\" y=\"-20%\" width=\"140%\" height=\"140%\">\n",
    "      <feGaussianBlur stdDeviation=\"3 3\" in=\"SourceGraphic\" edgeMode=\"none\" result=\"blur1\" />\n",
    "      <feTurbulence type=\"turbulence\" baseFrequency=\"0.1\" numOctaves=\"2\" seed=\"2\" stitchTiles=\"stitch\" result=\"turbulence1\" />\n",
    "      <feOffset in=\"turbulence1\" result=\"turbulence-dy1\">\n",
    "        <animate attributeName=\"dy\" values=\"0;-140\" dur=\"10s\" repeatCount=\"indefinite\" />\n",
    "      </feOffset>\n",
    "      <feOffset in=\"turbulence1\" result=\"turbulence-dy2\">\n",
    "        <animate attributeName=\"dy\" values=\"140;0\" dur=\"10s\" repeatCount=\"indefinite\" />\n",
    "      </feOffset>\n",
    "      <feMerge result=\"merge1\">\n",
    "        <feMergeNode in=\"turbulence-dy1\" />\n",
    "        <feMergeNode in=\"turbulence-dy2\" />\n",
    "      </feMerge>\n",
    "      <feComposite in=\"merge1\" in2=\"blur1\" operator=\"in\" result=\"composite1\" />\n",
    "      <feColorMatrix\n",
    "        type=\"matrix\" \n",
    "        values=\"1 0 0 0 0\n",
    "                0 1 0 0 0\n",
    "                0 0 1 0 0\n",
    "                0 0 0 60 -4\"\n",
    "        in=\"composite\"\n",
    "        result=\"colormatrix1\"/>\n",
    "      <feFlood flood-color=\"rgb(55,255,0)\" flood-opacity=\"1\" result=\"flood1\" />\n",
    "      <feComposite in=\"flood1\" in2=\"colormatrix1\" operator=\"in\" result=\"composite2\" />\n",
    "      <feGaussianBlur stdDeviation=\"3 3\" in=\"composite2\" edgeMode=\"none\" result=\"blur2\" />\n",
    "      <feColorMatrix\n",
    "        type=\"matrix\" \n",
    "        values=\"1 0 0 0 0\n",
    "                0 1 0 0 0\n",
    "                0 0 1 0 0\n",
    "                0 0 0 15 -6\"\n",
    "        in=\"blur2\"\n",
    "        result=\"colormatrix2\" />\n",
    "    </filter>\n",
    "    <filter id=\"BH-photo-ring-blue\" x=\"-20%\" y=\"-20%\" width=\"140%\" height=\"140%\">\n",
    "      <feGaussianBlur stdDeviation=\"3 3\" in=\"SourceGraphic\" edgeMode=\"none\" result=\"blur1\" />\n",
    "      <feTurbulence type=\"turbulence\" baseFrequency=\"0.1\" numOctaves=\"2\" seed=\"3\" stitchTiles=\"stitch\" result=\"turbulence1\" />\n",
    "      <feOffset in=\"turbulence1\" result=\"turbulence-dy1\">\n",
    "        <animate attributeName=\"dy\" values=\"0;-140\" dur=\"10s\" repeatCount=\"indefinite\" />\n",
    "      </feOffset>\n",
    "      <feOffset in=\"turbulence1\" result=\"turbulence-dy2\">\n",
    "        <animate attributeName=\"dy\" values=\"140;0\" dur=\"10s\" repeatCount=\"indefinite\" />\n",
    "      </feOffset>\n",
    "      <feMerge result=\"merge1\">\n",
    "        <feMergeNode in=\"turbulence-dy1\" />\n",
    "        <feMergeNode in=\"turbulence-dy2\" />\n",
    "      </feMerge>\n",
    "      <feComposite in=\"merge1\" in2=\"blur1\" operator=\"in\" result=\"composite1\" />\n",
    "      <feColorMatrix\n",
    "        type=\"matrix\" \n",
    "        values=\"1 0 0 0 0\n",
    "                0 1 0 0 0\n",
    "                0 0 1 0 0\n",
    "                0 0 0 60 -4\"\n",
    "        in=\"composite\"\n",
    "        result=\"colormatrix1\"/>\n",
    "      <feFlood flood-color=\"rgb(0,55,255)\" flood-opacity=\"1\" result=\"flood1\" />\n",
    "      <feComposite in=\"flood1\" in2=\"colormatrix1\" operator=\"in\" result=\"composite2\" />\n",
    "      <feGaussianBlur stdDeviation=\"3 3\" in=\"composite2\" edgeMode=\"none\" result=\"blur2\" />\n",
    "      <feColorMatrix\n",
    "        type=\"matrix\" \n",
    "        values=\"1 0 0 0 0\n",
    "                0 1 0 0 0\n",
    "                0 0 1 0 0\n",
    "                0 0 0 15 -6\"\n",
    "        in=\"blur2\"\n",
    "        result=\"colormatrix2\" />\n",
    "    </filter>\n",
    "    <filter id=\"BH-photo-ring-glow\" x=\"-20%\" y=\"-20%\" width=\"140%\" height=\"140%\">\n",
    "      <feGaussianBlur stdDeviation=\"15 3\" in=\"SourceGraphic\" edgeMode=\"none\" result=\"blur1\" />\n",
    "      <feGaussianBlur stdDeviation=\"10 1\" in=\"SourceGraphic\" edgeMode=\"none\" result=\"blur2\" />\n",
    "      <feBlend in=\"SourceGraphic\" in2=\"blur1\" mode=\"screen\" result=\"blend1\" />\n",
    "      <feBlend in=\"SourceGraphic\" in2=\"blur2\" mode=\"screen\" result=\"blend2\" />\n",
    "      <feMerge result=\"merge1\">\n",
    "        <feMergeNode in=\"blend1\" />\n",
    "        <feMergeNode in=\"blend2\" />\n",
    "      </feMerge>\n",
    "    </filter>\n",
    "    <filter id=\"planet-shader\" x=\"-20%\" y=\"-20%\" width=\"140%\" height=\"140%\">\n",
    "      <feTurbulence type=\"turbulence\" baseFrequency=\"0.2\" numOctaves=\"2\" seed=\"3\" stitchTiles=\"stitch\" result=\"turbulence1\" />\n",
    "      <feOffset in=\"turbulence1\" result=\"turbulence-dxA1\">\n",
    "        <animate attributeName=\"dx\" values=\"42;0\" dur=\"15\" begin=\"-7\" repeatCount=\"indefinite\" />\n",
    "      </feOffset>\n",
    "      <feOffset in=\"turbulence1\" result=\"turbulence-dxA2\">\n",
    "        <animate attributeName=\"dx\" values=\"0;-42\" dur=\"15\" begin=\"-7\" repeatCount=\"indefinite\" />\n",
    "      </feOffset>\n",
    "      <feMerge result=\"mergeA\">\n",
    "        <feMergeNode in=\"turbulence-dxA1\" />\n",
    "        <feMergeNode in=\"turbulence-dxA2\" />\n",
    "      </feMerge>\n",
    "      <feOffset in=\"turbulence1\" result=\"turbulence-dxB1\">\n",
    "        <animate attributeName=\"dx\" values=\"42;0\" dur=\"15\" begin=\"-13\" repeatCount=\"indefinite\" />\n",
    "      </feOffset>\n",
    "      <feOffset in=\"turbulence1\" result=\"turbulence-dxB2\">\n",
    "        <animate attributeName=\"dx\" values=\"0;-42\" dur=\"15\" begin=\"-13\" repeatCount=\"indefinite\" />\n",
    "      </feOffset>\n",
    "      <feMerge result=\"mergeB\">\n",
    "        <feMergeNode in=\"turbulence-dxB1\" />\n",
    "        <feMergeNode in=\"turbulence-dxB2\" />\n",
    "      </feMerge>\n",
    "      <feColorMatrix\n",
    "        type=\"matrix\" \n",
    "        values=\"1 0 0 0 0\n",
    "                0.3 0 0 0 0\n",
    "                0 0 0 0 0\n",
    "                0 0 0 20 -4\"\n",
    "        in=\"mergeA\"\n",
    "        result=\"colormatrixA\" />\n",
    "      <feColorMatrix\n",
    "        type=\"matrix\" \n",
    "        values=\"0 0.3 0 0 0\n",
    "                0 1 0 0 0\n",
    "                0 0 0 0 0\n",
    "                0 0 0 20 -4\"\n",
    "        in=\"mergeB\"\n",
    "        result=\"colormatrixB\" />\n",
    "      <feFlood flood-color=\"rgb(100,120,150)\" flood-opacity=\"1\" result=\"flood1\" />\n",
    "      <feComposite in=\"flood1\" in2=\"colormatrixA\" result=\"compositeA\" operator=\"arithmetic\" k1=\"0\" k2=\"1\" k3=\"1\" k4=\"0\" />\n",
    "      <feComposite in=\"compositeA\" in2=\"colormatrixB\" result=\"compositeB\" operator=\"arithmetic\" k1=\"0\" k2=\"1\" k3=\"1\" k4=\"0\" />\n",
    "      <feComposite in=\"compositeB\" in2=\"SourceAlpha\" result=\"compositeC\" operator=\"in\" />\n",
    "    </filter>\n",
    "    <filter id=\"planet-atm-blur\" x=\"-20%\" y=\"-20%\" width=\"140%\" height=\"140%\">\n",
    "      <feGaussianBlur stdDeviation=\"1 1\" in=\"SourceGraphic\" edgeMode=\"none\" result=\"blur1\" />\n",
    "    </filter>\n",
    "    <!-- ! Symbols -->\n",
    "    <!-- ! Patterns -->\n",
    "  </defs>\n",
    "\n",
    "'''"
   ]
  },
  {
   "cell_type": "code",
   "execution_count": null,
   "metadata": {},
   "outputs": [],
   "source": [
    "# Background colorization\n",
    "SVG += '  <!-- ! Background gradients -->\\n'\n",
    "SVG += '  <rect id=\"BG\" width=\"100%\" height=\"100%\" fill=\"url(#BG-grad1)\" />\\n'\n",
    "SVG += '  <rect id=\"BG\" width=\"100%\" height=\"100%\" fill=\"url(#BG-grad2)\" style=\"mix-blend-mode: screen;\" opacity=\"0.2\" />\\n\\n'"
   ]
  },
  {
   "cell_type": "markdown",
   "metadata": {},
   "source": [
    "## Fixed stars 01\n",
    "---"
   ]
  },
  {
   "cell_type": "code",
   "execution_count": null,
   "metadata": {},
   "outputs": [],
   "source": [
    "fig, ax = plt.subplots(1, 1, figsize=(36/5, 48/5))\n",
    "\n",
    "N = 10\n",
    "np.random.seed(sum([ord(e) for e in list('Fixed Stars 01')]))\n",
    "x = np.random.random(N)*WIDTH\n",
    "y = np.random.random(N)*HEIGHT\n",
    "\n",
    "ax.scatter(x, HEIGHT - y)\n",
    "ax.set_xlim([0, WIDTH])\n",
    "ax.set_ylim([0, HEIGHT])\n",
    "\n",
    "plt.show()"
   ]
  },
  {
   "cell_type": "code",
   "execution_count": null,
   "metadata": {},
   "outputs": [],
   "source": [
    "SVG += '  <!-- ! Fixed stars 01 -->\\n'\n",
    "SVG += '  <g id=\"fixed-stars01\">\\n'\n",
    "\n",
    "maxdur = 10\n",
    "\n",
    "np.random.seed(sum([ord(e) for e in list('Fixed Stars 01')]))\n",
    "for i in range(N):\n",
    "    r = 0.75 + np.random.random()*0.75\n",
    "    h = [0, 220][np.random.randint(2)] + np.random.random()*40 - 20\n",
    "    SVG += f'    <circle cx=\"{x[i]:.02f}\" cy=\"{y[i]:.02f}\" r=\"{r:.02f}\" fill=\"hsl({h:.02f}, 70%, 70%)\">\\n'\n",
    "    offset = np.random.random()*maxdur\n",
    "    SVG += f'      <animate attributeName=\"opacity\" values=\"1;0.5;0.75;0.25;0.75;0.5;1\" dur=\"{maxdur}s\" begin=\"-{offset:.02f}s\" repeatCount=\"indefinite\" />\\n'\n",
    "    SVG += f'    </circle>\\n'\n",
    "\n",
    "SVG += '  </g>\\n\\n'"
   ]
  },
  {
   "cell_type": "markdown",
   "metadata": {},
   "source": [
    "## Falling debris 01\n",
    "---"
   ]
  },
  {
   "cell_type": "code",
   "execution_count": null,
   "metadata": {},
   "outputs": [],
   "source": [
    "fig, ax = plt.subplots(1, 1, figsize=(36/5, 48/5))\n",
    "\n",
    "N = 8\n",
    "np.random.seed(sum([ord(e) for e in list('Falling debris 01')]))\n",
    "x = np.random.random(N)*WIDTH\n",
    "y = np.random.random(N)*HEIGHT\n",
    "\n",
    "ax.scatter(x, HEIGHT - y)\n",
    "ax.set_xlim([0, WIDTH])\n",
    "ax.set_ylim([0, HEIGHT])\n",
    "\n",
    "plt.show()"
   ]
  },
  {
   "cell_type": "code",
   "execution_count": null,
   "metadata": {},
   "outputs": [],
   "source": [
    "SVG += '  <!-- ! Falling debris 01 -->\\n'\n",
    "SVG += '  <g id=\"falling-debris01\">\\n'\n",
    "\n",
    "maxdur = 5\n",
    "\n",
    "np.random.seed(sum([ord(e) for e in list('Falling debris 01')]))\n",
    "for i in range(N):\n",
    "    r = 0.75 + np.random.random()*0.75\n",
    "    h = [0, 220][np.random.randint(2)] + np.random.random()*40 - 20\n",
    "    SVG += f'    <circle cx=\"{x[i]:.02f}\" r=\"{r:.02f}\" fill=\"hsl({h:.02f}, 50%, 70%)\">\\n'\n",
    "    po = np.random.random()*HEIGHT/2\n",
    "    pi = HEIGHT + po\n",
    "    dur = 1 + np.random.random()*(maxdur - 1)\n",
    "    offset1 = dur*y[i]/HEIGHT\n",
    "    SVG += f'      <animate attributeName=\"cy\" values=\"-{po:.02f};{pi:.02f}\" dur=\"{dur:.02f}s\" begin=\"-{offset1:.02f}s\" repeatCount=\"indefinite\" />\\n'\n",
    "    offset2 = np.random.random()*4\n",
    "    SVG += f'      <animate attributeName=\"opacity\" values=\"1;0.5;0.75;0.25;0.75;0.5;1\" dur=\"5s\" begin=\"-{offset2:.02f}s\" repeatCount=\"indefinite\" />\\n'\n",
    "    SVG += f'    </circle>\\n'\n",
    "\n",
    "SVG += '  </g>\\n\\n'"
   ]
  },
  {
   "cell_type": "markdown",
   "metadata": {},
   "source": [
    "## Black hole\n",
    "---"
   ]
  },
  {
   "cell_type": "code",
   "execution_count": null,
   "metadata": {},
   "outputs": [],
   "source": [
    "cx = WIDTH*0.55; cy = HEIGHT*0.45; r = 50\n",
    "\n",
    "SVG += f'  <!-- ! Black hole -->\\n'\n",
    "SVG += f'  <g id=\"bh-photon-ring\">\\n'\n",
    "SVG += f'    <circle cx=\"{cx}\" cy=\"{cy}\" r=\"{r}\" style=\"filter: url(#BH-photo-ring-red); mix-blend-mode: screen;\" />\\n'\n",
    "SVG += f'    <circle cx=\"{cx}\" cy=\"{cy}\" r=\"{r}\" style=\"filter: url(#BH-photo-ring-green); mix-blend-mode: screen;\" />\\n'\n",
    "SVG += f'    <circle cx=\"{cx}\" cy=\"{cy}\" r=\"{r}\" style=\"filter: url(#BH-photo-ring-blue); mix-blend-mode: screen;\" />\\n'\n",
    "SVG += f'    <circle cx=\"{cx}\" cy=\"{cy}\" r=\"{r}\" fill=\"url(#BH-grad1)\" stroke=\"white\" stroke-width=\"1\" />\\n'\n",
    "SVG += f'  </g>\\n\\n'"
   ]
  },
  {
   "cell_type": "code",
   "execution_count": null,
   "metadata": {},
   "outputs": [],
   "source": [
    "def disk01(SVG, cx, cy, R, r_, s_, t_):\n",
    "    W = np.linspace(0, 2*np.pi, 5)\n",
    "    S = cx + R*np.cos(W[1:] - np.pi/2)\n",
    "    T = cy + R*np.sin(W[1:] - np.pi/2)\n",
    "    for j, (r, si, ti) in enumerate(zip(R, S, T)):\n",
    "        so = S[j - 1] if j != 0 else s_\n",
    "        to = T[j - 1] if j != 0 else t_\n",
    "        dso = - r_*np.sin(j*np.pi/2 - np.pi/2)/2\n",
    "        dto =   r_*np.cos(j*np.pi/2 - np.pi/2)/2\n",
    "        dsi = - r*np.sin((j + 1)*np.pi/2 - np.pi/2)/2\n",
    "        dti =   r*np.cos((j + 1)*np.pi/2 - np.pi/2)/2\n",
    "        SVG += f'C {so + dso:.02f},{to + dto:.02f} {si - dsi:.02f},{ti - dti:.02f} {si:.02f},{ti:.02f} '\n",
    "    r_ = R[-1]; s_ = S[-1]; t_ = T[-1]\n",
    "    return SVG, r_, s_, t_\n",
    "\n",
    "def disk02(SVG, cx, cy, R, r_, s_, t_):\n",
    "    R = np.insert(R, 0, R[0])\n",
    "    R = np.insert(R, 4, R[4])\n",
    "    rl = np.random.random()*120\n",
    "    R[1] += rl; R[3] += rl; R[2] = (R[2] - 60)*0.75\n",
    "    W = np.linspace(0, 2*np.pi, 5)\n",
    "    wl = (1 + np.random.random())*np.pi/8\n",
    "    W = np.insert(W, 1, W[1] - wl)\n",
    "    W = np.insert(W, 5, W[4] + wl)\n",
    "    S = cx + R*np.cos(W[1:] - np.pi/2)\n",
    "    T = cy + R*np.sin(W[1:] - np.pi/2)\n",
    "    for j, (r, w, si, ti) in enumerate(zip(R, W, S, T)):\n",
    "        so, to = [S[j - 1], T[j - 1]] if j != 0 else [s_, t_]\n",
    "        d = ((si - so)**2 + (ti - to)**2)**0.5\n",
    "        dso = - np.sin(w - np.pi/2)*d/3\n",
    "        dto =   np.cos(w - np.pi/2)*d/3\n",
    "        dsi = - np.sin(W[j + 1] - np.pi/2)*d/3\n",
    "        dti =   np.cos(W[j + 1] - np.pi/2)*d/3\n",
    "        if j == 1 or j == 3:\n",
    "            diff = np.array([so, to]) - np.array([si, ti])\n",
    "            dsi, dti = - diff/np.linalg.norm(diff)*d/3\n",
    "        if (j - 1) == 1 or (j - 1) == 3:\n",
    "            diff = np.array([si, ti]) - np.array([so, to])\n",
    "            dso, dto = diff/np.linalg.norm(diff)*d/3\n",
    "        SVG += f'C {so + dso:.02f},{to + dto:.02f} {si - dsi:.02f},{ti - dti:.02f} {si:.02f},{ti:.02f} '\n",
    "    r_ = R[-1]; s_ = S[-1]; t_ = T[-1]\n",
    "    return SVG, r_, s_, t_\n",
    "\n",
    "def accretion_disk(SVG, cx, cy, rad, dev, N, kind=1, stroke=\"white\", stroke_dasharray=None, animate=None, seed=0):\n",
    "    np.random.seed(sum([ord(e) for e in list('Black Hole 01')]) + seed)\n",
    "\n",
    "    SVG += f'    <path d=\"'\n",
    "    r_ = rad + np.random.random()*dev\n",
    "    s_ = cx + r_*np.cos(0 - np.pi/2)\n",
    "    t_ = cy + r_*np.sin(0 - np.pi/2)\n",
    "    SVG += f'M {s_:.02f},{t_:.02f} '\n",
    "    \n",
    "    for i in range(N):\n",
    "        R = rad + np.random.random(4)*dev\n",
    "        if kind == 1:\n",
    "            SVG, r_, s_, t_ = disk01(SVG, cx, cy, R, r_, s_, t_)\n",
    "        else:\n",
    "            SVG, r_, s_, t_ = disk02(SVG, cx, cy, R, r_, s_, t_)\n",
    "        \n",
    "    if not stroke_dasharray:\n",
    "        SVG += f'\" stroke=\"{stroke}\" stroke-width=\"0.1\" fill=\"none\" style=\"mix-blend-mode: screen;\">\\n'\n",
    "    else:\n",
    "        SVG += f'\" stroke=\"{stroke}\" stroke-width=\"0.1\" fill=\"none\" stroke-dasharray=\"{stroke_dasharray}\" style=\"mix-blend-mode: screen;\">\\n'\n",
    "    if animate:\n",
    "        value = sum([int(e) for e in stroke_dasharray.split(',')])\n",
    "        value = value if rad < 45 else - value\n",
    "        SVG += f'      <animate attributeName=\"stroke-dashoffset\" values=\"0;{value}\" dur=\"{animate[\"dur\"]}s\" begin=\"-{animate[\"offset\"]:.02f}s\" repeatCount=\"indefinite\" />\\n'\n",
    "    SVG += f'    </path>\\n'\n",
    "    return SVG\n",
    "\n",
    "\n",
    "SVG += f'  <g id=\"bh-accretion-disk\" transform=\"rotate(-55 {cx} {cy})\" style=\"filter: url(#BH-photo-ring-glow)\">\\n'\n",
    "\n",
    "SVG = accretion_disk(SVG, cx, cy, 2*50, 2*50, 2*80, kind=1, stroke='rgb(255,150,50)', stroke_dasharray='2, 100', animate={'dur': 30, 'offset': 1}, seed=1)\n",
    "SVG = accretion_disk(SVG, cx, cy, 2*45, 2*30, 2*80, kind=1, stroke='rgb(255,150,50)', stroke_dasharray='5, 100', animate={'dur': 25, 'offset': 2}, seed=2)\n",
    "SVG = accretion_disk(SVG, cx, cy, 2*40, 2*20, 2*80, kind=1, stroke='rgb(255,150,50)', stroke_dasharray='10, 50', animate={'dur': 20, 'offset': 3}, seed=3)\n",
    "\n",
    "SVG = accretion_disk(SVG, cx, cy, 2*35, 2*15, 2*160, kind=1, stroke='rgb(255,90,0)', stroke_dasharray='10, 50', animate={'dur': 8, 'offset': 4}, seed=4)\n",
    "SVG = accretion_disk(SVG, cx, cy, 2*35, 2*12, 2*90, kind=1, stroke='rgb(255,0,55)', stroke_dasharray='10, 30', animate={'dur': 10, 'offset': 5}, seed=5)\n",
    "SVG = accretion_disk(SVG, cx, cy, 2*35, 2*12, 2*60, kind=1, stroke='rgb(55,255,0)', stroke_dasharray='10, 30', animate={'dur': 10, 'offset': 6}, seed=6)\n",
    "SVG = accretion_disk(SVG, cx, cy, 2*35, 2*12, 2*30, kind=1, stroke='rgb(0,55,255)', stroke_dasharray='10, 30', animate={'dur': 10, 'offset': 7}, seed=7)\n",
    "SVG = accretion_disk(SVG, cx, cy, 2*35, 2*12, 2*90, kind=1, stroke_dasharray='10, 30', animate={'dur': 2, 'offset': 8}, seed=8)\n",
    "\n",
    "SVG = accretion_disk(SVG, cx, cy, 2*35, 2*20, 2*250, kind=2, stroke='rgb(255,90,0)', stroke_dasharray='10, 50', animate={'dur': 8, 'offset': 9}, seed=9)\n",
    "SVG = accretion_disk(SVG, cx, cy, 2*35, 2*15, 2*150, kind=2, stroke='rgb(255,0,55)', stroke_dasharray='10, 30', animate={'dur': 10, 'offset': 10}, seed=10)\n",
    "SVG = accretion_disk(SVG, cx, cy, 2*35, 2*15, 2*125, kind=2, stroke='rgb(55,255,0)', stroke_dasharray='10, 30', animate={'dur': 10, 'offset': 11}, seed=11)\n",
    "SVG = accretion_disk(SVG, cx, cy, 2*35, 2*15, 2*100, kind=2, stroke='rgb(0,55,255)', stroke_dasharray='10, 30', animate={'dur': 10, 'offset': 12}, seed=12)\n",
    "SVG = accretion_disk(SVG, cx, cy, 2*35, 2*12, 2*90, kind=2, stroke_dasharray='10, 30', animate={'dur': 2, 'offset': 8}, seed=8)\n",
    "\n",
    "SVG = accretion_disk(SVG, cx, cy, 2*40, 2*5, 2*20, kind=1)\n",
    "SVG = accretion_disk(SVG, cx, cy, 2*40, 2*5, 2*20, kind=2)\n",
    "\n",
    "SVG += f'  </g>\\n\\n'"
   ]
  },
  {
   "cell_type": "markdown",
   "metadata": {},
   "source": [
    "## Planet\n",
    "---"
   ]
  },
  {
   "cell_type": "code",
   "execution_count": null,
   "metadata": {},
   "outputs": [],
   "source": [
    "cx = 50; cy = 350; r = 15\n",
    "\n",
    "SVG += f'  <!-- ! Planet -->\\n'\n",
    "SVG += f'  <g id=\"planet\">\\n'\n",
    "SVG += f'    <animateTransform attributeName=\"transform\" attributeType=\"XML\" type=\"translate\" values=\"0 0;0 10;0 0\" dur=\"5s\" repeatCount=\"indefinite\" />\\n'\n",
    "SVG += f'    <animateTransform attributeName=\"transform\" attributeType=\"XML\" type=\"translate\" values=\"0 0;7 0;0 0\" dur=\"7s\" repeatCount=\"indefinite\" additive=\"sum\" />\\n'\n",
    "SVG += f'    <circle cx=\"{cx}\" cy=\"{cy}\" r=\"{r}\" fill=\"gray\" stroke=\"white\" style=\"filter: url(#planet-shader);\" opacity=\"0.8\" />\\n'\n",
    "SVG += f'    <circle cx=\"{cx}\" cy=\"{cy}\" r=\"{r}\" fill=\"url(#planet-umbra)\" style=\"mix-blend-mode: multiply;\" opacity=\"0.9\" />\\n'\n",
    "SVG += f'    <circle cx=\"{cx}\" cy=\"{cy}\" r=\"{r+2}\" fill=\"url(#planet-atm)\" style=\"filter: url(#planet-atm-blur); mix-blend-mode: screen;\" />\\n'\n",
    "SVG += f'  </g>\\n\\n'"
   ]
  },
  {
   "cell_type": "markdown",
   "metadata": {},
   "source": [
    "## Falling debris 02\n",
    "---"
   ]
  },
  {
   "cell_type": "code",
   "execution_count": null,
   "metadata": {},
   "outputs": [],
   "source": [
    "fig, ax = plt.subplots(1, 1, figsize=(36/5, 48/5))\n",
    "\n",
    "N = 4\n",
    "ymin = 20\n",
    "ymax = HEIGHT - ymin\n",
    "\n",
    "np.random.seed(sum([ord(e) for e in list('Falling debris 02')]))\n",
    "x = np.random.random(N)*WIDTH\n",
    "yo = ymin + np.random.random(N)*(HEIGHT/4 -ymin)\n",
    "yi = 3*HEIGHT/4 + np.random.random(N)*(HEIGHT/4 -ymin)\n",
    "\n",
    "for i in range(N):\n",
    "    ax.plot([x[i]]*2, [HEIGHT - yo[i], HEIGHT - yi[i]])\n",
    "\n",
    "ax.set_xlim([0, WIDTH])\n",
    "ax.set_ylim([0, HEIGHT])\n",
    "\n",
    "plt.show()"
   ]
  },
  {
   "cell_type": "code",
   "execution_count": null,
   "metadata": {},
   "outputs": [],
   "source": [
    "SVG += '  <!-- ! Falling debris 02 -->\\n'\n",
    "SVG += '  <g id=\"falling-debris02\" opacity=\"0.5\">\\n'\n",
    "\n",
    "mindur = 2\n",
    "maxdur = 4\n",
    "\n",
    "np.random.seed(sum([ord(e) for e in list('Falling debris 02')]))\n",
    "for i in range(N):\n",
    "    length = yi[i] - yo[i]\n",
    "    space = 3 + np.random.randint(4)\n",
    "    opacity = 0.25 + np.random.random()*0.5\n",
    "    SVG += f'    <line x1=\"{x[i]:.02f}\" y1=\"{yo[i]:.02f}\" x2=\"{x[i]:.02f}\" y2=\"{yi[i]:.02f}\" stroke-opacity=\"{opacity:.02f}\" stroke=\"white\" stroke-dasharray=\"{length:.02f},{space*length:.02f}\" stroke-width=\"1\">\\n'\n",
    "    dur = mindur + np.random.random()*(maxdur - mindur)\n",
    "    offset = np.random.random()*maxdur\n",
    "    SVG += f'      <animate attributeName=\"stroke-dashoffset\" values=\"0;-{(space + 1)*length:.02f}\" dur=\"{dur:.02f}s\" begin=\"-{offset:.02f}s\" repeatCount=\"indefinite\" />\\n'\n",
    "    SVG += f'    </line>\\n'\n",
    "\n",
    "SVG += '  </g>\\n\\n'"
   ]
  },
  {
   "cell_type": "code",
   "execution_count": null,
   "metadata": {},
   "outputs": [],
   "source": [
    "# Foreground colorization\n",
    "SVG += '  <!-- ! Foreground gradients -->\\n'\n",
    "SVG += '  <rect id=\"BG\" width=\"100%\" height=\"100%\" fill=\"url(#BG-grad2)\" style=\"mix-blend-mode: screen;\" opacity=\"0.1\" />\\n\\n'"
   ]
  },
  {
   "cell_type": "markdown",
   "metadata": {},
   "source": [
    "## Display SVG\n",
    "---"
   ]
  },
  {
   "cell_type": "code",
   "execution_count": null,
   "metadata": {},
   "outputs": [],
   "source": [
    "SVG += '</svg>\\n'"
   ]
  },
  {
   "cell_type": "code",
   "execution_count": null,
   "metadata": {},
   "outputs": [],
   "source": [
    "display_svg(SVG)"
   ]
  },
  {
   "cell_type": "code",
   "execution_count": null,
   "metadata": {},
   "outputs": [],
   "source": [
    "# print(SVG)"
   ]
  },
  {
   "cell_type": "markdown",
   "metadata": {},
   "source": [
    "## Export SVG\n",
    "---"
   ]
  },
  {
   "cell_type": "code",
   "execution_count": null,
   "metadata": {},
   "outputs": [],
   "source": [
    "# export_svg(SVG, 'image')"
   ]
  }
 ],
 "metadata": {
  "kernelspec": {
   "display_name": "Python 3",
   "language": "python",
   "name": "python3"
  },
  "language_info": {
   "codemirror_mode": {
    "name": "ipython",
    "version": 3
   },
   "file_extension": ".py",
   "mimetype": "text/x-python",
   "name": "python",
   "nbconvert_exporter": "python",
   "pygments_lexer": "ipython3",
   "version": "3.7.7"
  }
 },
 "nbformat": 4,
 "nbformat_minor": 4
}
