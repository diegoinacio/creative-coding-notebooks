{
 "cells": [
  {
   "cell_type": "markdown",
   "metadata": {},
   "source": [
    "# Voronoi Diagram\n",
    "---\n",
    "- Author: Diego Inácio\n",
    "- GitHub: [github.com/diegoinacio](https://github.com/diegoinacio)\n",
    "- Notebook: [imgFX_voronoi.ipynb](https://github.com/diegoinacio/creative-coding-notebooks/blob/master/Generative/imgFX_voronoi.ipynb)\n",
    "---\n",
    "Image effect algorithm that produces different results based on different distance metrics.\n",
    "\n",
    "[Voronoi diagram](https://en.wikipedia.org/wiki/Voronoi_diagram) defined by distance between the pixel matrix $\\large m$ and the subset of the central points $\\large c$ (randomicaly defined) given your respectively index, which are them spacial coordinates $\\large x$ and $\\large y$. Different effects are made with different distance metrics."
   ]
  },
  {
   "cell_type": "code",
   "execution_count": null,
   "metadata": {},
   "outputs": [],
   "source": [
    "%matplotlib inline\n",
    "import matplotlib.pyplot as plt\n",
    "import numpy as np\n",
    "import random, math, time\n",
    "from PIL import Image as image\n",
    "\n",
    "from _utils import *"
   ]
  },
  {
   "cell_type": "markdown",
   "metadata": {},
   "source": [
    "## 1. Euclidean distance\n",
    "---\n",
    "Diagram defined by [euclidean distance](https://en.wikipedia.org/wiki/Euclidean_distance) which term is the $L_2$ norm:\n",
    "$$ \\displaystyle \\large\n",
    "d(m,c) \\mapsto \\|m-c\\|_2 = \\left[\\sum_{i}^{n}(m_i-c_i)^2\\right]^\\frac{1}{2} = \\sqrt{\\sum_{i}^{n}(m_i-c_i)^2}\n",
    "$$"
   ]
  },
  {
   "cell_type": "code",
   "execution_count": null,
   "metadata": {},
   "outputs": [],
   "source": [
    "%%time\n",
    "# parameters\n",
    "n = 2048       # number of points c\n",
    "sb = 4         # space between slices\n",
    "BG = (0, 0, 0) # background color\n",
    "\n",
    "# init\n",
    "img = image.open('../_data/cameraman.png')\n",
    "imx = img.size[0]\n",
    "imy = img.size[1]\n",
    "imgIn = image.new('RGB', img.size)\n",
    "imgIn.paste(img)\n",
    "imgOut = image.new('RGB', img.size, BG)\n",
    "\n",
    "# execution\n",
    "cx = np.random.randint(0, imx, n)\n",
    "cy = np.random.randint(0, imy, n)\n",
    "pop = np.array([cx, cy]).T\n",
    "\n",
    "for y in range(imy):\n",
    "    for x in range(imx):\n",
    "        d = np.sum(((x, y) - pop)**2, axis=1)**0.5\n",
    "        NP = pop[np.argmin(d)]\n",
    "        cd = imgIn.getpixel((int(NP[0]), int(NP[1])))\n",
    "        imgOut.putpixel((x, y), cd)\n",
    "\n",
    "output = np.array([np.asarray(imgIn),\n",
    "                   np.asarray(imgOut)])\n",
    "panel(output, (2, 1))"
   ]
  },
  {
   "cell_type": "markdown",
   "metadata": {},
   "source": [
    "## 2. Manhattan\n",
    "---\n",
    "Diagram defined by [manhattan distance](https://en.wikipedia.org/wiki/Taxicab_geometry) (or Taxicab geometry) which term is the $L_1$ norm:\n",
    "$$ \\displaystyle \\large\n",
    "d(m,c) \\mapsto \\|m-c\\|_1 = \\sum_{i}^{n}|m_i-c_i|\n",
    "$$"
   ]
  },
  {
   "cell_type": "code",
   "execution_count": null,
   "metadata": {},
   "outputs": [],
   "source": [
    "%%time\n",
    "# parâmetros\n",
    "n = 1024       # number of points c\n",
    "sb = 4         # space between slices\n",
    "BG = (0, 0, 0) # background color\n",
    "\n",
    "# init\n",
    "img = image.open('../_data/aerial03.png')\n",
    "imx = img.size[0]\n",
    "imy = img.size[1]\n",
    "imgIn = image.new('RGB', img.size)\n",
    "imgIn.paste(img)\n",
    "imgOut = image.new('RGB', img.size, BG)\n",
    "\n",
    "# execution\n",
    "cx = np.random.randint(0, imx, n)\n",
    "cy = np.random.randint(0, imy, n)\n",
    "pop = np.array([cx, cy]).T\n",
    "\n",
    "for y in range(imy):\n",
    "    for x in range(imx):\n",
    "        d = np.sum(abs((x, y) - pop), axis=1)\n",
    "        NP = pop[np.argmin(d)]\n",
    "        cd = imgIn.getpixel((int(NP[0]), int(NP[1])))\n",
    "        imgOut.putpixel((x, y), cd)\n",
    "\n",
    "output = np.array([np.asarray(imgIn),\n",
    "                   np.asarray(imgOut)])\n",
    "panel(output, (2, 1))"
   ]
  },
  {
   "cell_type": "markdown",
   "metadata": {},
   "source": [
    "## 3. Chebyshev\n",
    "---\n",
    "Diagram defined by [chebyshev distance](https://en.wikipedia.org/wiki/Chebyshev_distance) which term is the $L_\\infty$ norm:\n",
    "$$ \\displaystyle \\large\n",
    "d(m,c) \\mapsto \\|m-c\\|_\\infty = \\lim_{p\\to\\infty} \\left(\\sum_{i}^{n}|m_i-c_i|^p\\right)^\\frac{1}{p} = \\overset{n}{\\underset{i}{\\max}}|m_i-c_i|\n",
    "$$"
   ]
  },
  {
   "cell_type": "code",
   "execution_count": null,
   "metadata": {},
   "outputs": [],
   "source": [
    "%%time\n",
    "# parameters\n",
    "n = 1024       # number of points c\n",
    "sb = 4         # space between slices\n",
    "BG = (0, 0, 0) # background color\n",
    "\n",
    "# init\n",
    "img = image.open('../_data/aerial01.png')\n",
    "imx = img.size[0]\n",
    "imy = img.size[1]\n",
    "imgIn = image.new('RGB', img.size)\n",
    "imgIn.paste(img)\n",
    "imgOut = image.new('RGB', img.size, BG)\n",
    "\n",
    "# execution\n",
    "cx = np.random.randint(0, imx, n)\n",
    "cy = np.random.randint(0, imy, n)\n",
    "pop = np.array([cx, cy]).T\n",
    "\n",
    "for y in range(imy):\n",
    "    for x in range(imx):\n",
    "        d = abs((x, y) - pop).max(axis=1)\n",
    "        NP = pop[np.argmin(d)]\n",
    "        cd = imgIn.getpixel((int(NP[0]), int(NP[1])))\n",
    "        imgOut.putpixel((x, y), cd)\n",
    "\n",
    "output = np.array([np.asarray(imgIn),\n",
    "                   np.asarray(imgOut)])\n",
    "panel(output, (2, 1))"
   ]
  },
  {
   "cell_type": "markdown",
   "metadata": {},
   "source": [
    "## 4. Minkowski\n",
    "---\n",
    "Diagram defined by [minkowski distance](https://en.wikipedia.org/wiki/Minkowski_distance) which term is the $L_p$ norm and generalizes all other using the *minkowski's parameter* $p$:\n",
    "$$ \\displaystyle \\large\n",
    "d(m,c) \\mapsto \\|m-c\\|_p = \\left(\\sum_{i}^{n}|m_i-c_i|^p\\right)^\\frac{1}{p}\n",
    "$$"
   ]
  },
  {
   "cell_type": "code",
   "execution_count": null,
   "metadata": {},
   "outputs": [],
   "source": [
    "%%time\n",
    "# parameters\n",
    "n = 512        # number of points c\n",
    "sb = 4         # space between slices\n",
    "p = 0.5        # minkowski's parameter\n",
    "BG = (0, 0, 0) # background color\n",
    "\n",
    "# init\n",
    "img = image.open('../_data/babuino.png')\n",
    "imx = img.size[0]\n",
    "imy = img.size[1]\n",
    "imgIn = image.new('RGB', img.size)\n",
    "imgIn.paste(img)\n",
    "imgOut = image.new('RGB', img.size, BG)\n",
    "\n",
    "# execution\n",
    "cx = np.random.randint(0, imx, n)\n",
    "cy = np.random.randint(0, imy, n)\n",
    "pop = np.array([cx, cy]).T\n",
    "\n",
    "for y in range(imy):\n",
    "    for x in range(imx):\n",
    "        d = np.sum(abs((x, y) - pop)**p, axis=1)**(1/p)\n",
    "        NP = pop[np.argmin(d)]\n",
    "        cd = imgIn.getpixel((int(NP[0]), int(NP[1])))\n",
    "        imgOut.putpixel((x, y), cd)\n",
    "\n",
    "output = np.array([np.asarray(imgIn),\n",
    "                   np.asarray(imgOut)])\n",
    "panel(output, (2, 1))"
   ]
  }
 ],
 "metadata": {
  "kernelspec": {
   "display_name": "Python 3",
   "language": "python",
   "name": "python3"
  },
  "language_info": {
   "codemirror_mode": {
    "name": "ipython",
    "version": 3
   },
   "file_extension": ".py",
   "mimetype": "text/x-python",
   "name": "python",
   "nbconvert_exporter": "python",
   "pygments_lexer": "ipython3",
   "version": "3.7.7"
  }
 },
 "nbformat": 4,
 "nbformat_minor": 2
}
