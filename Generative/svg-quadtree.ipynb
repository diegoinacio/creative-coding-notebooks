{
 "cells": [
  {
   "cell_type": "markdown",
   "metadata": {},
   "source": [
    "# Quadtree\n",
    "---\n",
    "- Author: Diego Inácio\n",
    "- GitHub: [github.com/diegoinacio](https://github.com/diegoinacio)\n",
    "- Notebook: [svg-quadtree.ipynb](https://github.com/diegoinacio/creative-coding-notebooks/blob/master/Generative/svg-quadtree.ipynb)\n",
    "---\n",
    "2D image partition using quadtrees and SVG graphics."
   ]
  },
  {
   "cell_type": "code",
   "execution_count": null,
   "metadata": {},
   "outputs": [],
   "source": [
    "%matplotlib inline\n",
    "import matplotlib as mpl\n",
    "import matplotlib.pyplot as plt\n",
    "import numpy as np\n",
    "import imageio"
   ]
  },
  {
   "cell_type": "markdown",
   "metadata": {},
   "source": [
    "## Useful functions\n",
    "---"
   ]
  },
  {
   "cell_type": "code",
   "execution_count": null,
   "metadata": {},
   "outputs": [],
   "source": [
    "def display_svg(data):\n",
    "    # Display SVG\n",
    "    from IPython.display import SVG, display\n",
    "    display(SVG(data))"
   ]
  },
  {
   "cell_type": "markdown",
   "metadata": {},
   "source": [
    "## Quadtree algorithm\n",
    "---"
   ]
  },
  {
   "cell_type": "code",
   "execution_count": null,
   "metadata": {},
   "outputs": [],
   "source": [
    "class Node():\n",
    "    def __init__(self, x, y, dx, dy, mu, std):\n",
    "        self.x = x\n",
    "        self.y = y\n",
    "        self.dx = dx\n",
    "        self.dy = dy\n",
    "        self.mu = mu\n",
    "        self.std = std\n",
    "        self.children = []"
   ]
  },
  {
   "cell_type": "code",
   "execution_count": null,
   "metadata": {},
   "outputs": [],
   "source": [
    "class QTree():\n",
    "    def __init__(self, IMG):\n",
    "        dy, dx, c = IMG.shape\n",
    "        mu = np.median(IMG.reshape(-1, 3), axis=0).astype(int)\n",
    "        std = np.std(IMG)\n",
    "        self.root = Node(0, 0, dx, dy, mu, std)\n",
    "        self.IMG = IMG\n",
    "\n",
    "    def subdivide(self, d_max, k_std):\n",
    "        recursive_subdivide(self.root, self.IMG, d_max, k_std)\n",
    "\n",
    "    def get_leaves(self):\n",
    "        return find_leaves(self.root)"
   ]
  },
  {
   "cell_type": "markdown",
   "metadata": {},
   "source": [
    "### Support functions\n",
    "---"
   ]
  },
  {
   "cell_type": "code",
   "execution_count": null,
   "metadata": {},
   "outputs": [],
   "source": [
    "def divided_node(IMG, x, y, dx, dy):\n",
    "    # Build divided node\n",
    "    img_ = IMG[y:y+dy, x:x+dx]\n",
    "    mu_ = np.median(img_.reshape(-1, 3), axis=0).astype(int)\n",
    "    std_ = np.std(img_)\n",
    "    return Node(x, y, dx, dy, mu_, std_)\n",
    "\n",
    "def recursive_subdivide(node, IMG, d_max, std_max):\n",
    "    # Subdivide node by 4 if condition is satisfied\n",
    "    x, y = node.x, node.y\n",
    "    dx, dy = node.dx, node.dy\n",
    "    mu, std = node.mu, node.std\n",
    "\n",
    "    if (\n",
    "        dx < d_max or\n",
    "        std < std_max\n",
    "    ): return\n",
    "\n",
    "    # Node 1\n",
    "    x_, y_ = x, y\n",
    "    dx_, dy_ = dx//2, dy//2\n",
    "    n1 = divided_node(IMG, x_, y_, dx_, dy_)\n",
    "    recursive_subdivide(n1, IMG, d_max, std_max)\n",
    "\n",
    "    # Node 2\n",
    "    x_, y_ = x + dx//2, y\n",
    "    dx_, dy_ = dx//2, dy//2\n",
    "    n2 = divided_node(IMG, x_, y_, dx_, dy_)\n",
    "    recursive_subdivide(n2, IMG, d_max, std_max)\n",
    "\n",
    "    # Node 3\n",
    "    x_, y_ = x, y + dy//2\n",
    "    dx_, dy_ = dx//2, dy//2\n",
    "    n3 = divided_node(IMG, x_, y_, dx_, dy_)\n",
    "    recursive_subdivide(n3, IMG, d_max, std_max)\n",
    "\n",
    "    # Node 4\n",
    "    x_, y_ = x + dx//2, y + dy//2\n",
    "    dx_, dy_ = dx//2, dy//2\n",
    "    n4 = divided_node(IMG, x_, y_, dx_, dy_)\n",
    "    recursive_subdivide(n4, IMG, d_max, std_max)\n",
    "\n",
    "    node.children = [n1, n2, n3, n4]\n",
    "\n",
    "def find_leaves(node):\n",
    "    # Find all leaves on the tree\n",
    "    if not node.children:\n",
    "        return [node]\n",
    "    leaves = []\n",
    "    for leaf in node.children:\n",
    "        leaves += find_leaves(leaf)\n",
    "    return leaves"
   ]
  },
  {
   "cell_type": "markdown",
   "metadata": {},
   "source": [
    "## Image partition to SVG\n",
    "---"
   ]
  },
  {
   "cell_type": "code",
   "execution_count": null,
   "metadata": {},
   "outputs": [],
   "source": [
    "# Input image\n",
    "IMG = imageio.imread('../_data/woman01.png')\n",
    "dy, dx, c = IMG.shape\n",
    "plt.imshow(IMG)\n",
    "plt.show()"
   ]
  },
  {
   "cell_type": "code",
   "execution_count": null,
   "metadata": {},
   "outputs": [],
   "source": [
    "# Init SVG\n",
    "SVG = f'''<?xml version=\"1.0\" encoding=\"utf-8\"?>\n",
    "<!DOCTYPE svg PUBLIC \"-//W3C//DTD SVG 1.1//EN\" \n",
    "    \"http://www.w3.org/Graphics/SVG/1.1/DTD/svg11.dtd\"\n",
    ">\n",
    "<svg id=\"image\"\n",
    "    width=\"{dx}px\" height=\"{dy}px\" \n",
    "    xmlns=\"http://www.w3.org/2000/svg\"\n",
    "    xmlns:xlink=\"http://www.w3.org/1999/xlink\"\n",
    ">\n",
    "'''\n",
    "\n",
    "SVG += \"<style>rect {mix-blend-mode: screen; stroke: black; stroke-width: 0.2;}</style>\\n\"\n",
    "\n",
    "SVG += f'<rect width=\"100%\" height=\"100%\" fill=\"black\" />\\n'\n",
    "\n",
    "# Run quadtree algorithm\n",
    "tree = QTree(IMG)\n",
    "tree.subdivide(16, 30)\n",
    "\n",
    "leaves = tree.get_leaves()\n",
    "\n",
    "# Draw leaves\n",
    "for leaf in leaves:\n",
    "    x, y = leaf.x, leaf.y\n",
    "    w, h = leaf.dx, leaf.dy\n",
    "    r, g, b = leaf.mu\n",
    "    rx = w//4\n",
    "    SVG += f'<rect x=\"{x}\" y=\"{y}\" width=\"{w}\" height=\"{h}\" fill=\"rgb({r}, {g}, {b})\" rx=\"{rx}\" />\\n'\n",
    "\n",
    "SVG += '</svg>\\n'\n",
    "\n",
    "display_svg(SVG)"
   ]
  }
 ],
 "metadata": {
  "kernelspec": {
   "display_name": "Python 3",
   "language": "python",
   "name": "python3"
  },
  "language_info": {
   "codemirror_mode": {
    "name": "ipython",
    "version": 3
   },
   "file_extension": ".py",
   "mimetype": "text/x-python",
   "name": "python",
   "nbconvert_exporter": "python",
   "pygments_lexer": "ipython3",
   "version": "3.7.4"
  }
 },
 "nbformat": 4,
 "nbformat_minor": 2
}
