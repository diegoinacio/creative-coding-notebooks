{
 "cells": [
  {
   "cell_type": "markdown",
   "id": "atlantic-typing",
   "metadata": {},
   "source": [
    "# Wall of Letters\n",
    "---\n",
    "- Author: Diego Inácio\n",
    "- GitHub: [github.com/diegoinacio](https://github.com/diegoinacio)\n",
    "- Notebook: [wall-of-letters.ipynb](https://github.com/diegoinacio/creative-coding-notebooks/blob/master/Generative/wall-of-letters.ipynb)\n",
    "---\n",
    "A responsive experiment with character styling and layout."
   ]
  },
  {
   "cell_type": "code",
   "execution_count": null,
   "id": "treated-prize",
   "metadata": {},
   "outputs": [],
   "source": [
    "from IPython.display import HTML, display\n",
    "import random"
   ]
  },
  {
   "cell_type": "markdown",
   "id": "informative-technician",
   "metadata": {},
   "source": [
    "The purpose of this experiment is to reproduce nice visuals of text blocks, imitating bricks on the wall. The main idea is to use css style layout for the blocks and make them responsive by displaying the generated HTML. To make the process less verbose, *Python* will be used as the script language to produce the HTML code."
   ]
  },
  {
   "cell_type": "markdown",
   "id": "received-booth",
   "metadata": {},
   "source": [
    "## Set of letters\n",
    "---\n",
    "For this project, it will be used the following set of characters:\n",
    "\n",
    "- **Uppercase**: _ABCDEFGHIJKLMNOPQRSTUVWXYZ_\n",
    "- **Lowercase**: _abcdefghijklmnopqrstuvwxyz_\n",
    "- **Symbols**: _!#$%&*?@^~_\n",
    "- **Numbers**: _0123456789_\n",
    "\n",
    "This set will be used to generate random chacteres fot the blocks."
   ]
  },
  {
   "cell_type": "code",
   "execution_count": null,
   "id": "catholic-jurisdiction",
   "metadata": {},
   "outputs": [],
   "source": [
    "# Init set of characters\n",
    "SET = \"\"\n",
    "\n",
    "# Include uppercase\n",
    "SET += \"ABCDEFGHIJKLMNOPQRSTUVWXYZ\"\n",
    "# Include lowercase\n",
    "SET += \"abcdefghijklmnopqrstuvwxyz\"\n",
    "# Include symbols\n",
    "SET += \"!#$%&*?@^~\"\n",
    "# Include numbers\n",
    "SET += \"0123456789\"\n",
    "\n",
    "SET = list(SET)"
   ]
  },
  {
   "cell_type": "markdown",
   "id": "governing-tradition",
   "metadata": {},
   "source": [
    "## Useful functions\n",
    "---\n",
    "Here will be declared some useful functions to make it easier to generate the HTML code."
   ]
  },
  {
   "cell_type": "code",
   "execution_count": null,
   "id": "amateur-disaster",
   "metadata": {},
   "outputs": [],
   "source": [
    "def containerClass(count):\n",
    "    \"\"\"\n",
    "    Generate the text-container class\n",
    "    \"\"\"\n",
    "    return f'''\n",
    "    .text-container {{\n",
    "        -webkit-column-count: {count};\n",
    "        -moz-column-count: {count};\n",
    "        column-count: {count};\n",
    "    }}\n",
    "    '''\n",
    "\n",
    "def mediaQuery(maxWidth, content):\n",
    "    \"\"\"\n",
    "    Generate the media query for responsive design\n",
    "    \"\"\"\n",
    "    return f'''\n",
    "    @media screen and (max-width: {maxWidth}px) {{{content}}}\n",
    "    '''"
   ]
  },
  {
   "cell_type": "markdown",
   "id": "tropical-strengthening",
   "metadata": {},
   "source": [
    "## Style code\n",
    "---\n",
    "Here it will be created the style part of the HTML. Two classes will be used to model the structure of the code.\n",
    "\n",
    "- **text-container**: It is the container div which parents the blocks and it is responsible for the layout and responsiveness\n",
    "- **text-block**: It is the div which has the group of letters\n",
    "\n",
    "As a result, the _style_ element will be created and aggregated to the output code."
   ]
  },
  {
   "cell_type": "code",
   "execution_count": null,
   "id": "understanding-silicon",
   "metadata": {},
   "outputs": [],
   "source": [
    "STYLE = f'''\n",
    "<style>\n",
    "  .text-block {{\n",
    "    overflow-wrap: break-word;\n",
    "    font-family: \"Courier New\", Courier, monospace;\n",
    "    font-weight: normal;\n",
    "    line-height: 50%;\n",
    "    text-align: justify;\n",
    "    vertical-align: middle;\n",
    "    margin-bottom: 1em;\n",
    "  }}\n",
    "  \n",
    "  {containerClass(6)}\n",
    "  {mediaQuery(1680, containerClass(5))}\n",
    "  {mediaQuery(1280, containerClass(4))}\n",
    "  {mediaQuery(880, containerClass(3))}\n",
    "  {mediaQuery(480, containerClass(2))}\n",
    "</style>\n",
    "'''"
   ]
  },
  {
   "cell_type": "markdown",
   "id": "expected-python",
   "metadata": {},
   "source": [
    "## Container code\n",
    "---\n",
    "Here we are going to generate the container code. This div will contain all blocks with letter and each letter will be stylized randomly by chaging color, size or any other attributes that may make the visual a little bit more appealing. "
   ]
  },
  {
   "cell_type": "code",
   "execution_count": null,
   "id": "incoming-inspiration",
   "metadata": {},
   "outputs": [],
   "source": [
    "# Parameters\n",
    "N_BLOCKS = 64\n",
    "\n",
    "# Deterministic random function\n",
    "random.seed(1234)\n",
    "\n",
    "# Build blocks\n",
    "BLOCKS = \"\"\n",
    "for _ in range(64):\n",
    "    BG_HUE = random.randint(0, 360)\n",
    "    N_LETTERS = random.randint(100, 500)\n",
    "    LETTERS = \"\"\n",
    "    for _ in range(N_LETTERS):\n",
    "        letter_index = random.randint(0, len(SET) - 1)\n",
    "        letter_hue = BG_HUE + random.randint(-100, 100)\n",
    "        letter_size = random.randint(5, 20)\n",
    "        letter_style = f'color: hsl({letter_hue},50%,50%); font-size: {letter_size}px'\n",
    "        LETTERS += f'<font style=\"{letter_style}\">{SET[letter_index]}</font>'\n",
    "    block_style = f'background-color: hsla({BG_HUE}, 50%, 50%, 0.05)'\n",
    "    BLOCKS += f'<div class=\"text-block\" style=\"{block_style}\">{LETTERS}</div>'\n",
    "\n",
    "CONTAINER = f'<div class=\"text-container\">{BLOCKS}</div>'\n",
    "\n",
    "OUTPUT = STYLE + CONTAINER"
   ]
  },
  {
   "cell_type": "markdown",
   "id": "printable-collar",
   "metadata": {},
   "source": [
    "## Output\n",
    "---\n",
    "Display the output HTML generated code."
   ]
  },
  {
   "cell_type": "code",
   "execution_count": null,
   "id": "tropical-stretch",
   "metadata": {},
   "outputs": [],
   "source": [
    "display(HTML(OUTPUT))"
   ]
  },
  {
   "cell_type": "markdown",
   "id": "intensive-initial",
   "metadata": {},
   "source": [
    "## Wall of Emojis\n",
    "---\n",
    "As a fun experiment, let's use emojis instead of letters and see how it looks like 😅\n",
    "\n",
    "Let's first declare the set of emojis.\n",
    "\n",
    "*p.s.: The list of emojis was get from the (getemoji)[https://getemoji.com/] website*"
   ]
  },
  {
   "cell_type": "code",
   "execution_count": null,
   "id": "innocent-heater",
   "metadata": {},
   "outputs": [],
   "source": [
    "SET = \"🧳🌂☂️🧵🧶👓🕶🥽🥼🦺👔👕👖🧣🧤🧥🧦👗👘🥻🩱🩲🩳👙👚👛\"\n",
    "SET += \"👜👝🎒👞👟🥾🥿👠👡🩰👢👑👒🎩🎓🧢😀😃😄😁😆😅😂🤣\"\n",
    "\n",
    "SET = list(SET)"
   ]
  },
  {
   "cell_type": "markdown",
   "id": "political-progress",
   "metadata": {},
   "source": [
    "Having the emoji set, let's execute the same piece of code but discarding the random color since emoji has its own color aspect."
   ]
  },
  {
   "cell_type": "code",
   "execution_count": null,
   "id": "greatest-module",
   "metadata": {},
   "outputs": [],
   "source": [
    "# Parameters\n",
    "N_BLOCKS = 64\n",
    "\n",
    "# Deterministic random function\n",
    "random.seed(1234)\n",
    "\n",
    "# Build blocks\n",
    "BLOCKS = \"\"\n",
    "for _ in range(64):\n",
    "    BG_HUE = random.randint(0, 360)\n",
    "    N_LETTERS = random.randint(50, 200)\n",
    "    LETTERS = \"\"\n",
    "    for _ in range(N_LETTERS):\n",
    "        letter_index = random.randint(0, len(SET) - 1)\n",
    "        letter_hue = BG_HUE + random.randint(-100, 100)\n",
    "        letter_size = random.randint(10, 20)\n",
    "        letter_style = f'font-size: {letter_size}px'\n",
    "        LETTERS += f'<font style=\"{letter_style}\">{SET[letter_index]}</font>'\n",
    "    block_style = f'background-color: hsla({BG_HUE}, 50%, 50%, 0.1)'\n",
    "    BLOCKS += f'<div class=\"text-block\" style=\"{block_style}\">{LETTERS}</div>'\n",
    "\n",
    "CONTAINER = f'<div class=\"text-container\">{BLOCKS}</div>'\n",
    "\n",
    "OUTPUT = STYLE + CONTAINER"
   ]
  },
  {
   "cell_type": "markdown",
   "id": "mathematical-blood",
   "metadata": {},
   "source": [
    "Finally, let's display the result."
   ]
  },
  {
   "cell_type": "code",
   "execution_count": null,
   "id": "challenging-university",
   "metadata": {},
   "outputs": [],
   "source": [
    "display(HTML(OUTPUT))"
   ]
  }
 ],
 "metadata": {
  "kernelspec": {
   "display_name": "Python 3",
   "language": "python",
   "name": "python3"
  },
  "language_info": {
   "codemirror_mode": {
    "name": "ipython",
    "version": 3
   },
   "file_extension": ".py",
   "mimetype": "text/x-python",
   "name": "python",
   "nbconvert_exporter": "python",
   "pygments_lexer": "ipython3",
   "version": "3.7.10"
  }
 },
 "nbformat": 4,
 "nbformat_minor": 5
}
