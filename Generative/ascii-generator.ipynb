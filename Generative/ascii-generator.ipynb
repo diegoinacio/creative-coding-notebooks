{
 "cells": [
  {
   "cell_type": "markdown",
   "metadata": {},
   "source": [
    "# Image to ASCII Generator\n",
    "---\n",
    "- Author: Diego Inácio\n",
    "- GitHub: [github.com/diegoinacio](https://github.com/diegoinacio)\n",
    "- Notebook: [ascii-generator.ipynb](https://github.com/diegoinacio/creative-coding-notebooks/blob/master/Generative/ascii-generator.ipynb)\n",
    "---\n",
    "Implementation of a simple image to ASCII generator."
   ]
  },
  {
   "cell_type": "code",
   "execution_count": null,
   "metadata": {},
   "outputs": [],
   "source": [
    "from PIL import (\n",
    "    Image, \n",
    "    ImageOps, \n",
    "    ImageFont, \n",
    "    ImageDraw\n",
    ")\n",
    "\n",
    "import numpy as np\n",
    "\n",
    "from IPython.display import HTML, display"
   ]
  },
  {
   "cell_type": "markdown",
   "metadata": {},
   "source": [
    "## Symbols\n",
    "---"
   ]
  },
  {
   "cell_type": "code",
   "execution_count": null,
   "metadata": {},
   "outputs": [],
   "source": [
    "# Define symbol set\n",
    "symbols = list(\"!@#%¨&*()-_=+{}[]<>^~,.:;?|\")\n",
    "symbols += [chr(e) for e in range(ord(\"a\"), ord(\"z\") + 1)]\n",
    "symbols += [chr(e) for e in range(ord(\"A\"), ord(\"Z\") + 1)]\n",
    "symbols += list(\"0123456789\")\n",
    "N = len(symbols)"
   ]
  },
  {
   "cell_type": "code",
   "execution_count": null,
   "metadata": {},
   "outputs": [],
   "source": [
    "# Download font\n",
    "import requests\n",
    "URL = \"https://github.com/googlefonts/roboto/blob/master/src/hinted/Roboto-Regular.ttf?raw=true\"\n",
    "response = requests.get(URL)\n",
    "open(\"Roboto-Regular.ttf\", \"wb\").write(response.content)"
   ]
  },
  {
   "cell_type": "code",
   "execution_count": null,
   "metadata": {},
   "outputs": [],
   "source": [
    "# Raster symbol set parameters\n",
    "S, T = 32, 32 # raster sizes\n",
    "\n",
    "# Create raster symbol set\n",
    "SYMBOLS = np.zeros((N, T, S))\n",
    "for i, e in enumerate(symbols):\n",
    "    image = Image.fromarray(np.zeros((S, S)))\n",
    "    draw = ImageDraw.Draw(image)\n",
    "    font = ImageFont.truetype(\"Roboto-Regular.ttf\", S)\n",
    "    draw.text((S/2, S/2), e, anchor=\"mm\", font=font)\n",
    "    SYMBOLS[i] = np.asarray(image)"
   ]
  },
  {
   "cell_type": "markdown",
   "metadata": {},
   "source": [
    "## Input B&W\n",
    "---"
   ]
  },
  {
   "cell_type": "code",
   "execution_count": null,
   "metadata": {},
   "outputs": [],
   "source": [
    "# Read input B&W image\n",
    "IMAGE_BW = Image.open(\"../_data/cameraman.png\")\n",
    "\n",
    "# Histogram equalization\n",
    "IMAGE_BW = ImageOps.equalize(IMAGE_BW)\n",
    "\n",
    "# Show image\n",
    "IMAGE_BW"
   ]
  },
  {
   "cell_type": "code",
   "execution_count": null,
   "metadata": {},
   "outputs": [],
   "source": [
    "# Ascii symbols parameters\n",
    "m, n = 160, 80 # number of ascii symbols per axis\n",
    "\n",
    "# Resize input image based on inputs\n",
    "IMAGE_ = IMAGE_BW.resize((m*S, n*T))\n",
    "IMAGE_ = np.asarray(IMAGE_)/255\n",
    "\n",
    "# Build ascii conversions\n",
    "OUTPUT = [[\"\" for _ in range(m)] for _ in range(n)]\n",
    "for j, ROW in enumerate(OUTPUT):\n",
    "    for i, e in enumerate(ROW):\n",
    "        image = IMAGE_[j*S:(j+1)*S, i*S:(i+1)*S]\n",
    "        diff = np.power(SYMBOLS - image, 2).reshape((N, -1))\n",
    "        OUTPUT[j][i] = symbols[np.argmin(diff.sum(axis=1))]"
   ]
  },
  {
   "cell_type": "code",
   "execution_count": null,
   "metadata": {},
   "outputs": [],
   "source": [
    "STYLE = \"\"\"\n",
    "<style>\n",
    "  .ascii-text-block-bw {\n",
    "    display: block;\n",
    "    word-wrap:  normal;\n",
    "    background-color: black;\n",
    "    font-family: monospace;\n",
    "    font-size: 8px;\n",
    "    letter-spacing: 1px;\n",
    "    line-height: 30%;\n",
    "    padding: 1em;\n",
    "    top: 0;\n",
    "    left: 0;\n",
    "    mix-blend-mode: screen;\n",
    "    color: white;\n",
    "  }\n",
    "\n",
    "  .ascii-text-container-bw {\n",
    "    background-color: black;\n",
    "    display: inline-block;\n",
    "  }\n",
    "</style>\n",
    "\"\"\"\n",
    "\n",
    "# Build HTML\n",
    "DIV = f'<div class=\"ascii-text-container-bw\">'\n",
    "\n",
    "DIV += f'<div class=\"ascii-text-block-bw\">'\n",
    "OUTPUT_ROWS = [\"\".join(e) for e in OUTPUT]\n",
    "DIV += \"\".join([f'<p>{row}</p>' for row in OUTPUT_ROWS])\n",
    "DIV += \"</div>\"\n",
    "\n",
    "DIV += \"</div>\"\n",
    "\n",
    "# Display ascii art\n",
    "display(HTML(STYLE + DIV))"
   ]
  },
  {
   "cell_type": "code",
   "execution_count": null,
   "metadata": {},
   "outputs": [],
   "source": [
    "# Print HTML div\n",
    "# print(STYLE + DIV)"
   ]
  },
  {
   "cell_type": "markdown",
   "metadata": {},
   "source": [
    "## Input RGB\n",
    "---"
   ]
  },
  {
   "cell_type": "code",
   "execution_count": null,
   "metadata": {},
   "outputs": [],
   "source": [
    "# Read input RGB image\n",
    "IMAGE_RGB = Image.open(\"../_data/woman03.png\")\n",
    "\n",
    "# Histogram equalization\n",
    "IMAGE_RGB = ImageOps.equalize(IMAGE_RGB)\n",
    "\n",
    "# Convert to HSV\n",
    "IMAGE_HSV = IMAGE_RGB.convert(\"HSV\")\n",
    "\n",
    "# Show image\n",
    "IMAGE_RGB"
   ]
  },
  {
   "cell_type": "code",
   "execution_count": null,
   "metadata": {},
   "outputs": [],
   "source": [
    "# Ascii symbols parameters\n",
    "m, n = 80, 40 # number of ascii symbols per axis\n",
    "\n",
    "# Resize input image based on inputs\n",
    "IMAGE_ = IMAGE_HSV.resize((m*S, n*T))\n",
    "IMAGE_ = np.asarray(IMAGE_)/255\n",
    "\n",
    "# Build ascii conversions\n",
    "OUTPUT = [[{\"chr\": \"\", \"hue\": \"\"} for _ in range(m)] for _ in range(n)]\n",
    "for j, ROW in enumerate(OUTPUT):\n",
    "    for i, e in enumerate(ROW):\n",
    "        image = IMAGE_[j*S:(j+1)*S, i*S:(i+1)*S, 2]\n",
    "        diff = np.power(SYMBOLS - image, 2).reshape((N, -1))\n",
    "        OUTPUT[j][i][\"chr\"] = symbols[np.argmin(diff.sum(axis=1))]\n",
    "        block_hue = int(np.median(IMAGE_[j*S:(j+1)*S, i*S:(i+1)*S, 0])*360)\n",
    "        block_sat = int(np.median(IMAGE_[j*S:(j+1)*S, i*S:(i+1)*S, 1])*100)\n",
    "        block_val = int(np.median(IMAGE_[j*S:(j+1)*S, i*S:(i+1)*S, 2])*100)\n",
    "        OUTPUT[j][i][\"color\"] = f'hsl({block_hue}, {block_sat}%, {block_val}%)'"
   ]
  },
  {
   "cell_type": "code",
   "execution_count": null,
   "metadata": {},
   "outputs": [],
   "source": [
    "STYLE = \"\"\"\n",
    "<style>\n",
    "  .ascii-text-block-rgb {\n",
    "    display: block;\n",
    "    word-wrap:  normal;\n",
    "    font-family: monospace;\n",
    "    font-size: 16px;\n",
    "    letter-spacing: 1px;\n",
    "    line-height: 30%;\n",
    "    padding: 1em;\n",
    "    top: 0;\n",
    "    left: 0;\n",
    "    mix-blend-mode: screen;\n",
    "    color: white;\n",
    "  }\n",
    "\n",
    "  .ascii-text-container-rgb {\n",
    "    background-color: black;\n",
    "    display: inline-block;\n",
    "  }\n",
    "</style>\n",
    "\"\"\"\n",
    "\n",
    "# Build HTML\n",
    "DIV = f'<div class=\"ascii-text-container-rgb\">'\n",
    "\n",
    "DIV += f'  <div class=\"ascii-text-block-rgb\">'\n",
    "OUTPUT_ROWS = [\"\".join(\n",
    "    [f'<span style=\"color: {e[\"color\"]};\">{e[\"chr\"]}</span>' for e in row]\n",
    ") for row in OUTPUT]\n",
    "DIV += \"\".join([f'<p>{row}</p>' for row in OUTPUT_ROWS])\n",
    "DIV += \"</div>\"\n",
    "\n",
    "DIV += \"</div>\"\n",
    "\n",
    "# Display ascii art\n",
    "display(HTML(STYLE + DIV))"
   ]
  },
  {
   "cell_type": "code",
   "execution_count": null,
   "metadata": {},
   "outputs": [],
   "source": [
    "# Print HTML div\n",
    "# print(STYLE + DIV)"
   ]
  }
 ],
 "metadata": {
  "kernelspec": {
   "display_name": "Python [conda env:imaging]",
   "language": "python",
   "name": "conda-env-imaging-py"
  },
  "language_info": {
   "codemirror_mode": {
    "name": "ipython",
    "version": 3
   },
   "file_extension": ".py",
   "mimetype": "text/x-python",
   "name": "python",
   "nbconvert_exporter": "python",
   "pygments_lexer": "ipython3",
   "version": "3.7.13"
  }
 },
 "nbformat": 4,
 "nbformat_minor": 4
}
