{
 "cells": [
  {
   "cell_type": "markdown",
   "metadata": {},
   "source": [
    "# Color of Noise\n",
    "---\n",
    "- Author: Diego Inácio\n",
    "- GitHub: [github.com/diegoinacio](https://github.com/diegoinacio)\n",
    "- Notebook: [waveform_noise.ipynb](https://github.com/diegoinacio/creative-coding-notebooks/blob/master/Sound-Design/waveform_noise.ipynb)\n",
    "---\n",
    "Overview and implementing of noise function focused on its *power spectrum*."
   ]
  },
  {
   "cell_type": "code",
   "execution_count": null,
   "metadata": {},
   "outputs": [],
   "source": [
    "%matplotlib inline\n",
    "import matplotlib.pyplot as plt\n",
    "from IPython.display import Audio\n",
    "import numpy as np\n",
    "\n",
    "from _utils import *"
   ]
  },
  {
   "cell_type": "code",
   "execution_count": null,
   "metadata": {},
   "outputs": [],
   "source": [
    "fs = 44100                      # Sampling rate\n",
    "dur = 10                        # Duration in seconds\n",
    "t = np.linspace(0, dur, fs*dur) # Time vector"
   ]
  },
  {
   "cell_type": "markdown",
   "metadata": {},
   "source": [
    "## White noise\n",
    "---\n",
    "The *power spectral density* is equivalent to $\\large \\frac{1}{f^0}$, which is constant."
   ]
  },
  {
   "cell_type": "code",
   "execution_count": null,
   "metadata": {},
   "outputs": [],
   "source": [
    "A = 0.5\n",
    "X_white = np.random.uniform(-1, 1, fs*dur//2 + 1)\n",
    "x_white = np.fft.irfft(X_white).real\n",
    "x_white = A*x_white/np.abs(x_white).max()\n",
    "x_white[-1] = 1 # fix normalized output"
   ]
  },
  {
   "cell_type": "code",
   "execution_count": null,
   "metadata": {},
   "outputs": [],
   "source": [
    "Audio(x_white, rate=fs)"
   ]
  },
  {
   "cell_type": "code",
   "execution_count": null,
   "metadata": {},
   "outputs": [],
   "source": [
    "summary(x_white[:-1])"
   ]
  },
  {
   "cell_type": "code",
   "execution_count": null,
   "metadata": {},
   "outputs": [],
   "source": [
    "audiovis(x_white[:-1], tlim=[0, 0.1])"
   ]
  },
  {
   "cell_type": "code",
   "execution_count": null,
   "metadata": {},
   "outputs": [],
   "source": [
    "spectrogram(x_white, flim=[0, 20000])"
   ]
  },
  {
   "cell_type": "code",
   "execution_count": null,
   "metadata": {},
   "outputs": [],
   "source": [
    "fig = plt.figure(figsize=(16, 8))\n",
    "\n",
    "plt.psd(x_white, 2048, fs, color='#888888')\n",
    "\n",
    "plt.xscale('log')\n",
    "plt.xlim([1e2, 1e4])\n",
    "plt.ylim([-80,-50])\n",
    "plt.show()"
   ]
  },
  {
   "cell_type": "markdown",
   "metadata": {},
   "source": [
    "## Pink noise\n",
    "---\n",
    "The *power spectral density* is equivalent to $\\large \\frac{1}{f}$, which decreases 3 dB per octave."
   ]
  },
  {
   "cell_type": "code",
   "execution_count": null,
   "metadata": {},
   "outputs": [],
   "source": [
    "A = 0.5\n",
    "X_pink = np.random.uniform(-1, 1, fs*dur//2 + 1)\n",
    "H = (np.arange(X_pink.size) + 1)**0.5\n",
    "x_pink = np.fft.irfft(X_pink/H).real\n",
    "x_pink = A*x_pink/np.abs(x_pink).max()\n",
    "x_pink[-1] = 1 # fix normalized output"
   ]
  },
  {
   "cell_type": "code",
   "execution_count": null,
   "metadata": {},
   "outputs": [],
   "source": [
    "Audio(x_pink, rate=fs)"
   ]
  },
  {
   "cell_type": "code",
   "execution_count": null,
   "metadata": {},
   "outputs": [],
   "source": [
    "summary(x_pink[:-1])"
   ]
  },
  {
   "cell_type": "code",
   "execution_count": null,
   "metadata": {},
   "outputs": [],
   "source": [
    "audiovis(x_pink[:-1], tlim=[0, 0.1])"
   ]
  },
  {
   "cell_type": "code",
   "execution_count": null,
   "metadata": {},
   "outputs": [],
   "source": [
    "spectrogram(x_pink, flim=[0, 20000])"
   ]
  },
  {
   "cell_type": "code",
   "execution_count": null,
   "metadata": {},
   "outputs": [],
   "source": [
    "fig = plt.figure(figsize=(16, 8))\n",
    "\n",
    "plt.psd(x_pink, 2048, fs, color='#FF88CC')\n",
    "\n",
    "plt.xscale('log')\n",
    "plt.xlim([1e2, 1e4])\n",
    "plt.ylim([-80,-50])\n",
    "plt.show()"
   ]
  },
  {
   "cell_type": "markdown",
   "metadata": {},
   "source": [
    "## Brown noise\n",
    "---\n",
    "The *power spectral density* is equivalent to $\\large \\frac{1}{f^2}$, which decreases 6 dB per octave."
   ]
  },
  {
   "cell_type": "code",
   "execution_count": null,
   "metadata": {},
   "outputs": [],
   "source": [
    "A = 0.5\n",
    "X_brown = np.random.uniform(-1, 1, fs*dur//2 + 1)\n",
    "H = np.arange(X_brown.size) + 100\n",
    "x_brown = np.fft.irfft(X_brown/H).real\n",
    "x_brown = A*x_brown/np.abs(x_brown).max()\n",
    "x_brown[-1] = 1 # fix normalized output"
   ]
  },
  {
   "cell_type": "code",
   "execution_count": null,
   "metadata": {},
   "outputs": [],
   "source": [
    "Audio(x_brown, rate=fs)"
   ]
  },
  {
   "cell_type": "code",
   "execution_count": null,
   "metadata": {},
   "outputs": [],
   "source": [
    "summary(x_brown[:-1])"
   ]
  },
  {
   "cell_type": "code",
   "execution_count": null,
   "metadata": {},
   "outputs": [],
   "source": [
    "audiovis(x_brown[:-1], tlim=[0, 0.1])"
   ]
  },
  {
   "cell_type": "code",
   "execution_count": null,
   "metadata": {},
   "outputs": [],
   "source": [
    "spectrogram(x_brown, flim=[0, 20000])"
   ]
  },
  {
   "cell_type": "code",
   "execution_count": null,
   "metadata": {},
   "outputs": [],
   "source": [
    "fig = plt.figure(figsize=(16, 8))\n",
    "\n",
    "plt.psd(x_brown, 2048, fs, color='#AA4444')\n",
    "\n",
    "plt.xscale('log')\n",
    "plt.xlim([1e2, 1e4])\n",
    "plt.ylim([-80,-50])\n",
    "plt.show()"
   ]
  },
  {
   "cell_type": "markdown",
   "metadata": {},
   "source": [
    "## Blue noise\n",
    "---\n",
    "The *power spectral density* is equivalent to $\\large f$, which increases 3 dB per octave."
   ]
  },
  {
   "cell_type": "code",
   "execution_count": null,
   "metadata": {},
   "outputs": [],
   "source": [
    "A = 0.5\n",
    "X_blue = np.random.uniform(-1, 1, fs*dur//2 + 1)\n",
    "H = np.arange(X_blue.size)**0.5\n",
    "x_blue = np.fft.irfft(X_blue*H).real\n",
    "x_blue = A*x_blue/np.abs(x_blue).max()\n",
    "x_blue[-1] = 1 # fix normalized output"
   ]
  },
  {
   "cell_type": "code",
   "execution_count": null,
   "metadata": {},
   "outputs": [],
   "source": [
    "Audio(x_blue, rate=fs)"
   ]
  },
  {
   "cell_type": "code",
   "execution_count": null,
   "metadata": {},
   "outputs": [],
   "source": [
    "summary(x_blue[:-1])"
   ]
  },
  {
   "cell_type": "code",
   "execution_count": null,
   "metadata": {},
   "outputs": [],
   "source": [
    "audiovis(x_blue[:-1], tlim=[0, 0.1])"
   ]
  },
  {
   "cell_type": "code",
   "execution_count": null,
   "metadata": {},
   "outputs": [],
   "source": [
    "spectrogram(x_blue, flim=[0, 20000])"
   ]
  },
  {
   "cell_type": "code",
   "execution_count": null,
   "metadata": {},
   "outputs": [],
   "source": [
    "fig = plt.figure(figsize=(16, 8))\n",
    "\n",
    "plt.psd(x_blue, 2048, fs, color='#0088FF')\n",
    "\n",
    "plt.xscale('log')\n",
    "plt.xlim([1e2, 1e4])\n",
    "plt.ylim([-90,-50])\n",
    "plt.show()"
   ]
  },
  {
   "cell_type": "markdown",
   "metadata": {},
   "source": [
    "## Violet noise\n",
    "---\n",
    "The *power spectral density* is equivalent to $\\large f^2$, which increases 6 dB per octave."
   ]
  },
  {
   "cell_type": "code",
   "execution_count": null,
   "metadata": {},
   "outputs": [],
   "source": [
    "A = 0.5\n",
    "X_violet = np.random.uniform(-1, 1, fs*dur//2 + 1)\n",
    "H = np.arange(X_violet.size)\n",
    "x_violet = np.fft.irfft(X_violet*H).real\n",
    "x_violet = A*x_violet/np.abs(x_violet).max()\n",
    "x_violet[-1] = 1 # fix normalized output"
   ]
  },
  {
   "cell_type": "code",
   "execution_count": null,
   "metadata": {},
   "outputs": [],
   "source": [
    "Audio(x_violet, rate=fs)"
   ]
  },
  {
   "cell_type": "code",
   "execution_count": null,
   "metadata": {},
   "outputs": [],
   "source": [
    "summary(x_violet[:-1])"
   ]
  },
  {
   "cell_type": "code",
   "execution_count": null,
   "metadata": {},
   "outputs": [],
   "source": [
    "audiovis(x_violet[:-1], tlim=[0, 0.1])"
   ]
  },
  {
   "cell_type": "code",
   "execution_count": null,
   "metadata": {},
   "outputs": [],
   "source": [
    "spectrogram(x_violet, flim=[0, 20000])"
   ]
  },
  {
   "cell_type": "code",
   "execution_count": null,
   "metadata": {},
   "outputs": [],
   "source": [
    "fig = plt.figure(figsize=(16, 8))\n",
    "\n",
    "plt.psd(x_violet, 2048, fs, color='#AA00FF')\n",
    "\n",
    "plt.xscale('log')\n",
    "plt.xlim([1e2, 1e4])\n",
    "plt.ylim([-90,-50])\n",
    "plt.show()"
   ]
  },
  {
   "cell_type": "markdown",
   "metadata": {},
   "source": [
    "## The colours of noise\n",
    "---"
   ]
  },
  {
   "cell_type": "code",
   "execution_count": null,
   "metadata": {},
   "outputs": [],
   "source": [
    "fig = plt.figure(figsize=(16, 8))\n",
    "\n",
    "plt.psd(x_violet, 2048, fs, color='#AA00FF')\n",
    "plt.psd(x_blue, 2048, fs, color='#0088FF')\n",
    "plt.psd(x_white, 2048, fs, color='#888888')\n",
    "plt.psd(x_pink, 2048, fs, color='#FF88CC')\n",
    "plt.psd(x_brown, 2048, fs, color='#AA4444')\n",
    "\n",
    "plt.xscale('log')\n",
    "plt.xlim([1e2, 1e4])\n",
    "plt.ylim([-90,-50])\n",
    "plt.show()"
   ]
  }
 ],
 "metadata": {
  "kernelspec": {
   "display_name": "Python [conda env:sounding]",
   "language": "python",
   "name": "conda-env-sounding-py"
  },
  "language_info": {
   "codemirror_mode": {
    "name": "ipython",
    "version": 3
   },
   "file_extension": ".py",
   "mimetype": "text/x-python",
   "name": "python",
   "nbconvert_exporter": "python",
   "pygments_lexer": "ipython3",
   "version": "3.7.4"
  }
 },
 "nbformat": 4,
 "nbformat_minor": 2
}
