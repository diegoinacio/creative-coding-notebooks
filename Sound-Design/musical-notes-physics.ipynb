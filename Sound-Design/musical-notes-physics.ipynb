{
 "cells": [
  {
   "cell_type": "markdown",
   "metadata": {},
   "source": [
    "# The physics of musical notes\n",
    "---\n",
    "- Author: Diego Inácio\n",
    "- GitHub: [github.com/diegoinacio](https://github.com/diegoinacio)\n",
    "- Notebook: [musical-notes-physics.ipynb](https://github.com/diegoinacio/creative-coding-notebooks/blob/master/Sound-Design/musical-notes-physics.ipynb)\n",
    "---\n",
    "A brief overview of how to calculate the frequency of notes and their wavelengths."
   ]
  },
  {
   "cell_type": "code",
   "execution_count": null,
   "metadata": {},
   "outputs": [],
   "source": [
    "%matplotlib inline\n",
    "import matplotlib.pyplot as plt\n",
    "from IPython.display import Audio\n",
    "import numpy as np\n",
    "import pandas as pd"
   ]
  },
  {
   "cell_type": "code",
   "execution_count": null,
   "metadata": {},
   "outputs": [],
   "source": [
    "plt.rcParams['figure.figsize'] = (16, 4)"
   ]
  },
  {
   "cell_type": "markdown",
   "metadata": {},
   "source": [
    "$$\n",
    "\\large f_n=f_0 \\times a^{n-49}\n",
    "$$\n",
    "\n",
    "where:\n",
    "- $f_{0}$ is the reference frequency for $A_4$, usually is 440 Hz;\n",
    "- $a$ is equivalent to $\\sqrt[12]{2}$ or $2^{\\frac{1}{12}}$;\n",
    "- $n$ denotes the note index."
   ]
  },
  {
   "cell_type": "code",
   "execution_count": null,
   "metadata": {},
   "outputs": [],
   "source": [
    "def frequencies(f0=440, no=9):\n",
    "    '''\n",
    "    Returns the frequency table for all note within the octaves 0-8\n",
    "    no = number of octaves\n",
    "    '''\n",
    "    ne = 12\n",
    "    a = 2**(1/ne)\n",
    "    n = np.arange(no*ne).reshape((no, ne)).T - 8\n",
    "    return f0*a**(n - 49)"
   ]
  },
  {
   "cell_type": "code",
   "execution_count": null,
   "metadata": {},
   "outputs": [],
   "source": [
    "def wavelengths(f, c=343):\n",
    "    '''\n",
    "    Returns the wavelength table in cm\n",
    "    c is the speed of sound in air. Temperature 20°C\n",
    "    '''\n",
    "    return 100*c/f"
   ]
  },
  {
   "cell_type": "code",
   "execution_count": null,
   "metadata": {},
   "outputs": [],
   "source": [
    "fn = frequencies()        # f in Hz\n",
    "wl = wavelengths(fn)      # wavelenght in cm\n",
    "fw = np.vstack((fn, wl))\n",
    "fw = fw.reshape(\n",
    "    (12, -1), order='F'\n",
    ")"
   ]
  },
  {
   "cell_type": "code",
   "execution_count": null,
   "metadata": {},
   "outputs": [],
   "source": [
    "octaves = [('Octave {0}'.format(o), e) for o in range(9) for e in [r'$f$', r'$\\lambda$']]\n",
    "scale = ['C', 'C#', 'D', 'D#', 'E', 'F', 'F#', 'G', 'G#', 'A', 'A#', 'B']"
   ]
  },
  {
   "cell_type": "code",
   "execution_count": null,
   "metadata": {},
   "outputs": [],
   "source": [
    "notes = pd.DataFrame(fw, index=scale, columns=octaves)\n",
    "notes.columns = pd.MultiIndex.from_tuples(notes.columns, names=['Octave','Hz | cm'])\n",
    "notes.T.round(2)"
   ]
  }
 ],
 "metadata": {
  "kernelspec": {
   "display_name": "Python 3",
   "language": "python",
   "name": "python3"
  },
  "language_info": {
   "codemirror_mode": {
    "name": "ipython",
    "version": 3
   },
   "file_extension": ".py",
   "mimetype": "text/x-python",
   "name": "python",
   "nbconvert_exporter": "python",
   "pygments_lexer": "ipython3",
   "version": "3.7.7"
  }
 },
 "nbformat": 4,
 "nbformat_minor": 2
}
