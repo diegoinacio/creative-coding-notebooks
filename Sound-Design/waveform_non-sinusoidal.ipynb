{
 "cells": [
  {
   "cell_type": "markdown",
   "metadata": {},
   "source": [
    "# Non-sinusoidal Periodic Waveforms\n",
    "---\n",
    "- Author: Diego Inácio\n",
    "- GitHub: [github.com/diegoinacio](https://github.com/diegoinacio)\n",
    "- Notebook: [waveform_non-sinusoidal.ipynb](https://github.com/diegoinacio/creative-coding-notebooks/blob/master/Sound-Design/waveform_non-sinusoidal.ipynb)\n",
    "---\n",
    "Overview about *non-sinusoidal periodic waveforms*."
   ]
  },
  {
   "cell_type": "code",
   "execution_count": null,
   "metadata": {},
   "outputs": [],
   "source": [
    "%matplotlib inline\n",
    "import matplotlib.pyplot as plt\n",
    "from IPython.display import Audio\n",
    "import numpy as np\n",
    "\n",
    "from _utils import *"
   ]
  },
  {
   "cell_type": "code",
   "execution_count": null,
   "metadata": {},
   "outputs": [],
   "source": [
    "plt.rcParams['figure.figsize'] = (16, 4)"
   ]
  },
  {
   "cell_type": "code",
   "execution_count": null,
   "metadata": {},
   "outputs": [],
   "source": [
    "fs = 44100                      # Sampling rate\n",
    "dur = 3                         # Duration in seconds\n",
    "t = np.linspace(0, dur, fs*dur) # Time vector"
   ]
  },
  {
   "cell_type": "markdown",
   "metadata": {},
   "source": [
    "## Sine wave model\n",
    "---\n",
    "$$ \\large\n",
    "x(t)=A sin(2\\pi f t + \\phi)=A sin(\\omega t + \\phi)\n",
    "$$\n",
    "\n",
    "where,\n",
    "\n",
    "- $A$ = The aplitude;\n",
    "- $f$ = The ordinary frequency;\n",
    "- $\\omega$ = The angular frequency;\n",
    "- $\\phi$ = The phase."
   ]
  },
  {
   "cell_type": "code",
   "execution_count": null,
   "metadata": {},
   "outputs": [],
   "source": [
    "A = 0.25\n",
    "f = 110\n",
    "omega = 2*np.pi*f\n",
    "phi = 0"
   ]
  },
  {
   "cell_type": "markdown",
   "metadata": {},
   "source": [
    "## Square wave\n",
    "---\n",
    "$$ \\large\n",
    "x_\\textrm{sqr}(t)=A \\textrm{sgn}(sin(\\omega t + \\phi)) \\quad ; \\quad sgn(x)=\\begin{cases}\\begin{aligned} -1, x<0 \\\\\\ 0, x=0 \\\\\\ 1, x>0 \\end{aligned}\\end{cases}\n",
    "$$"
   ]
  },
  {
   "cell_type": "code",
   "execution_count": null,
   "metadata": {},
   "outputs": [],
   "source": [
    "x_sqr = A*np.sign(np.sin(omega*t + phi))\n",
    "x_sqr[-1] = 1 # fix normalized output"
   ]
  },
  {
   "cell_type": "code",
   "execution_count": null,
   "metadata": {},
   "outputs": [],
   "source": [
    "Audio(x_sqr, rate=fs)"
   ]
  },
  {
   "cell_type": "code",
   "execution_count": null,
   "metadata": {},
   "outputs": [],
   "source": [
    "audiovis(x_sqr[:-1], tlim=[0, 0.04])"
   ]
  },
  {
   "cell_type": "markdown",
   "metadata": {},
   "source": [
    "### Harmonic form\n",
    "---\n",
    "$$ \\large\n",
    "x_\\textrm{sqrh}(t)=A\\frac{4}{\\pi}\\sum_{k=1}^{\\infty}\\frac{sin((2k-1)(\\omega t + \\phi))}{2k-1}\n",
    "$$"
   ]
  },
  {
   "cell_type": "code",
   "execution_count": null,
   "metadata": {},
   "outputs": [],
   "source": [
    "N = 32\n",
    "K = np.array([range(N)]).T + 1.0\n",
    "\n",
    "_x_sqrh = np.sin((2*K - 1)*(omega*t + phi))/(2*K - 1)\n",
    "x_sqrh = A*4/np.pi*np.sum(_x_sqrh, axis=0)\n",
    "x_sqrh[-1] = 1 # fix normalized output"
   ]
  },
  {
   "cell_type": "code",
   "execution_count": null,
   "metadata": {},
   "outputs": [],
   "source": [
    "for h in _x_sqrh:\n",
    "    plt.plot(t, h)\n",
    "plt.xlim([0, 1/f])\n",
    "plt.title('Harmonics')\n",
    "plt.show()"
   ]
  },
  {
   "cell_type": "code",
   "execution_count": null,
   "metadata": {},
   "outputs": [],
   "source": [
    "Audio(x_sqrh, rate=fs)"
   ]
  },
  {
   "cell_type": "code",
   "execution_count": null,
   "metadata": {},
   "outputs": [],
   "source": [
    "audiovis(x_sqrh[:-1], tlim=[0, 0.04])"
   ]
  },
  {
   "cell_type": "code",
   "execution_count": null,
   "metadata": {},
   "outputs": [],
   "source": [
    "spectrogram(x_sqrh)"
   ]
  },
  {
   "cell_type": "markdown",
   "metadata": {},
   "source": [
    "## Triangular wave\n",
    "---\n",
    "$$ \\large\n",
    "x_\\textrm{tri}(t)=A\\frac{2}{a}\\left(t+\\frac{\\phi}{\\omega}-a\\left\\lfloor\\frac{t}{a}+\\frac{\\phi}{\\omega a}+\\frac{1}{2}\\right\\rfloor\\right)(-1)^{\\left\\lfloor\\frac{t}{a}+\\frac{\\phi}{\\omega a}+\\frac{1}{2}\\right\\rfloor} \\quad ; \\quad a=\\frac{1}{2f}\n",
    "$$"
   ]
  },
  {
   "cell_type": "code",
   "execution_count": null,
   "metadata": {},
   "outputs": [],
   "source": [
    "A = 0.5\n",
    "a = 1/(2*f)\n",
    "floor = np.vectorize(np.floor)\n",
    "tpw = t + phi/omega # only for saving space\n",
    "x_tri = A*2/a*(tpw - a*floor(tpw/a + 1/2))*(-1)**floor(tpw/a + 1/2)\n",
    "x_tri[-1] = 1 # fix normalized output"
   ]
  },
  {
   "cell_type": "code",
   "execution_count": null,
   "metadata": {},
   "outputs": [],
   "source": [
    "Audio(x_tri, rate=fs)"
   ]
  },
  {
   "cell_type": "code",
   "execution_count": null,
   "metadata": {},
   "outputs": [],
   "source": [
    "audiovis(x_tri[:-1], tlim=[0, 0.04])"
   ]
  },
  {
   "cell_type": "markdown",
   "metadata": {},
   "source": [
    "### Harmonic form\n",
    "---\n",
    "$$ \\large\n",
    "x_\\textrm{trih}(t)=A\\frac{8}{\\pi^2}\\sum_{k=0}^{\\infty}(-1)^k \\frac{sin((2k+1)(\\omega t + \\phi))}{(2k+1)^2}\n",
    "$$"
   ]
  },
  {
   "cell_type": "code",
   "execution_count": null,
   "metadata": {},
   "outputs": [],
   "source": [
    "N = 16\n",
    "K = np.array([range(N)]).T\n",
    "\n",
    "_x_trih = (-1)**K*np.sin((2*K + 1)*(omega*t + phi))/(2*K + 1)**2\n",
    "x_trih = A*8/np.pi**2*np.sum(_x_trih, axis=0)\n",
    "x_trih[-1] = 1 # fix normalized output"
   ]
  },
  {
   "cell_type": "code",
   "execution_count": null,
   "metadata": {},
   "outputs": [],
   "source": [
    "for h in _x_trih:\n",
    "    plt.plot(t, h)\n",
    "plt.xlim([0, 1/f])\n",
    "plt.title('Harmonics')\n",
    "plt.show()"
   ]
  },
  {
   "cell_type": "code",
   "execution_count": null,
   "metadata": {},
   "outputs": [],
   "source": [
    "Audio(x_trih, rate=fs)"
   ]
  },
  {
   "cell_type": "code",
   "execution_count": null,
   "metadata": {},
   "outputs": [],
   "source": [
    "audiovis(x_trih[:-1], tlim=[0, 0.04])"
   ]
  },
  {
   "cell_type": "code",
   "execution_count": null,
   "metadata": {},
   "outputs": [],
   "source": [
    "spectrogram(x_trih)"
   ]
  },
  {
   "cell_type": "markdown",
   "metadata": {},
   "source": [
    "## Sawtooth wave\n",
    "---\n",
    "$$ \\large\n",
    "x_\\textrm{saw}(t)=2A\\left(\\frac{t}{a}+\\frac{\\phi}{\\omega a}-\\left\\lfloor\\frac{t}{a}+\\frac{\\phi}{\\omega a}+\\frac{1}{2}\\right\\rfloor\\right) \\quad ; \\quad a=\\frac{1}{f}\n",
    "$$"
   ]
  },
  {
   "cell_type": "code",
   "execution_count": null,
   "metadata": {},
   "outputs": [],
   "source": [
    "A = 0.25\n",
    "a = 1/f\n",
    "floor = np.vectorize(np.floor)\n",
    "x_saw = A*2*(t/a + phi/(omega*a) - floor(t/a + phi/(omega*a) + 1/2))\n",
    "x_saw[-1] = 1 # fix normalized output"
   ]
  },
  {
   "cell_type": "code",
   "execution_count": null,
   "metadata": {},
   "outputs": [],
   "source": [
    "Audio(x_saw, rate=fs)"
   ]
  },
  {
   "cell_type": "code",
   "execution_count": null,
   "metadata": {},
   "outputs": [],
   "source": [
    "audiovis(x_saw[:-1], tlim=[0, 0.04])"
   ]
  },
  {
   "cell_type": "markdown",
   "metadata": {},
   "source": [
    "### Harmonic form\n",
    "---\n",
    "$$ \\large\n",
    "x_\\textrm{sawh}(t)=\\frac{A}{2}-\\frac{A}{\\pi}\\sum_{k=1}^{\\infty}(-1)^k \\frac{sin(k(\\omega t + \\phi))}{k}\n",
    "$$"
   ]
  },
  {
   "cell_type": "code",
   "execution_count": null,
   "metadata": {},
   "outputs": [],
   "source": [
    "N = 64\n",
    "K = np.array([range(N)]).T + 1.0\n",
    "\n",
    "_x_sawh = (-1)**K*np.sin(K*(omega*t + phi))/K\n",
    "x_sawh = A/2 - A/np.pi*np.sum(_x_sawh, axis=0)\n",
    "x_sawh[-1] = 1 # fix normalized output"
   ]
  },
  {
   "cell_type": "code",
   "execution_count": null,
   "metadata": {},
   "outputs": [],
   "source": [
    "for h in _x_sawh:\n",
    "    plt.plot(t, h)\n",
    "plt.xlim([0, 1/f])\n",
    "plt.title('Harmonics')\n",
    "plt.show()"
   ]
  },
  {
   "cell_type": "code",
   "execution_count": null,
   "metadata": {},
   "outputs": [],
   "source": [
    "Audio(x_sawh, rate=fs)"
   ]
  },
  {
   "cell_type": "code",
   "execution_count": null,
   "metadata": {},
   "outputs": [],
   "source": [
    "audiovis(x_sawh[:-1], tlim=[0, 0.04])"
   ]
  },
  {
   "cell_type": "code",
   "execution_count": null,
   "metadata": {},
   "outputs": [],
   "source": [
    "spectrogram(x_sawh)"
   ]
  },
  {
   "cell_type": "markdown",
   "metadata": {},
   "source": [
    "## Pulse wave\n",
    "---\n",
    "$$ \\large\n",
    "x_1=\\left(t+\\frac{\\phi}{2\\pi f}\\right) \\ mod \\ T \\quad ; \\quad x_\\textrm{pulse}(t)=Ax_1 \\quad ; \\quad x_1=\\begin{cases}\\begin{aligned} 1, x_1\\leq\\tau \\\\\\ 0, x_1>\\tau \\end{aligned}\\end{cases}\n",
    "$$"
   ]
  },
  {
   "cell_type": "code",
   "execution_count": null,
   "metadata": {},
   "outputs": [],
   "source": [
    "A = 0.25\n",
    "T = 1/f                 # Period  \n",
    "tau = 0.1\n",
    "tau *= T\n",
    "x1 = (t + phi/(2*np.pi*f)) % T\n",
    "x_pulse = A*(x1 <= tau)\n",
    "x_pulse[-1] = 1         # fix normalized output"
   ]
  },
  {
   "cell_type": "code",
   "execution_count": null,
   "metadata": {},
   "outputs": [],
   "source": [
    "Audio(x_pulse, rate=fs)"
   ]
  },
  {
   "cell_type": "code",
   "execution_count": null,
   "metadata": {},
   "outputs": [],
   "source": [
    "audiovis(x_pulse[:-1], tlim=[0, 0.04])"
   ]
  },
  {
   "cell_type": "markdown",
   "metadata": {},
   "source": [
    "### Harmonic form\n",
    "---\n",
    "$$ \\large\n",
    "x_\\textrm{pulseh}(t)=A\\left[\\frac{\\tau}{T}+\\sum_{k=1}^{\\infty}\\frac{2}{k\\pi}sin\\left(\\frac{\\pi k\\tau}{T}\\right)cos\\left(\\frac{2\\pi k}{T}\\left(t+\\frac{T\\phi}{2\\pi}-\\frac{\\tau}{2}\\right)\\right)\\right]\n",
    "$$"
   ]
  },
  {
   "cell_type": "code",
   "execution_count": null,
   "metadata": {},
   "outputs": [],
   "source": [
    "N = 64\n",
    "K = np.array([range(N)]).T + 1.0\n",
    "\n",
    "_x_pulseh = 2/(K*np.pi)*np.sin(np.pi*K*tau/T)*np.cos(2*np.pi*K/T*(t + T*phi/(2*np.pi) - tau/2))\n",
    "x_pulseh = A*(tau/T + np.sum(_x_pulseh, axis=0))\n",
    "x_pulseh[-1] = 1 # fix normalized output"
   ]
  },
  {
   "cell_type": "code",
   "execution_count": null,
   "metadata": {},
   "outputs": [],
   "source": [
    "for h in _x_pulseh:\n",
    "    plt.plot(t, h)\n",
    "plt.xlim([0, 1/f])\n",
    "plt.title('Harmonics')\n",
    "plt.show()"
   ]
  },
  {
   "cell_type": "code",
   "execution_count": null,
   "metadata": {},
   "outputs": [],
   "source": [
    "Audio(x_pulseh, rate=fs)"
   ]
  },
  {
   "cell_type": "code",
   "execution_count": null,
   "metadata": {},
   "outputs": [],
   "source": [
    "audiovis(x_pulseh[:-1], tlim=[0, 0.04])"
   ]
  },
  {
   "cell_type": "code",
   "execution_count": null,
   "metadata": {},
   "outputs": [],
   "source": [
    "spectrogram(x_pulseh)"
   ]
  }
 ],
 "metadata": {
  "kernelspec": {
   "display_name": "Python [conda env:sounding]",
   "language": "python",
   "name": "conda-env-sounding-py"
  },
  "language_info": {
   "codemirror_mode": {
    "name": "ipython",
    "version": 3
   },
   "file_extension": ".py",
   "mimetype": "text/x-python",
   "name": "python",
   "nbconvert_exporter": "python",
   "pygments_lexer": "ipython3",
   "version": "3.7.4"
  }
 },
 "nbformat": 4,
 "nbformat_minor": 2
}
