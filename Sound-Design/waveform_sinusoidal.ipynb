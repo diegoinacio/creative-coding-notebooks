{
 "cells": [
  {
   "cell_type": "markdown",
   "metadata": {},
   "source": [
    "# Sinusoidal Periodic Waveform\n",
    "---\n",
    "- Author: Diego Inácio\n",
    "- GitHub: [github.com/diegoinacio](https://github.com/diegoinacio)\n",
    "- Notebook: [waveform_sinusoidal.ipynb](https://github.com/diegoinacio/creative-coding-notebooks/blob/master/Sound-Design/waveform_sinusoidal.ipynb)\n",
    "---\n",
    "Overview about *sinusoidal periodic waveform* or *sine wave function*."
   ]
  },
  {
   "cell_type": "code",
   "execution_count": null,
   "metadata": {},
   "outputs": [],
   "source": [
    "%matplotlib inline\n",
    "import matplotlib.pyplot as plt\n",
    "from IPython.display import Audio\n",
    "import numpy as np\n",
    "\n",
    "from _utils import *"
   ]
  },
  {
   "cell_type": "code",
   "execution_count": null,
   "metadata": {},
   "outputs": [],
   "source": [
    "fs = 44100                      # Sampling rate\n",
    "dur = 3                         # Duration in seconds\n",
    "t = np.linspace(0, dur, fs*dur) # Time vector"
   ]
  },
  {
   "cell_type": "markdown",
   "metadata": {},
   "source": [
    "## 1. Sine wave\n",
    "---\n",
    "$$ \\large\n",
    "x(t)=A sin(2\\pi f t + \\phi)=A sin(\\omega t + \\phi)\n",
    "$$\n",
    "\n",
    "where,\n",
    "\n",
    "- $A$ = The aplitude;\n",
    "- $f$ = The ordinary frequency;\n",
    "- $\\omega$ = The angular frequency;\n",
    "- $\\phi$ = The phase."
   ]
  },
  {
   "cell_type": "code",
   "execution_count": null,
   "metadata": {},
   "outputs": [],
   "source": [
    "A = 1\n",
    "f = 220\n",
    "omega = 2*np.pi*f\n",
    "phi = 0\n",
    "\n",
    "x = A*np.sin(omega*t + phi)"
   ]
  },
  {
   "cell_type": "code",
   "execution_count": null,
   "metadata": {},
   "outputs": [],
   "source": [
    "Audio(x, rate=fs)"
   ]
  },
  {
   "cell_type": "code",
   "execution_count": null,
   "metadata": {},
   "outputs": [],
   "source": [
    "summary(x)"
   ]
  },
  {
   "cell_type": "code",
   "execution_count": null,
   "metadata": {},
   "outputs": [],
   "source": [
    "audiovis(x, tlim=[0, 0.1])"
   ]
  },
  {
   "cell_type": "code",
   "execution_count": null,
   "metadata": {},
   "outputs": [],
   "source": [
    "spectrogram(x, flim=[0,1000])"
   ]
  },
  {
   "cell_type": "markdown",
   "metadata": {},
   "source": [
    "## 2. Changing the parameters\n",
    "---"
   ]
  },
  {
   "cell_type": "code",
   "execution_count": null,
   "metadata": {},
   "outputs": [],
   "source": [
    "plt.rcParams['figure.figsize'] = (16, 4)"
   ]
  },
  {
   "cell_type": "markdown",
   "metadata": {},
   "source": [
    "### 2.1. Amplitude\n",
    "---"
   ]
  },
  {
   "cell_type": "code",
   "execution_count": null,
   "metadata": {},
   "outputs": [],
   "source": [
    "A1 = 1\n",
    "A2 = 0.5\n",
    "x1 = A1*np.sin(2*np.pi*2*t + 0)\n",
    "x2 = A2*np.sin(2*np.pi*2*t + 0)"
   ]
  },
  {
   "cell_type": "code",
   "execution_count": null,
   "metadata": {},
   "outputs": [],
   "source": [
    "plt.plot(t, x1, label=r'$A_1={:.02f}$'.format(A1))\n",
    "plt.plot(t, x2, label=r'$A_2={:.02f}$'.format(A2))\n",
    "plt.legend()\n",
    "plt.show()"
   ]
  },
  {
   "cell_type": "markdown",
   "metadata": {},
   "source": [
    "### 2.2. Frequency\n",
    "---"
   ]
  },
  {
   "cell_type": "code",
   "execution_count": null,
   "metadata": {},
   "outputs": [],
   "source": [
    "f1 = 220\n",
    "f2 = 440\n",
    "x1 = np.sin(2*np.pi*f1*t + 0)\n",
    "x2 = np.sin(2*np.pi*f2*t + 0)"
   ]
  },
  {
   "cell_type": "code",
   "execution_count": null,
   "metadata": {},
   "outputs": [],
   "source": [
    "plt.plot(t, x1, label=r'$f_1={0} \\quad Hz$'.format(f1))\n",
    "plt.plot(t, x2, label=r'$f_2={0} \\quad Hz$'.format(f2))\n",
    "plt.legend(fontsize=12); plt.xlim([0, 0.01])\n",
    "plt.show()"
   ]
  },
  {
   "cell_type": "code",
   "execution_count": null,
   "metadata": {},
   "outputs": [],
   "source": [
    "spectrogram(x1 + x2, flim=[0, 1000])"
   ]
  },
  {
   "cell_type": "markdown",
   "metadata": {},
   "source": [
    "### 2.3. Phase\n",
    "---"
   ]
  },
  {
   "cell_type": "code",
   "execution_count": null,
   "metadata": {},
   "outputs": [],
   "source": [
    "phi1 = 0\n",
    "phi2 = 2*np.pi/5\n",
    "x1 = np.sin(2*np.pi*1*t + phi1)\n",
    "x2 = np.sin(2*np.pi*1*t + phi2)"
   ]
  },
  {
   "cell_type": "code",
   "execution_count": null,
   "metadata": {},
   "outputs": [],
   "source": [
    "plt.plot(t, x1, label=r'$\\phi_1=0 \\quad rad \\cdot s^{-1}$')\n",
    "plt.plot(t, x2, label=r'$\\phi_2=\\frac{2\\pi}{5} \\quad rad \\cdot s^{-1}$')\n",
    "plt.legend(fontsize=12)\n",
    "plt.show()"
   ]
  }
 ],
 "metadata": {
  "kernelspec": {
   "display_name": "Python [conda env:sounding]",
   "language": "python",
   "name": "conda-env-sounding-py"
  },
  "language_info": {
   "codemirror_mode": {
    "name": "ipython",
    "version": 3
   },
   "file_extension": ".py",
   "mimetype": "text/x-python",
   "name": "python",
   "nbconvert_exporter": "python",
   "pygments_lexer": "ipython3",
   "version": "3.7.4"
  }
 },
 "nbformat": 4,
 "nbformat_minor": 2
}
