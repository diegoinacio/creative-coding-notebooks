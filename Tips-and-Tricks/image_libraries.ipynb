{
 "cells": [
  {
   "cell_type": "markdown",
   "metadata": {},
   "source": [
    "# Python Image Libraries\n",
    "---\n",
    "- Author: Diego Inácio\n",
    "- GitHub: [github.com/diegoinacio](https://github.com/diegoinacio)\n",
    "- Notebook: [image_libraries.ipynb](https://github.com/diegoinacio/creative-coding-notebooks/blob/master/Tips-and-Tricks/image_libraries.ipynb)\n",
    "---\n",
    "Brief overview about some of the main python libraries which promote input and output of digital image files."
   ]
  },
  {
   "cell_type": "code",
   "execution_count": null,
   "metadata": {},
   "outputs": [],
   "source": [
    "%matplotlib inline\n",
    "import matplotlib.pyplot as plt\n",
    "import numpy as np\n",
    "\n",
    "from _utils import *"
   ]
  },
  {
   "cell_type": "code",
   "execution_count": null,
   "metadata": {},
   "outputs": [],
   "source": [
    "import warnings\n",
    "warnings.simplefilter('ignore', DeprecationWarning)"
   ]
  },
  {
   "cell_type": "markdown",
   "metadata": {},
   "source": [
    "## 1. PIL\n",
    "---\n",
    "Reading and writing images using *Python Image Library* [PIL](http://www.pythonware.com/products/pil/).\n",
    "\n",
    "### 1.1. Installation\n",
    "---\n",
    "Install by command line:\n",
    "``` python\n",
    ">>> conda install --channel anaconda pillow\n",
    "```\n",
    "or\n",
    "``` python\n",
    ">>> pip install Pillow\n",
    "```\n",
    "\n",
    "### 1.2. Input\n",
    "---\n",
    "***PIL*** still doesn't support bit depth greater than 8."
   ]
  },
  {
   "cell_type": "code",
   "execution_count": null,
   "metadata": {},
   "outputs": [],
   "source": [
    "from PIL import Image as pil"
   ]
  },
  {
   "cell_type": "code",
   "execution_count": null,
   "metadata": {},
   "outputs": [],
   "source": [
    "%%time\n",
    "try:\n",
    "    img_pil = pil.open('../_data/lenna.png')\n",
    "    img_pil = np.asarray(img_pil)\n",
    "except:\n",
    "    print('Can not load image!')"
   ]
  },
  {
   "cell_type": "markdown",
   "metadata": {},
   "source": [
    "### 1.3. Analysis\n",
    "---"
   ]
  },
  {
   "cell_type": "code",
   "execution_count": null,
   "metadata": {},
   "outputs": [],
   "source": [
    "summary_image(img_pil)"
   ]
  },
  {
   "cell_type": "code",
   "execution_count": null,
   "metadata": {},
   "outputs": [],
   "source": [
    "%%time\n",
    "histogram(img_pil)"
   ]
  },
  {
   "cell_type": "markdown",
   "metadata": {},
   "source": [
    "### 1.4. Output\n",
    "---"
   ]
  },
  {
   "cell_type": "code",
   "execution_count": null,
   "metadata": {},
   "outputs": [],
   "source": [
    "img = pil.fromarray(img_pil)\n",
    "#img.save('_output/image_pil.tiff')"
   ]
  },
  {
   "cell_type": "markdown",
   "metadata": {},
   "source": [
    "## 2. Scipy\n",
    "---\n",
    "Reading and writing images using [SciPy](https://www.scipy.org/).\n",
    "\n",
    "### 2.1. Installation\n",
    "---\n",
    "Install by command line:\n",
    "``` python\n",
    ">>> conda install scipy\n",
    "```\n",
    "ou\n",
    "``` python\n",
    ">>> pip install scipy\n",
    "```\n",
    "\n",
    "### 2.2. Input\n",
    "---\n",
    "***sciPy*** still doesn't support bit depth greater than 8."
   ]
  },
  {
   "cell_type": "code",
   "execution_count": null,
   "metadata": {},
   "outputs": [],
   "source": [
    "import scipy.misc as scipy"
   ]
  },
  {
   "cell_type": "code",
   "execution_count": null,
   "metadata": {},
   "outputs": [],
   "source": [
    "%%time\n",
    "try:\n",
    "    img_scipy = scipy.imread('../_data/woman01.png')\n",
    "except:\n",
    "    print('Can not load image!')"
   ]
  },
  {
   "cell_type": "markdown",
   "metadata": {},
   "source": [
    "### 2.3. Analysis\n",
    "---"
   ]
  },
  {
   "cell_type": "code",
   "execution_count": null,
   "metadata": {},
   "outputs": [],
   "source": [
    "summary_image(img_scipy)"
   ]
  },
  {
   "cell_type": "code",
   "execution_count": null,
   "metadata": {},
   "outputs": [],
   "source": [
    "%%time\n",
    "histogram(img_scipy)"
   ]
  },
  {
   "cell_type": "markdown",
   "metadata": {},
   "source": [
    "### 2.4. Output\n",
    "---"
   ]
  },
  {
   "cell_type": "code",
   "execution_count": null,
   "metadata": {},
   "outputs": [],
   "source": [
    "#scipy.imsave('_output/image_scipy.tiff', img_scipy8)"
   ]
  },
  {
   "cell_type": "markdown",
   "metadata": {},
   "source": [
    "## 3. OpenCV\n",
    "---\n",
    "Reading and writing images using [OpenCV](http://opencv.org/).\n",
    "\n",
    "### 3.1. Installation\n",
    "---\n",
    "Install by command line:\n",
    "``` python\n",
    ">>> conda install --channel menpo opencv\n",
    "```\n",
    "or\n",
    "``` python\n",
    ">>> pip install opencv-python\n",
    "```\n",
    "\n",
    "### 3.2. Input\n",
    "---\n",
    "**openCV** supports bit depth greater than 8. The result is in **BGR** mode and it's necessary invert channels to convert to **RGB**."
   ]
  },
  {
   "cell_type": "code",
   "execution_count": null,
   "metadata": {},
   "outputs": [],
   "source": [
    "import cv2"
   ]
  },
  {
   "cell_type": "code",
   "execution_count": null,
   "metadata": {},
   "outputs": [],
   "source": [
    "%%time\n",
    "try:\n",
    "    img_cv = cv2.imread('../_data/woman02.png', -1)\n",
    "    b, g, r = cv2.split(img_cv)\n",
    "    img_cv = cv2.merge((r, g, b))\n",
    "except:\n",
    "    print('Can not load image!')"
   ]
  },
  {
   "cell_type": "markdown",
   "metadata": {},
   "source": [
    "### 3.3. Analysis\n",
    "---"
   ]
  },
  {
   "cell_type": "code",
   "execution_count": null,
   "metadata": {},
   "outputs": [],
   "source": [
    "summary_image(img_cv)"
   ]
  },
  {
   "cell_type": "code",
   "execution_count": null,
   "metadata": {},
   "outputs": [],
   "source": [
    "%%time\n",
    "histogram(img_cv)"
   ]
  },
  {
   "cell_type": "markdown",
   "metadata": {},
   "source": [
    "### 3.4. Output\n",
    "---"
   ]
  },
  {
   "cell_type": "code",
   "execution_count": null,
   "metadata": {},
   "outputs": [],
   "source": [
    "#cv2.imwrite('_output/image_cv.tiff', img_cv)"
   ]
  },
  {
   "cell_type": "markdown",
   "metadata": {},
   "source": [
    "### 3.5. Images - 16 and 32 bits\n",
    "---"
   ]
  },
  {
   "cell_type": "code",
   "execution_count": null,
   "metadata": {},
   "outputs": [],
   "source": [
    "%%time\n",
    "try:\n",
    "    img_cv8 = cv2.imread('../_data/sphere_8bits.tiff', -1)\n",
    "    b, g, r = cv2.split(img_cv8)\n",
    "    img_cv8 = cv2.merge((r, g, b))\n",
    "except:\n",
    "    print('Can not load 8 bits image!')\n",
    "\n",
    "try:\n",
    "    img_cv16 = cv2.imread('../_data/sphere_16bits.tiff', -1)\n",
    "    b, g, r = cv2.split(img_cv16)\n",
    "    img_cv16 = cv2.merge((r, g, b))\n",
    "except:\n",
    "    print('Can not load 16 bits image!')\n",
    "\n",
    "try:\n",
    "    img_cv32 = cv2.imread('../_data/sphere_32bits.tiff', -1)\n",
    "    b, g, r = cv2.split(img_cv32)\n",
    "    img_cv32 = cv2.merge((r, g, b))\n",
    "except:\n",
    "    print('Can not load 32 bits image!')"
   ]
  },
  {
   "cell_type": "code",
   "execution_count": null,
   "metadata": {},
   "outputs": [],
   "source": [
    "print('8 bits')\n",
    "summary_image(img_cv8)"
   ]
  },
  {
   "cell_type": "code",
   "execution_count": null,
   "metadata": {},
   "outputs": [],
   "source": [
    "%%time\n",
    "histogram(img_cv8, bins=2**8, interval=[0, 2**8 - 1])"
   ]
  },
  {
   "cell_type": "code",
   "execution_count": null,
   "metadata": {},
   "outputs": [],
   "source": [
    "print('\\n16 bits')\n",
    "summary_image(img_cv16)"
   ]
  },
  {
   "cell_type": "code",
   "execution_count": null,
   "metadata": {},
   "outputs": [],
   "source": [
    "%%time\n",
    "histogram(img_cv16, bins=2**8, interval=[0, 2**16 - 1])"
   ]
  },
  {
   "cell_type": "code",
   "execution_count": null,
   "metadata": {},
   "outputs": [],
   "source": [
    "print('\\n32 bits')\n",
    "summary_image(img_cv32)"
   ]
  },
  {
   "cell_type": "code",
   "execution_count": null,
   "metadata": {},
   "outputs": [],
   "source": [
    "%%time\n",
    "# colorspace linear\n",
    "histogram(img_cv32, bins=2**8, interval=[0, 1])"
   ]
  },
  {
   "cell_type": "code",
   "execution_count": null,
   "metadata": {},
   "outputs": [],
   "source": [
    "%%time\n",
    "# colorspace sRGB\n",
    "histogram(img_cv32**(1/2.2), bins=2**8, interval=[0, 1])"
   ]
  },
  {
   "cell_type": "code",
   "execution_count": null,
   "metadata": {},
   "outputs": [],
   "source": [
    "#cv2.imwrite('_output/image_8bit_cv.tiff', img_cv8)\n",
    "#cv2.imwrite('_output/image_16bit_cv.tiff', img_cv16)\n",
    "#cv2.imwrite('_output/image_32bit_cv.tiff', img_cv32)"
   ]
  },
  {
   "cell_type": "markdown",
   "metadata": {},
   "source": [
    "## 4. ImageIO\n",
    "---\n",
    "Reading and writing images using [ImageIO](https://imageio.github.io/).\n",
    "\n",
    "### 4.1. Installation\n",
    "---\n",
    "Install by command line:\n",
    "``` python\n",
    ">>> conda install -c anaconda imageio\n",
    ">>> conda install -c dlr-sc freeimageplus\n",
    "```\n",
    "or\n",
    "``` python\n",
    ">>> pip install imageio\n",
    ">>> pip install smc.freeimage\n",
    "```\n",
    "\n",
    "### 4.2. Input\n",
    "---"
   ]
  },
  {
   "cell_type": "code",
   "execution_count": null,
   "metadata": {},
   "outputs": [],
   "source": [
    "import imageio as iio"
   ]
  },
  {
   "cell_type": "code",
   "execution_count": null,
   "metadata": {},
   "outputs": [],
   "source": [
    "%%time\n",
    "try:\n",
    "    img_iio = iio.imread('../_data/woman03.png')\n",
    "except:\n",
    "    print('Can not load image!')"
   ]
  },
  {
   "cell_type": "markdown",
   "metadata": {},
   "source": [
    "### 4.3. Analysis\n",
    "---"
   ]
  },
  {
   "cell_type": "code",
   "execution_count": null,
   "metadata": {},
   "outputs": [],
   "source": [
    "summary_image(img_iio)"
   ]
  },
  {
   "cell_type": "code",
   "execution_count": null,
   "metadata": {},
   "outputs": [],
   "source": [
    "%%time\n",
    "histogram(img_iio)"
   ]
  },
  {
   "cell_type": "markdown",
   "metadata": {},
   "source": [
    "### 4.4. Output\n",
    "---"
   ]
  },
  {
   "cell_type": "code",
   "execution_count": null,
   "metadata": {},
   "outputs": [],
   "source": [
    "#iio.imwrite('_output/image_iio.tiff', img_iio)"
   ]
  },
  {
   "cell_type": "markdown",
   "metadata": {},
   "source": [
    "### 4.5. Images 16 e 32 bits\n",
    "---"
   ]
  },
  {
   "cell_type": "code",
   "execution_count": null,
   "metadata": {},
   "outputs": [],
   "source": [
    "%%time\n",
    "try:\n",
    "    img_iio8 = iio.imread('../_data/sphere_8bits.tiff')\n",
    "except:\n",
    "    print('Can not load 8 bits image!')\n",
    "\n",
    "try:\n",
    "    img_iio16 = iio.imread('../_data/sphere_16bits.tiff')\n",
    "except:\n",
    "    print('Can not load 16 bits image!')\n",
    "\n",
    "try:\n",
    "    img_iio32 = iio.imread('../_data/sphere_32bits.tiff')\n",
    "except:\n",
    "    print('Can not load 32 bits image!')"
   ]
  },
  {
   "cell_type": "code",
   "execution_count": null,
   "metadata": {},
   "outputs": [],
   "source": [
    "print('8 bits')\n",
    "summary_image(img_iio8)"
   ]
  },
  {
   "cell_type": "code",
   "execution_count": null,
   "metadata": {},
   "outputs": [],
   "source": [
    "%%time\n",
    "histogram(img_iio8, bins=2**8, interval=[0, 2**8 - 1])"
   ]
  },
  {
   "cell_type": "code",
   "execution_count": null,
   "metadata": {},
   "outputs": [],
   "source": [
    "print('\\n16 bits')\n",
    "summary_image(img_iio16)"
   ]
  },
  {
   "cell_type": "code",
   "execution_count": null,
   "metadata": {},
   "outputs": [],
   "source": [
    "%%time\n",
    "histogram(img_iio16, bins=2**8, interval=[0, 2**16 - 1])"
   ]
  },
  {
   "cell_type": "code",
   "execution_count": null,
   "metadata": {},
   "outputs": [],
   "source": [
    "print('\\n32 bits')\n",
    "summary_image(img_iio32)"
   ]
  },
  {
   "cell_type": "code",
   "execution_count": null,
   "metadata": {},
   "outputs": [],
   "source": [
    "%%time\n",
    "# colorspace linear\n",
    "histogram(img_iio32, bins=2**8, interval=[0, 1])"
   ]
  },
  {
   "cell_type": "code",
   "execution_count": null,
   "metadata": {},
   "outputs": [],
   "source": [
    "%%time\n",
    "# colorspace sRGB\n",
    "histogram(img_iio32**(1/2.2), bins=2**8, interval=[0, 1])"
   ]
  },
  {
   "cell_type": "code",
   "execution_count": null,
   "metadata": {},
   "outputs": [],
   "source": [
    "#iio.imwrite('_output/image_8bit_iio.tiff', img_iio8)\n",
    "#iio.imwrite('_output/image_16bit_iio.tiff', img_iio16)\n",
    "#iio.imwrite('_output/image_32bit_iio.tiff', img_iio32)"
   ]
  }
 ],
 "metadata": {
  "kernelspec": {
   "display_name": "Python 3",
   "language": "python",
   "name": "python3"
  },
  "language_info": {
   "codemirror_mode": {
    "name": "ipython",
    "version": 3
   },
   "file_extension": ".py",
   "mimetype": "text/x-python",
   "name": "python",
   "nbconvert_exporter": "python",
   "pygments_lexer": "ipython3",
   "version": "3.7.7"
  }
 },
 "nbformat": 4,
 "nbformat_minor": 2
}
