{
 "cells": [
  {
   "cell_type": "markdown",
   "metadata": {},
   "source": [
    "# Matplotlib Animation\n",
    "---\n",
    "- Author: Diego Inácio\n",
    "- GitHub: [github.com/diegoinacio](https://github.com/diegoinacio)\n",
    "- Notebook: [matplotlib_animation.ipynb](https://github.com/diegoinacio/creative-coding-notebooks/blob/master/Tips-and-Tricks/matplotlib_animation.ipynb)\n",
    "---\n",
    "Examples of animated visualization using *Matplotlib*."
   ]
  },
  {
   "cell_type": "code",
   "execution_count": null,
   "metadata": {},
   "outputs": [],
   "source": [
    "%matplotlib inline\n",
    "import matplotlib.pyplot as plt\n",
    "from matplotlib import cm\n",
    "import numpy as np\n",
    "from numba import jit\n",
    "import imageio as iio\n",
    "import os, sys\n",
    "\n",
    "import matplotlib.animation as manim"
   ]
  },
  {
   "cell_type": "code",
   "execution_count": null,
   "metadata": {},
   "outputs": [],
   "source": [
    "plt.rcParams['figure.figsize'] = (16, 8)"
   ]
  },
  {
   "cell_type": "markdown",
   "metadata": {},
   "source": [
    "## 1. Exporting image sequence\n",
    "---"
   ]
  },
  {
   "cell_type": "markdown",
   "metadata": {},
   "source": [
    "### 1.1. Color shifting\n",
    "---"
   ]
  },
  {
   "cell_type": "code",
   "execution_count": null,
   "metadata": {},
   "outputs": [],
   "source": [
    "fig, (axA, axB) = plt.subplots(1, 2)\n",
    "\n",
    "imgA = iio.imread('../_data/babuino.png')/255\n",
    "frames = 4\n",
    "\n",
    "for frame in range(frames):\n",
    "    imgA = (imgA + frame/frames) % 1\n",
    "    axA.imshow(imgA)\n",
    "\n",
    "    axB.hist(imgA[..., 0].ravel(), bins=256, range=(0.0, 1.0), fc='r', alpha=0.5)\n",
    "    axB.hist(imgA[..., 1].ravel(), bins=256, range=(0.0, 1.0), fc='g', alpha=0.5)\n",
    "    axB.hist(imgA[..., 2].ravel(), bins=256, range=(0.0, 1.0), fc='b', alpha=0.5)\n",
    "    \n",
    "    plt.tight_layout()\n",
    "\n",
    "    plt.savefig('output/matplotlib_animation_colorShift.{0:04d}.png'.format(frame))\n",
    "    axA.cla(); axB.cla()\n",
    "\n",
    "plt.close()"
   ]
  },
  {
   "cell_type": "code",
   "execution_count": null,
   "metadata": {},
   "outputs": [],
   "source": [
    "%%HTML\n",
    "<table>\n",
    "    <tr>\n",
    "        <td><img src='output/matplotlib_animation_colorShift.0000.png' width=\"512\"></td>\n",
    "        <td><img src='output/matplotlib_animation_colorShift.0001.png' width=\"512\"></td>\n",
    "    </tr>\n",
    "    <tr>\n",
    "        <td><img src='output/matplotlib_animation_colorShift.0002.png' width=\"512\"></td>\n",
    "        <td><img src='output/matplotlib_animation_colorShift.0003.png' width=\"512\"></td>\n",
    "    </tr>\n",
    "</table>"
   ]
  },
  {
   "cell_type": "markdown",
   "metadata": {},
   "source": [
    "## 2. Exporting GIFs\n",
    "---\n",
    "\n",
    "Linux e OSX\n",
    "``` python\n",
    ">>> conda install --channel conda-forge imagemagick\n",
    "```\n",
    "\n",
    "For windows folow [ImageMagick download](https://imagemagick.org/script/download.php)."
   ]
  },
  {
   "cell_type": "code",
   "execution_count": null,
   "metadata": {},
   "outputs": [],
   "source": [
    "# windows user only\n",
    "plt.rcParams[\"animation.convert_path\"] = r\"C:\\Program Files\\ImageMagick-7.0.10-Q16-HDRI\\magick.exe\""
   ]
  },
  {
   "cell_type": "markdown",
   "metadata": {},
   "source": [
    "### 2.1. Reaction-Diffusion system\n",
    "---"
   ]
  },
  {
   "cell_type": "code",
   "execution_count": null,
   "metadata": {},
   "outputs": [],
   "source": [
    "@jit(nopython=True, parallel=True)\n",
    "def nabla2f(Z):\n",
    "    '''\n",
    "    Laplace operator\n",
    "    '''\n",
    "    Zup = Z[0:-2,1:-1]\n",
    "    Zdown = Z[2:,1:-1]\n",
    "    Zleft = Z[1:-1,0:-2]\n",
    "    Zright = Z[1:-1,2:]\n",
    "    Zcenter = Z[1:-1,1:-1]\n",
    "    return Zup + Zleft + Zdown + Zright - 4*Zcenter\n",
    "\n",
    "@jit(nopython=True, parallel=True)\n",
    "def reactionDiffusion(U, V, u, v, ru, rv, f, k, iters):\n",
    "    '''\n",
    "    Reaction diffusion system\n",
    "    '''\n",
    "    for i in range(iters):\n",
    "        u += ru*nabla2f(U) - u*v**2 + f*(1 - u)\n",
    "        v += rv*nabla2f(V) + u*v**2 - (f + k)*v\n",
    "    return V"
   ]
  },
  {
   "cell_type": "code",
   "execution_count": null,
   "metadata": {},
   "outputs": [],
   "source": [
    "fig, ax = plt.subplots(figsize=(2048//72, 512//72))\n",
    "\n",
    "# gif parameters\n",
    "N1, N2 = 128j, 512j\n",
    "M1, M2 = int(N1.imag), int(N2.imag)\n",
    "iters = 70\n",
    "frames = 30\n",
    "\n",
    "# RD system initialization\n",
    "np.random.seed(sum(map(lambda c: ord(c), 'reaction diffusion')))\n",
    "U = np.zeros((M1 + 2, M2 + 2)); u = U[1:-1, 1:-1]\n",
    "V = np.zeros((M1 + 2, M2 + 2)); v = V[1:-1, 1:-1]\n",
    "t, s = np.mgrid[-0.25:0.25:N1, -1:1:N2]\n",
    "fo = 5\n",
    "u += np.sin(np.pi*s*fo)*np.sin(np.pi*t*fo) >= 2**0.5/2\n",
    "v += np.cos(np.pi*s*fo)*np.cos(np.pi*t*fo) >= 2**0.5/2\n",
    "e = 0.4\n",
    "u += np.random.random((M1, M2))*e - e\n",
    "v += np.random.random((M1, M2))*e - e\n",
    "\n",
    "f, k, ru, rv = 0.06, 0.062, 0.19, 0.05\n",
    "\n",
    "def animation(frame):\n",
    "    plt.cla(); #ax.set_ylim(-1, 1); ax.set_title('White Noise')\n",
    "    RD = reactionDiffusion(U, V, u, v, ru, rv, f, k, iters)\n",
    "    imshow = ax.imshow(RD, vmin=RD.min(), vmax=RD.max())\n",
    "    plt.tight_layout()\n",
    "    return imshow\n",
    "\n",
    "anim = manim.FuncAnimation(fig, animation, frames=30, interval=100)\n",
    "\n",
    "anim.save('output/matplotlib_animation_reactionDiffusion.gif', writer=\"imagemagick\", extra_args=\"convert\")\n",
    "plt.close()\n",
    "\n",
    "# Solve repetition problem\n",
    "! magick convert _output/matplotlib_animation_reactionDiffusion.gif -loop 0 _output/matplotlib_animation_reactionDiffusion.gif\n",
    "! echo GIF exported and reconverted. Disregard the message above."
   ]
  },
  {
   "cell_type": "markdown",
   "metadata": {},
   "source": [
    "![Reaction Diffusion](output/matplotlib_animation_reactionDiffusion.gif)"
   ]
  },
  {
   "cell_type": "markdown",
   "metadata": {},
   "source": [
    "## 3. Exporting videos\n",
    "---\n",
    "\n",
    "``` python\n",
    ">>> conda install --channel conda-forge ffmpeg\n",
    "```"
   ]
  },
  {
   "cell_type": "code",
   "execution_count": null,
   "metadata": {},
   "outputs": [],
   "source": [
    "img = iio.imread('../_data/ship.png')/255\n",
    "IMG = np.fft.fft2(img)\n",
    "IMG = np.fft.fftshift(IMG)\n",
    "\n",
    "fig, (axA, axB) = plt.subplots(1, 2)\n",
    "\n",
    "axA.imshow(img, cmap='gray')\n",
    "axA.set_title('input image')\n",
    "\n",
    "axB.imshow(np.log10(1 + abs(IMG)), cmap='gray')\n",
    "axB.set_title('spectrum')\n",
    "\n",
    "plt.show()"
   ]
  },
  {
   "cell_type": "markdown",
   "metadata": {},
   "source": [
    "### 3.1. Band-pass filter\n",
    "---"
   ]
  },
  {
   "cell_type": "code",
   "execution_count": null,
   "metadata": {},
   "outputs": [],
   "source": [
    "t, s = np.mgrid[-1:1:512j, -1:1:512j]\n",
    "d = (s**2 + t**2)**0.5\n",
    "f = lambda mu, sigma: 1/(sigma*(2*np.pi)**0.5)*np.exp(-1/2*((d - mu)/sigma)**2)\n",
    "\n",
    "FFMpegWriter = manim.writers['ffmpeg']\n",
    "metadata = dict(title='Band-pass filter', artist='Diego Inácio',\n",
    "                comment='Exporting movies using Python and Matplotlib')\n",
    "writer = FFMpegWriter(fps=15, metadata=metadata)\n",
    "\n",
    "fig, (axA, axB) = plt.subplots(1, 2)\n",
    "\n",
    "mu, sigma = -0.5, 0.1\n",
    "frames = 90\n",
    "with writer.saving(fig, 'output/matplotlib_animation_BPF.mp4', frames):\n",
    "    for i in range(frames):\n",
    "        H = f(mu, sigma)\n",
    "        axA.imshow(H, cmap='gray')\n",
    "        axA.set_title(r'filter H, $\\sigma={0}$, $\\mu={1:.2f}$'.format(sigma, mu))\n",
    "\n",
    "        img_H = np.fft.ifftshift(H*IMG)\n",
    "        img_H = np.fft.ifft2(img_H).real\n",
    "        axB.imshow(img_H, cmap='gray')\n",
    "        axB.set_title('filtered image')\n",
    "        \n",
    "        mu += 2/frames\n",
    "        writer.grab_frame()\n",
    "        print('{:06.2f} %'.format(100*(i + 1)/frames), end='\\r', flush=True)\n",
    "plt.close()"
   ]
  },
  {
   "cell_type": "code",
   "execution_count": null,
   "metadata": {},
   "outputs": [],
   "source": [
    "%%HTML\n",
    "<video width='900' height='450' controls>\n",
    "  <source src='output/matplotlib_animation_BPF.mp4' type='video/mp4'>\n",
    "</video>"
   ]
  }
 ],
 "metadata": {
  "kernelspec": {
   "display_name": "Python 3",
   "language": "python",
   "name": "python3"
  },
  "language_info": {
   "codemirror_mode": {
    "name": "ipython",
    "version": 3
   },
   "file_extension": ".py",
   "mimetype": "text/x-python",
   "name": "python",
   "nbconvert_exporter": "python",
   "pygments_lexer": "ipython3",
   "version": "3.7.7"
  }
 },
 "nbformat": 4,
 "nbformat_minor": 2
}
