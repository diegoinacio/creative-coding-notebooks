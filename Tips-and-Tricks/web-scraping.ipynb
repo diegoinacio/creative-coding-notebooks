{
 "cells": [
  {
   "cell_type": "markdown",
   "id": "selective-opinion",
   "metadata": {},
   "source": [
    "# Web Scraping\n",
    "---\n",
    "- Author: Diego Inácio\n",
    "- GitHub: [github.com/diegoinacio](https://github.com/diegoinacio)\n",
    "- Notebook: [web-scraping.ipynb](https://github.com/diegoinacio/creative-coding-notebooks/blob/master/Tips-and-Tricks/web-scraping.ipynb)\n",
    "---\n",
    "Some demonstrations of how to scrape data on the web.\n",
    "\n",
    "[Web scraping](https://en.wikipedia.org/wiki/Web_scraping) or **web data extraction** is a process that allows us to collect structured (or even unstructured) data from the web via requests."
   ]
  },
  {
   "cell_type": "code",
   "execution_count": 1,
   "id": "velvet-cooper",
   "metadata": {},
   "outputs": [],
   "source": [
    "# Scraping libraries\n",
    "import requests\n",
    "from bs4 import BeautifulSoup\n",
    "\n",
    "# Display libraries\n",
    "from IPython.display import display, HTML, Image, Audio"
   ]
  },
  {
   "cell_type": "markdown",
   "id": "talented-breed",
   "metadata": {},
   "source": [
    "## 1. Request and HTML Parsing\n",
    "---\n",
    "The libraries we need are:\n",
    "- **Requests**: Allows us to send *HTTP requests* in an extremely easily way.\n",
    "- **Beautiful Soup**: Allows us to extract data from HTML files and parse it to a Python objct.\n",
    "\n",
    "For the following example, let's take the content table from the page [Ordinary Differential Equation](https://en.wikipedia.org/wiki/Ordinary_differential_equation) on wikipedia."
   ]
  },
  {
   "cell_type": "code",
   "execution_count": 2,
   "id": "inclusive-serial",
   "metadata": {},
   "outputs": [
    {
     "data": {
      "text/html": [
       "<ul>\n",
       "<li class=\"toclevel-1 tocsection-1\"><a href=\"https://en.wikipedia.org/wiki/Ordinary_differential_equation#Differential_equations\"><span class=\"tocnumber\">1</span> <span class=\"toctext\">Differential equations</span></a></li>\n",
       "<li class=\"toclevel-1 tocsection-2\"><a href=\"https://en.wikipedia.org/wiki/Ordinary_differential_equation#Background\"><span class=\"tocnumber\">2</span> <span class=\"toctext\">Background</span></a></li>\n",
       "<li class=\"toclevel-1 tocsection-3\"><a href=\"https://en.wikipedia.org/wiki/Ordinary_differential_equation#Definitions\"><span class=\"tocnumber\">3</span> <span class=\"toctext\">Definitions</span></a>\n",
       "<ul>\n",
       "<li class=\"toclevel-2 tocsection-4\"><a href=\"https://en.wikipedia.org/wiki/Ordinary_differential_equation#General_definition\"><span class=\"tocnumber\">3.1</span> <span class=\"toctext\">General definition</span></a></li>\n",
       "<li class=\"toclevel-2 tocsection-5\"><a href=\"https://en.wikipedia.org/wiki/Ordinary_differential_equation#System_of_ODEs\"><span class=\"tocnumber\">3.2</span> <span class=\"toctext\">System of ODEs</span></a></li>\n",
       "<li class=\"toclevel-2 tocsection-6\"><a href=\"https://en.wikipedia.org/wiki/Ordinary_differential_equation#Solutions\"><span class=\"tocnumber\">3.3</span> <span class=\"toctext\">Solutions</span></a></li>\n",
       "</ul>\n",
       "</li>\n",
       "<li class=\"toclevel-1 tocsection-7\"><a href=\"https://en.wikipedia.org/wiki/Ordinary_differential_equation#Theories\"><span class=\"tocnumber\">4</span> <span class=\"toctext\">Theories</span></a>\n",
       "<ul>\n",
       "<li class=\"toclevel-2 tocsection-8\"><a href=\"https://en.wikipedia.org/wiki/Ordinary_differential_equation#Singular_solutions\"><span class=\"tocnumber\">4.1</span> <span class=\"toctext\">Singular solutions</span></a></li>\n",
       "<li class=\"toclevel-2 tocsection-9\"><a href=\"https://en.wikipedia.org/wiki/Ordinary_differential_equation#Reduction_to_quadratures\"><span class=\"tocnumber\">4.2</span> <span class=\"toctext\">Reduction to quadratures</span></a></li>\n",
       "<li class=\"toclevel-2 tocsection-10\"><a href=\"https://en.wikipedia.org/wiki/Ordinary_differential_equation#Fuchsian_theory\"><span class=\"tocnumber\">4.3</span> <span class=\"toctext\">Fuchsian theory</span></a></li>\n",
       "<li class=\"toclevel-2 tocsection-11\"><a href=\"https://en.wikipedia.org/wiki/Ordinary_differential_equation#Lie's_theory\"><span class=\"tocnumber\">4.4</span> <span class=\"toctext\">Lie's theory</span></a></li>\n",
       "<li class=\"toclevel-2 tocsection-12\"><a href=\"https://en.wikipedia.org/wiki/Ordinary_differential_equation#Sturm–Liouville_theory\"><span class=\"tocnumber\">4.5</span> <span class=\"toctext\">Sturm–Liouville theory</span></a></li>\n",
       "</ul>\n",
       "</li>\n",
       "<li class=\"toclevel-1 tocsection-13\"><a href=\"https://en.wikipedia.org/wiki/Ordinary_differential_equation#Existence_and_uniqueness_of_solutions\"><span class=\"tocnumber\">5</span> <span class=\"toctext\">Existence and uniqueness of solutions</span></a>\n",
       "<ul>\n",
       "<li class=\"toclevel-2 tocsection-14\"><a href=\"https://en.wikipedia.org/wiki/Ordinary_differential_equation#Local_existence_and_uniqueness_theorem_simplified\"><span class=\"tocnumber\">5.1</span> <span class=\"toctext\">Local existence and uniqueness theorem simplified</span></a></li>\n",
       "<li class=\"toclevel-2 tocsection-15\"><a href=\"https://en.wikipedia.org/wiki/Ordinary_differential_equation#Global_uniqueness_and_maximum_domain_of_solution\"><span class=\"tocnumber\">5.2</span> <span class=\"toctext\">Global uniqueness and maximum domain of solution</span></a></li>\n",
       "</ul>\n",
       "</li>\n",
       "<li class=\"toclevel-1 tocsection-16\"><a href=\"https://en.wikipedia.org/wiki/Ordinary_differential_equation#Reduction_of_order\"><span class=\"tocnumber\">6</span> <span class=\"toctext\">Reduction of order</span></a>\n",
       "<ul>\n",
       "<li class=\"toclevel-2 tocsection-17\"><a href=\"https://en.wikipedia.org/wiki/Ordinary_differential_equation#Reduction_to_a_first-order_system\"><span class=\"tocnumber\">6.1</span> <span class=\"toctext\">Reduction to a first-order system</span></a></li>\n",
       "</ul>\n",
       "</li>\n",
       "<li class=\"toclevel-1 tocsection-18\"><a href=\"https://en.wikipedia.org/wiki/Ordinary_differential_equation#Summary_of_exact_solutions\"><span class=\"tocnumber\">7</span> <span class=\"toctext\">Summary of exact solutions</span></a>\n",
       "<ul>\n",
       "<li class=\"toclevel-2 tocsection-19\"><a href=\"https://en.wikipedia.org/wiki/Ordinary_differential_equation#Separable_equations\"><span class=\"tocnumber\">7.1</span> <span class=\"toctext\">Separable equations</span></a></li>\n",
       "<li class=\"toclevel-2 tocsection-20\"><a href=\"https://en.wikipedia.org/wiki/Ordinary_differential_equation#General_first-order_equations\"><span class=\"tocnumber\">7.2</span> <span class=\"toctext\">General first-order equations</span></a></li>\n",
       "<li class=\"toclevel-2 tocsection-21\"><a href=\"https://en.wikipedia.org/wiki/Ordinary_differential_equation#General_second-order_equations\"><span class=\"tocnumber\">7.3</span> <span class=\"toctext\">General second-order equations</span></a></li>\n",
       "<li class=\"toclevel-2 tocsection-22\"><a href=\"https://en.wikipedia.org/wiki/Ordinary_differential_equation#Linear_to_the_nth_order_equations\"><span class=\"tocnumber\">7.4</span> <span class=\"toctext\">Linear to the <i>n</i>th order equations</span></a></li>\n",
       "</ul>\n",
       "</li>\n",
       "<li class=\"toclevel-1 tocsection-23\"><a href=\"https://en.wikipedia.org/wiki/Ordinary_differential_equation#The_guessing_method\"><span class=\"tocnumber\">8</span> <span class=\"toctext\">The guessing method</span></a></li>\n",
       "<li class=\"toclevel-1 tocsection-24\"><a href=\"https://en.wikipedia.org/wiki/Ordinary_differential_equation#Software_for_ODE_solving\"><span class=\"tocnumber\">9</span> <span class=\"toctext\">Software for ODE solving</span></a></li>\n",
       "<li class=\"toclevel-1 tocsection-25\"><a href=\"https://en.wikipedia.org/wiki/Ordinary_differential_equation#See_also\"><span class=\"tocnumber\">10</span> <span class=\"toctext\">See also</span></a></li>\n",
       "<li class=\"toclevel-1 tocsection-26\"><a href=\"https://en.wikipedia.org/wiki/Ordinary_differential_equation#Notes\"><span class=\"tocnumber\">11</span> <span class=\"toctext\">Notes</span></a></li>\n",
       "<li class=\"toclevel-1 tocsection-27\"><a href=\"https://en.wikipedia.org/wiki/Ordinary_differential_equation#References\"><span class=\"tocnumber\">12</span> <span class=\"toctext\">References</span></a></li>\n",
       "<li class=\"toclevel-1 tocsection-28\"><a href=\"https://en.wikipedia.org/wiki/Ordinary_differential_equation#Bibliography\"><span class=\"tocnumber\">13</span> <span class=\"toctext\">Bibliography</span></a></li>\n",
       "<li class=\"toclevel-1 tocsection-29\"><a href=\"https://en.wikipedia.org/wiki/Ordinary_differential_equation#External_links\"><span class=\"tocnumber\">14</span> <span class=\"toctext\">External links</span></a></li>\n",
       "</ul>"
      ],
      "text/plain": [
       "<IPython.core.display.HTML object>"
      ]
     },
     "execution_count": 2,
     "metadata": {},
     "output_type": "execute_result"
    }
   ],
   "source": [
    "# Request and parse\n",
    "URL = \"https://en.wikipedia.org/wiki/Ordinary_differential_equation\"\n",
    "html_text = requests.get(URL).text\n",
    "parse = BeautifulSoup(html_text, \"html.parser\")\n",
    "\n",
    "# Get content table\n",
    "content_table = (\n",
    "    parse\n",
    "        .find(\"div\", {\"id\": \"mw-content-text\"})\n",
    "        .find(\"div\", {\"id\": \"toc\"})\n",
    "        .find(\"ul\")\n",
    ")\n",
    "\n",
    "# Change href for each item to redirect to actual page\n",
    "for a in content_table.find_all(\"a\"):\n",
    "    new_URL = URL + a[\"href\"]\n",
    "    a[\"href\"] = new_URL\n",
    "\n",
    "# Display content\n",
    "HTML(str(content_table))"
   ]
  },
  {
   "cell_type": "markdown",
   "id": "temporal-economics",
   "metadata": {},
   "source": [
    "## 2. Structured Data\n",
    "---\n",
    "Scraping structured data with examples."
   ]
  },
  {
   "cell_type": "markdown",
   "id": "entitled-jason",
   "metadata": {},
   "source": [
    "### 2.1. HTML Tables\n",
    "---\n",
    "Getting data from HTML tables.\n",
    "\n",
    "For the following example, let's take a currency exchange table for Brazillian Real."
   ]
  },
  {
   "cell_type": "code",
   "execution_count": 3,
   "id": "excess-throw",
   "metadata": {},
   "outputs": [
    {
     "data": {
      "text/html": [
       "<table cellpadding=\"0\" cellspacing=\"0\" class=\"ratesTable\">\n",
       "<thead>\n",
       "<tr>\n",
       "<th class=\"rtHeader rtHeaderCurr\">Brazilian Real</th>\n",
       "<th class=\"rtHeader rtHeaderValues\">1.00 BRL</th>\n",
       "<th class=\"rtHeader rtHeaderValues\">inv. 1.00 BRL</th>\n",
       "</tr>\n",
       "</thead>\n",
       "<tbody>\n",
       "<tr>\n",
       "<td>US Dollar</td>\n",
       "<td class=\"rtRates\"><a href=\"https://www.x-rates.com/graph/?from=BRL&amp;to=USD\">0.191833</a></td>\n",
       "<td class=\"rtRates\"><a href=\"https://www.x-rates.com/graph/?from=USD&amp;to=BRL\">5.212876</a></td>\n",
       "</tr>\n",
       "<tr>\n",
       "<td>Euro</td>\n",
       "<td class=\"rtRates\"><a href=\"https://www.x-rates.com/graph/?from=BRL&amp;to=EUR\">0.169593</a></td>\n",
       "<td class=\"rtRates\"><a href=\"https://www.x-rates.com/graph/?from=EUR&amp;to=BRL\">5.896470</a></td>\n",
       "</tr>\n",
       "<tr>\n",
       "<td>British Pound</td>\n",
       "<td class=\"rtRates\"><a href=\"https://www.x-rates.com/graph/?from=BRL&amp;to=GBP\">0.141776</a></td>\n",
       "<td class=\"rtRates\"><a href=\"https://www.x-rates.com/graph/?from=GBP&amp;to=BRL\">7.053376</a></td>\n",
       "</tr>\n",
       "<tr>\n",
       "<td>Indian Rupee</td>\n",
       "<td class=\"rtRates\"><a href=\"https://www.x-rates.com/graph/?from=BRL&amp;to=INR\">14.506304</a></td>\n",
       "<td class=\"rtRates\"><a href=\"https://www.x-rates.com/graph/?from=INR&amp;to=BRL\">0.068936</a></td>\n",
       "</tr>\n",
       "<tr>\n",
       "<td>Australian Dollar</td>\n",
       "<td class=\"rtRates\"><a href=\"https://www.x-rates.com/graph/?from=BRL&amp;to=AUD\">0.268790</a></td>\n",
       "<td class=\"rtRates\"><a href=\"https://www.x-rates.com/graph/?from=AUD&amp;to=BRL\">3.720378</a></td>\n",
       "</tr>\n",
       "<tr>\n",
       "<td>Canadian Dollar</td>\n",
       "<td class=\"rtRates\"><a href=\"https://www.x-rates.com/graph/?from=BRL&amp;to=CAD\">0.244163</a></td>\n",
       "<td class=\"rtRates\"><a href=\"https://www.x-rates.com/graph/?from=CAD&amp;to=BRL\">4.095624</a></td>\n",
       "</tr>\n",
       "<tr>\n",
       "<td>Singapore Dollar</td>\n",
       "<td class=\"rtRates\"><a href=\"https://www.x-rates.com/graph/?from=BRL&amp;to=SGD\">0.258403</a></td>\n",
       "<td class=\"rtRates\"><a href=\"https://www.x-rates.com/graph/?from=SGD&amp;to=BRL\">3.869917</a></td>\n",
       "</tr>\n",
       "<tr>\n",
       "<td>Swiss Franc</td>\n",
       "<td class=\"rtRates\"><a href=\"https://www.x-rates.com/graph/?from=BRL&amp;to=CHF\">0.177584</a></td>\n",
       "<td class=\"rtRates\"><a href=\"https://www.x-rates.com/graph/?from=CHF&amp;to=BRL\">5.631139</a></td>\n",
       "</tr>\n",
       "<tr>\n",
       "<td>Malaysian Ringgit</td>\n",
       "<td class=\"rtRates\"><a href=\"https://www.x-rates.com/graph/?from=BRL&amp;to=MYR\">0.803826</a></td>\n",
       "<td class=\"rtRates\"><a href=\"https://www.x-rates.com/graph/?from=MYR&amp;to=BRL\">1.244051</a></td>\n",
       "</tr>\n",
       "<tr>\n",
       "<td>Japanese Yen</td>\n",
       "<td class=\"rtRates\"><a href=\"https://www.x-rates.com/graph/?from=BRL&amp;to=JPY\">22.185911</a></td>\n",
       "<td class=\"rtRates\"><a href=\"https://www.x-rates.com/graph/?from=JPY&amp;to=BRL\">0.045074</a></td>\n",
       "</tr>\n",
       "</tbody>\n",
       "</table>"
      ],
      "text/plain": [
       "<IPython.core.display.HTML object>"
      ]
     },
     "execution_count": 3,
     "metadata": {},
     "output_type": "execute_result"
    }
   ],
   "source": [
    "URL = \"https://www.x-rates.com/table/?from=BRL&amount=1\"\n",
    "html_text = requests.get(URL).text\n",
    "parse = BeautifulSoup(html_text, \"html.parser\")\n",
    "\n",
    "table = parse.find(\"table\")\n",
    "\n",
    "HTML(str(table))"
   ]
  },
  {
   "cell_type": "markdown",
   "id": "thorough-digest",
   "metadata": {},
   "source": [
    "Having the HTML data, we can bind it to a dataframe using *Pandas* library.\n"
   ]
  },
  {
   "cell_type": "code",
   "execution_count": 4,
   "id": "endless-underground",
   "metadata": {},
   "outputs": [
    {
     "data": {
      "text/html": [
       "<div>\n",
       "<style scoped>\n",
       "    .dataframe tbody tr th:only-of-type {\n",
       "        vertical-align: middle;\n",
       "    }\n",
       "\n",
       "    .dataframe tbody tr th {\n",
       "        vertical-align: top;\n",
       "    }\n",
       "\n",
       "    .dataframe thead th {\n",
       "        text-align: right;\n",
       "    }\n",
       "</style>\n",
       "<table border=\"1\" class=\"dataframe\">\n",
       "  <thead>\n",
       "    <tr style=\"text-align: right;\">\n",
       "      <th></th>\n",
       "      <th>Brazilian Real</th>\n",
       "      <th>1.00 BRL</th>\n",
       "      <th>inv. 1.00 BRL</th>\n",
       "    </tr>\n",
       "  </thead>\n",
       "  <tbody>\n",
       "    <tr>\n",
       "      <th>0</th>\n",
       "      <td>US Dollar</td>\n",
       "      <td>0.191833</td>\n",
       "      <td>5.212876</td>\n",
       "    </tr>\n",
       "    <tr>\n",
       "      <th>1</th>\n",
       "      <td>Euro</td>\n",
       "      <td>0.169593</td>\n",
       "      <td>5.896470</td>\n",
       "    </tr>\n",
       "    <tr>\n",
       "      <th>2</th>\n",
       "      <td>British Pound</td>\n",
       "      <td>0.141776</td>\n",
       "      <td>7.053376</td>\n",
       "    </tr>\n",
       "    <tr>\n",
       "      <th>3</th>\n",
       "      <td>Indian Rupee</td>\n",
       "      <td>14.506304</td>\n",
       "      <td>0.068936</td>\n",
       "    </tr>\n",
       "    <tr>\n",
       "      <th>4</th>\n",
       "      <td>Australian Dollar</td>\n",
       "      <td>0.268790</td>\n",
       "      <td>3.720378</td>\n",
       "    </tr>\n",
       "    <tr>\n",
       "      <th>5</th>\n",
       "      <td>Canadian Dollar</td>\n",
       "      <td>0.244163</td>\n",
       "      <td>4.095624</td>\n",
       "    </tr>\n",
       "    <tr>\n",
       "      <th>6</th>\n",
       "      <td>Singapore Dollar</td>\n",
       "      <td>0.258403</td>\n",
       "      <td>3.869917</td>\n",
       "    </tr>\n",
       "    <tr>\n",
       "      <th>7</th>\n",
       "      <td>Swiss Franc</td>\n",
       "      <td>0.177584</td>\n",
       "      <td>5.631139</td>\n",
       "    </tr>\n",
       "    <tr>\n",
       "      <th>8</th>\n",
       "      <td>Malaysian Ringgit</td>\n",
       "      <td>0.803826</td>\n",
       "      <td>1.244051</td>\n",
       "    </tr>\n",
       "    <tr>\n",
       "      <th>9</th>\n",
       "      <td>Japanese Yen</td>\n",
       "      <td>22.185911</td>\n",
       "      <td>0.045074</td>\n",
       "    </tr>\n",
       "  </tbody>\n",
       "</table>\n",
       "</div>"
      ],
      "text/plain": [
       "      Brazilian Real   1.00 BRL  inv. 1.00 BRL\n",
       "0          US Dollar   0.191833       5.212876\n",
       "1               Euro   0.169593       5.896470\n",
       "2      British Pound   0.141776       7.053376\n",
       "3       Indian Rupee  14.506304       0.068936\n",
       "4  Australian Dollar   0.268790       3.720378\n",
       "5    Canadian Dollar   0.244163       4.095624\n",
       "6   Singapore Dollar   0.258403       3.869917\n",
       "7        Swiss Franc   0.177584       5.631139\n",
       "8  Malaysian Ringgit   0.803826       1.244051\n",
       "9       Japanese Yen  22.185911       0.045074"
      ]
     },
     "execution_count": 4,
     "metadata": {},
     "output_type": "execute_result"
    }
   ],
   "source": [
    "import pandas as pd\n",
    "\n",
    "df_table = pd.read_html(str(table))[0]\n",
    "df_table"
   ]
  },
  {
   "cell_type": "markdown",
   "id": "fleet-caribbean",
   "metadata": {},
   "source": [
    "### 2.2. Consuming open data\n",
    "---\n",
    "We can read a csv file on the web simply using its url as an argument."
   ]
  },
  {
   "cell_type": "code",
   "execution_count": 5,
   "id": "compact-electricity",
   "metadata": {},
   "outputs": [
    {
     "data": {
      "text/html": [
       "<div>\n",
       "<style scoped>\n",
       "    .dataframe tbody tr th:only-of-type {\n",
       "        vertical-align: middle;\n",
       "    }\n",
       "\n",
       "    .dataframe tbody tr th {\n",
       "        vertical-align: top;\n",
       "    }\n",
       "\n",
       "    .dataframe thead th {\n",
       "        text-align: right;\n",
       "    }\n",
       "</style>\n",
       "<table border=\"1\" class=\"dataframe\">\n",
       "  <thead>\n",
       "    <tr style=\"text-align: right;\">\n",
       "      <th></th>\n",
       "      <th>Country</th>\n",
       "      <th>Region</th>\n",
       "    </tr>\n",
       "  </thead>\n",
       "  <tbody>\n",
       "    <tr>\n",
       "      <th>0</th>\n",
       "      <td>Algeria</td>\n",
       "      <td>AFRICA</td>\n",
       "    </tr>\n",
       "    <tr>\n",
       "      <th>1</th>\n",
       "      <td>Angola</td>\n",
       "      <td>AFRICA</td>\n",
       "    </tr>\n",
       "    <tr>\n",
       "      <th>2</th>\n",
       "      <td>Benin</td>\n",
       "      <td>AFRICA</td>\n",
       "    </tr>\n",
       "    <tr>\n",
       "      <th>3</th>\n",
       "      <td>Botswana</td>\n",
       "      <td>AFRICA</td>\n",
       "    </tr>\n",
       "    <tr>\n",
       "      <th>4</th>\n",
       "      <td>Burkina</td>\n",
       "      <td>AFRICA</td>\n",
       "    </tr>\n",
       "    <tr>\n",
       "      <th>...</th>\n",
       "      <td>...</td>\n",
       "      <td>...</td>\n",
       "    </tr>\n",
       "    <tr>\n",
       "      <th>189</th>\n",
       "      <td>Paraguay</td>\n",
       "      <td>SOUTH AMERICA</td>\n",
       "    </tr>\n",
       "    <tr>\n",
       "      <th>190</th>\n",
       "      <td>Peru</td>\n",
       "      <td>SOUTH AMERICA</td>\n",
       "    </tr>\n",
       "    <tr>\n",
       "      <th>191</th>\n",
       "      <td>Suriname</td>\n",
       "      <td>SOUTH AMERICA</td>\n",
       "    </tr>\n",
       "    <tr>\n",
       "      <th>192</th>\n",
       "      <td>Uruguay</td>\n",
       "      <td>SOUTH AMERICA</td>\n",
       "    </tr>\n",
       "    <tr>\n",
       "      <th>193</th>\n",
       "      <td>Venezuela</td>\n",
       "      <td>SOUTH AMERICA</td>\n",
       "    </tr>\n",
       "  </tbody>\n",
       "</table>\n",
       "<p>194 rows × 2 columns</p>\n",
       "</div>"
      ],
      "text/plain": [
       "       Country         Region\n",
       "0      Algeria         AFRICA\n",
       "1       Angola         AFRICA\n",
       "2        Benin         AFRICA\n",
       "3     Botswana         AFRICA\n",
       "4      Burkina         AFRICA\n",
       "..         ...            ...\n",
       "189   Paraguay  SOUTH AMERICA\n",
       "190       Peru  SOUTH AMERICA\n",
       "191   Suriname  SOUTH AMERICA\n",
       "192    Uruguay  SOUTH AMERICA\n",
       "193  Venezuela  SOUTH AMERICA\n",
       "\n",
       "[194 rows x 2 columns]"
      ]
     },
     "execution_count": 5,
     "metadata": {},
     "output_type": "execute_result"
    }
   ],
   "source": [
    "import json\n",
    "\n",
    "URL = \"https://raw.githubusercontent.com/cs109/2014_data/master/countries.csv\"\n",
    "df_csv = pd.read_csv(URL)\n",
    "df_csv"
   ]
  },
  {
   "cell_type": "markdown",
   "id": "middle-purchase",
   "metadata": {},
   "source": [
    "## 3. Unstructured Data\n",
    "---\n",
    "Scraping unstructured data with examples."
   ]
  },
  {
   "cell_type": "markdown",
   "id": "naked-essex",
   "metadata": {},
   "source": [
    "### 3.1. NoSQL file\n",
    "---\n",
    "Reading static *json* files from the web. For dynamic APIs would be almost the same process."
   ]
  },
  {
   "cell_type": "code",
   "execution_count": 6,
   "id": "anonymous-indicator",
   "metadata": {},
   "outputs": [
    {
     "data": {
      "text/plain": [
       "[{'id': 1, 'name': 'John Deo', 'class': 'Four', 'mark': 75, 'sex': 'female'},\n",
       " {'id': 2, 'name': 'Max Ruin', 'class': 'Three', 'mark': 85, 'sex': 'male'},\n",
       " {'id': 3, 'name': 'Arnold', 'class': 'Three', 'mark': 55, 'sex': 'male'},\n",
       " {'id': 4, 'name': 'Krish Star', 'class': 'Four', 'mark': 60, 'sex': 'female'},\n",
       " {'id': 5, 'name': 'John Mike', 'class': 'Four', 'mark': 60, 'sex': 'female'},\n",
       " {'id': 6, 'name': 'Alex John', 'class': 'Four', 'mark': 55, 'sex': 'male'},\n",
       " {'id': 7, 'name': 'My John Rob', 'class': 'Fifth', 'mark': 78, 'sex': 'male'},\n",
       " {'id': 8, 'name': 'Asruid', 'class': 'Five', 'mark': 85, 'sex': 'male'},\n",
       " {'id': 9, 'name': 'Tes Qry', 'class': 'Six', 'mark': 78, 'sex': 'male'},\n",
       " {'id': 10, 'name': 'Big John', 'class': 'Four', 'mark': 55, 'sex': 'female'},\n",
       " {'id': 11, 'name': 'Ronald', 'class': 'Six', 'mark': 89, 'sex': 'female'},\n",
       " {'id': 12, 'name': 'Recky', 'class': 'Six', 'mark': 94, 'sex': 'female'},\n",
       " {'id': 13, 'name': 'Kty', 'class': 'Seven', 'mark': 88, 'sex': 'female'},\n",
       " {'id': 14, 'name': 'Bigy', 'class': 'Seven', 'mark': 88, 'sex': 'female'},\n",
       " {'id': 15, 'name': 'Tade Row', 'class': 'Four', 'mark': 88, 'sex': 'male'},\n",
       " {'id': 16, 'name': 'Gimmy', 'class': 'Four', 'mark': 88, 'sex': 'male'},\n",
       " {'id': 17, 'name': 'Tumyu', 'class': 'Six', 'mark': 54, 'sex': 'male'},\n",
       " {'id': 18, 'name': 'Honny', 'class': 'Five', 'mark': 75, 'sex': 'male'},\n",
       " {'id': 19, 'name': 'Tinny', 'class': 'Nine', 'mark': 18, 'sex': 'male'},\n",
       " {'id': 20, 'name': 'Jackly', 'class': 'Nine', 'mark': 65, 'sex': 'female'},\n",
       " {'id': 21,\n",
       "  'name': 'Babby John',\n",
       "  'class': 'Four',\n",
       "  'mark': 69,\n",
       "  'sex': 'female'},\n",
       " {'id': 22, 'name': 'Reggid', 'class': 'Seven', 'mark': 55, 'sex': 'female'},\n",
       " {'id': 23, 'name': 'Herod', 'class': 'Eight', 'mark': 79, 'sex': 'male'},\n",
       " {'id': 24, 'name': 'Tiddy Now', 'class': 'Seven', 'mark': 78, 'sex': 'male'},\n",
       " {'id': 25, 'name': 'Giff Tow', 'class': 'Six', 'mark': 88, 'sex': 'male'},\n",
       " {'id': 26, 'name': 'Crelea', 'class': 'Seven', 'mark': 79, 'sex': 'male'},\n",
       " {'id': 27, 'name': 'Big Nose', 'class': 'Three', 'mark': 81, 'sex': 'female'},\n",
       " {'id': 28,\n",
       "  'name': 'Rojj Base',\n",
       "  'class': 'Seven',\n",
       "  'mark': 86,\n",
       "  'sex': 'female'},\n",
       " {'id': 29,\n",
       "  'name': 'Tess Played',\n",
       "  'class': 'Seven',\n",
       "  'mark': 55,\n",
       "  'sex': 'male'},\n",
       " {'id': 30, 'name': 'Reppy Red', 'class': 'Six', 'mark': 79, 'sex': 'female'},\n",
       " {'id': 31, 'name': 'Marry Toeey', 'class': 'Four', 'mark': 88, 'sex': 'male'},\n",
       " {'id': 32,\n",
       "  'name': 'Binn Rott',\n",
       "  'class': 'Seven',\n",
       "  'mark': 90,\n",
       "  'sex': 'female'},\n",
       " {'id': 33, 'name': 'Kenn Rein', 'class': 'Six', 'mark': 96, 'sex': 'female'},\n",
       " {'id': 34, 'name': 'Gain Toe', 'class': 'Seven', 'mark': 69, 'sex': 'male'},\n",
       " {'id': 35, 'name': 'Rows Noump', 'class': 'Six', 'mark': 88, 'sex': 'female'}]"
      ]
     },
     "execution_count": 6,
     "metadata": {},
     "output_type": "execute_result"
    }
   ],
   "source": [
    "URL = \"https://www.plus2net.com/php_tutorial/student.json\"\n",
    "json_file = requests.get(URL).json()\n",
    "\n",
    "json_file"
   ]
  },
  {
   "cell_type": "markdown",
   "id": "stable-slide",
   "metadata": {},
   "source": [
    "### 3.2. Image data\n",
    "---\n",
    "Scraping *img* elements on google images search engine."
   ]
  },
  {
   "cell_type": "code",
   "execution_count": 7,
   "id": "simple-lying",
   "metadata": {
    "scrolled": false
   },
   "outputs": [
    {
     "data": {
      "text/html": [
       "<div><h1 style=\"color: red;\">Image Scraping</h1><br><img alt=\"\" class=\"yWs4tf\" src=\"https://encrypted-tbn0.gstatic.com/images?q=tbn:ANd9GcTO12MKm8l0lG4gfsU1vQds0d5xCCqKSN6Hy1nlJXLDCuAGgZPIO65w7ZWJEg&amp;s\" style=\"float: left\"/><img alt=\"\" class=\"yWs4tf\" src=\"https://encrypted-tbn0.gstatic.com/images?q=tbn:ANd9GcTjUrbcskodbT4utz3KjxOIsApH4hZaFlm4-djNku3ZrLUg1WcHFBVO6FLnbw&amp;s\" style=\"float: left\"/><img alt=\"\" class=\"yWs4tf\" src=\"https://encrypted-tbn0.gstatic.com/images?q=tbn:ANd9GcQ2L4BhOf-LhiMxGcxBYjQxxKxmkhYDbi-IlADFjJQJZrrMUJehdoCed2oRhQ&amp;s\" style=\"float: left\"/><img alt=\"\" class=\"yWs4tf\" src=\"https://encrypted-tbn0.gstatic.com/images?q=tbn:ANd9GcQk7JM5lqxxxpLLJ3sEaD7Zf08Q4Q5o1J7LMAFnEIKKZaiC4vgf7sa7GK-nKA&amp;s\" style=\"float: left\"/><img alt=\"\" class=\"yWs4tf\" src=\"https://encrypted-tbn0.gstatic.com/images?q=tbn:ANd9GcRaZa_vgstlRAa-wzg6s3OIQ9i1uI8lio31qyYysXiL29GjXHn5I_CY1JrGZzw&amp;s\" style=\"float: left\"/></div>"
      ],
      "text/plain": [
       "<IPython.core.display.HTML object>"
      ]
     },
     "execution_count": 7,
     "metadata": {},
     "output_type": "execute_result"
    }
   ],
   "source": [
    "# Request | image search for \"zebra\" with large results\n",
    "URL = \"https://www.google.com/search?q=zebra&tbm=isch\"\n",
    "html_text = requests.get(URL).text\n",
    "parse = BeautifulSoup(html_text, 'html.parser')\n",
    "\n",
    "# Find all img and show 5 of them\n",
    "IMG = parse.find_all(\"img\")[1:6]\n",
    "\n",
    "mount = \"\"\n",
    "for img in IMG:\n",
    "    img[\"style\"] = \"float: left\"\n",
    "    mount += str(img)\n",
    "\n",
    "mount = f'<div><h1 style=\"color: red;\">Image Scraping</h1><br>{mount}</div>'\n",
    "\n",
    "HTML(mount)"
   ]
  },
  {
   "cell_type": "markdown",
   "id": "authentic-rabbit",
   "metadata": {},
   "source": [
    "### 3.3. Audio data\n",
    "---\n",
    "Scraping audio data from web pages.\n",
    "\n",
    "For the following example, let's find all audio elements in a page."
   ]
  },
  {
   "cell_type": "code",
   "execution_count": 8,
   "id": "first-basket",
   "metadata": {},
   "outputs": [
    {
     "data": {
      "text/html": [
       "<div><h1 style=\"color: red;\">Audio Scraping</h1><br>\n",
       "    <div>\n",
       "        <h4>Additive_synthesis_bell.ogg</h4><br>\n",
       "        <audio controls>\n",
       "          <source src=\"//upload.wikimedia.org/wikipedia/commons/transcoded/f/fe/Additive_synthesis_bell.ogg/Additive_synthesis_bell.ogg.mp3\" type=\"audio/mpeg\">\n",
       "        Your browser does not support the audio element.\n",
       "        </audio><br>\n",
       "        <a href=\"//upload.wikimedia.org/wikipedia/commons/transcoded/f/fe/Additive_synthesis_bell.ogg/Additive_synthesis_bell.ogg.mp3\">//upload.wikimedia.org/wikipedia/commons/transcoded/f/fe/Additive_synthesis_bell.ogg/Additive_synthesis_bell.ogg.mp3</a>\n",
       "    <div>\n",
       "    \n",
       "    <div>\n",
       "        <h4>Harmonic_additive_synthesis.ogg</h4><br>\n",
       "        <audio controls>\n",
       "          <source src=\"//upload.wikimedia.org/wikipedia/commons/transcoded/d/db/Harmonic_additive_synthesis.ogg/Harmonic_additive_synthesis.ogg.mp3\" type=\"audio/mpeg\">\n",
       "        Your browser does not support the audio element.\n",
       "        </audio><br>\n",
       "        <a href=\"//upload.wikimedia.org/wikipedia/commons/transcoded/d/db/Harmonic_additive_synthesis.ogg/Harmonic_additive_synthesis.ogg.mp3\">//upload.wikimedia.org/wikipedia/commons/transcoded/d/db/Harmonic_additive_synthesis.ogg/Harmonic_additive_synthesis.ogg.mp3</a>\n",
       "    <div>\n",
       "    \n",
       "    <div>\n",
       "        <h4>Inharmonic_additive_synthesis.ogg</h4><br>\n",
       "        <audio controls>\n",
       "          <source src=\"//upload.wikimedia.org/wikipedia/commons/transcoded/2/2d/Inharmonic_additive_synthesis.ogg/Inharmonic_additive_synthesis.ogg.mp3\" type=\"audio/mpeg\">\n",
       "        Your browser does not support the audio element.\n",
       "        </audio><br>\n",
       "        <a href=\"//upload.wikimedia.org/wikipedia/commons/transcoded/2/2d/Inharmonic_additive_synthesis.ogg/Inharmonic_additive_synthesis.ogg.mp3\">//upload.wikimedia.org/wikipedia/commons/transcoded/2/2d/Inharmonic_additive_synthesis.ogg/Inharmonic_additive_synthesis.ogg.mp3</a>\n",
       "    <div>\n",
       "    </div>"
      ],
      "text/plain": [
       "<IPython.core.display.HTML object>"
      ]
     },
     "execution_count": 8,
     "metadata": {},
     "output_type": "execute_result"
    }
   ],
   "source": [
    "mount = \"\"\n",
    "TITLE, SOURCE = [], []\n",
    "\n",
    "# Request and parsing\n",
    "URL = \"https://en.wikipedia.org/wiki/Additive_synthesis\"\n",
    "html_text = requests.get(URL).text\n",
    "parse = BeautifulSoup(html_text, 'html.parser')\n",
    "\n",
    "# Find all audio elements\n",
    "AUDIO = parse.find_all(\"audio\")\n",
    "\n",
    "# Procedure for each audio element\n",
    "for audio in AUDIO:\n",
    "    title = audio[\"data-mwtitle\"]\n",
    "    source = audio.find(\"source\")\n",
    "    src = source[\"src\"]\n",
    "    mount += f'''\n",
    "    <div>\n",
    "        <h4>{title}</h4><br>\n",
    "        <audio controls>\n",
    "          <source src=\"{src}\" type=\"{source[\"type\"]}\">\n",
    "        Your browser does not support the audio element.\n",
    "        </audio><br>\n",
    "        <a href=\"{src}\">{src}</a>\n",
    "    <div>\n",
    "    '''\n",
    "    TITLE.append(title)\n",
    "    SOURCE.append(src)\n",
    "\n",
    "# Output\n",
    "mount = f'<div><h1 style=\"color: red;\">Audio Scraping</h1><br>{mount}</div>'\n",
    "HTML(mount)"
   ]
  }
 ],
 "metadata": {
  "kernelspec": {
   "display_name": "Python [conda env:root] *",
   "language": "python",
   "name": "conda-root-py"
  },
  "language_info": {
   "codemirror_mode": {
    "name": "ipython",
    "version": 3
   },
   "file_extension": ".py",
   "mimetype": "text/x-python",
   "name": "python",
   "nbconvert_exporter": "python",
   "pygments_lexer": "ipython3",
   "version": "3.7.10"
  }
 },
 "nbformat": 4,
 "nbformat_minor": 5
}
