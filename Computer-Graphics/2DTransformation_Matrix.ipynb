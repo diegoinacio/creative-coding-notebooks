{
 "cells": [
  {
   "cell_type": "markdown",
   "metadata": {},
   "source": [
    "# 2D Transformation Matrices\n",
    "---\n",
    "- Author: Diego Inácio\n",
    "- GitHub: [github.com/diegoinacio](https://github.com/diegoinacio)\n",
    "- Notebook: [2DTransformation_Matrix.ipynb](https://github.com/diegoinacio/creative-coding-notebooks/blob/master/Computer-Graphics/2DTransformation_Matrix.ipynb)\n",
    "---\n",
    "Overview and application of bi-dimensional transformation matrices."
   ]
  },
  {
   "cell_type": "code",
   "execution_count": null,
   "metadata": {},
   "outputs": [],
   "source": [
    "%matplotlib inline\n",
    "import matplotlib\n",
    "import matplotlib.pyplot as plt\n",
    "import numpy as np"
   ]
  },
  {
   "cell_type": "code",
   "execution_count": null,
   "metadata": {},
   "outputs": [],
   "source": [
    "plt.rcParams['figure.figsize'] = (16, 4)"
   ]
  },
  {
   "cell_type": "code",
   "execution_count": null,
   "metadata": {},
   "outputs": [],
   "source": [
    "X, Y = np.mgrid[0:1:5j, 0:1:5j]\n",
    "x, y = X.ravel(), Y.ravel()"
   ]
  },
  {
   "cell_type": "markdown",
   "metadata": {},
   "source": [
    "## Translation\n",
    "---\n",
    "$$\n",
    "\\large x'=x + t_x \\\\\n",
    "\\large y'=y + t_y\n",
    "$$\n",
    "using homogeneous matrix\n",
    "$$ \\large\n",
    "\\begin{bmatrix} x' \\\\ y' \\\\ 1 \\end{bmatrix} = \\begin{bmatrix} 1 & 0 & t_x \\\\ 0 & 1 & t_y  \\\\ 0 & 0 & 1 \\end{bmatrix}\\begin{bmatrix} x \\\\ y \\\\ 1 \\end{bmatrix}\n",
    "$$"
   ]
  },
  {
   "cell_type": "code",
   "execution_count": null,
   "metadata": {},
   "outputs": [],
   "source": [
    "def trans_translate(x, y, tx, ty):\n",
    "    T = [[1, 0, tx],\n",
    "         [0, 1, ty],\n",
    "         [0, 0, 1 ]]\n",
    "    T = np.array(T)\n",
    "    P = np.array([x, y, [1]*x.size])\n",
    "    return np.dot(T, P)\n",
    "\n",
    "fig, ax = plt.subplots(1, 4)\n",
    "\n",
    "T_ = [[0, 0], [2.3, 0], [0, 1.7], [2, 2]]\n",
    "\n",
    "for i in range(4):\n",
    "    tx, ty = T_[i]\n",
    "    x_, y_, _ = trans_translate(x, y, tx, ty)\n",
    "    ax[i].scatter(x_, y_)\n",
    "    ax[i].set_title(r'$t_x={0:.2f}$ , $t_y={1:.2f}$'.format(tx, ty))\n",
    "    \n",
    "    ax[i].set_xlim([-0.5, 4])\n",
    "    ax[i].set_ylim([-0.5, 4])\n",
    "    ax[i].grid(alpha=0.5)\n",
    "    ax[i].axhline(y=0, color='k')\n",
    "    ax[i].axvline(x=0, color='k')\n",
    "\n",
    "plt.show()"
   ]
  },
  {
   "cell_type": "markdown",
   "metadata": {},
   "source": [
    "![translate](output/2DTransform_translate.gif)"
   ]
  },
  {
   "cell_type": "markdown",
   "metadata": {},
   "source": [
    "## Scaling\n",
    "---\n",
    "Relative to the point $(p_x, p_y)$\n",
    "$$\n",
    "\\large x'=s_x(x - p_x) + p_x = s_x x + p_x(1 - s_x)\\\\\n",
    "\\large y'=s_y(y - p_y) + p_y = s_y y + p_y(1 - s_y)\n",
    "$$\n",
    "using homogeneous matrix\n",
    "$$ \\large\n",
    "\\begin{bmatrix} x' \\\\ y' \\\\ 1 \\end{bmatrix} = \\begin{bmatrix} s_x & 0 & p_x(1 - s_x) \\\\ 0 & s_y & p_y(1 - s_y)  \\\\ 0 & 0 & 1 \\end{bmatrix}\\begin{bmatrix} x \\\\ y \\\\ 1 \\end{bmatrix}\n",
    "$$"
   ]
  },
  {
   "cell_type": "code",
   "execution_count": null,
   "metadata": {},
   "outputs": [],
   "source": [
    "def trans_scale(x, y, px, py, sx, sy):\n",
    "    T = [[sx, 0 , px*(1 - sx)],\n",
    "         [0 , sy, py*(1 - sy)],\n",
    "         [0 , 0 , 1          ]]\n",
    "    T = np.array(T)\n",
    "    P = np.array([x, y, [1]*x.size])\n",
    "    return np.dot(T, P)\n",
    "\n",
    "fig, ax = plt.subplots(1, 4)\n",
    "\n",
    "S_ = [[1, 1], [1.8, 1], [1, 1.7], [2, 2]]\n",
    "P_ = [[0, 0], [0, 0], [0.45, 0.45], [1.1, 1.1]]\n",
    "\n",
    "for i in range(4):\n",
    "    sx, sy = S_[i]; px, py = P_[i]\n",
    "    x_, y_, _ = trans_scale(x, y, px, py, sx, sy)\n",
    "    ax[i].scatter(x_, y_)\n",
    "    ax[i].scatter(px, py)\n",
    "    ax[i].set_title(r'$p_x={0:.2f}$ , $p_y={1:.2f}$'.format(px, py) + '\\n'\n",
    "                    r'$s_x={0:.2f}$ , $s_y={1:.2f}$'.format(sx, sy))\n",
    "    \n",
    "    ax[i].set_xlim([-2, 2])\n",
    "    ax[i].set_ylim([-2, 2])\n",
    "    ax[i].grid(alpha=0.5)\n",
    "    ax[i].axhline(y=0, color='k')\n",
    "    ax[i].axvline(x=0, color='k')\n",
    "\n",
    "plt.show()"
   ]
  },
  {
   "cell_type": "markdown",
   "metadata": {},
   "source": [
    "![scale](output/2DTransform_scale.gif)"
   ]
  },
  {
   "cell_type": "markdown",
   "metadata": {},
   "source": [
    "## Rotation\n",
    "---\n",
    "Relative to the point $(p_x, p_y)$\n",
    "$$\n",
    "\\large x'=(x - p_x)\\cos\\beta-(y - p_y)\\sin \\beta + p_x = x \\cos \\beta - y \\sin \\beta + p_x(1 - \\cos \\beta) + p_y \\sin \\beta \\\\\n",
    "\\large y'=(x - p_x)\\sin\\beta+(y - p_y)\\cos \\beta + p_y = x \\sin \\beta + y \\cos \\beta + p_y(1 - \\cos \\beta) - p_x \\sin \\beta\n",
    "$$\n",
    "using homogeneous matrix\n",
    "$$ \\large\n",
    "\\begin{bmatrix} x' \\\\ y' \\\\ 1 \\end{bmatrix} = \\begin{bmatrix} \\cos\\beta & -\\sin\\beta & p_x(1 - \\cos \\beta) + p_y \\sin \\beta \\\\ \\sin\\beta & \\cos\\beta & p_y(1 - \\cos \\beta) - p_x \\sin \\beta \\\\ 0 & 0 & 1 \\end{bmatrix}\\begin{bmatrix} x \\\\ y \\\\ 1 \\end{bmatrix}\n",
    "$$"
   ]
  },
  {
   "cell_type": "code",
   "execution_count": null,
   "metadata": {},
   "outputs": [],
   "source": [
    "def trans_rotate(x, y, px, py, beta):\n",
    "    beta = np.deg2rad(beta)\n",
    "    T = [[np.cos(beta), -np.sin(beta), px*(1 - np.cos(beta)) + py*np.sin(beta)],\n",
    "         [np.sin(beta),  np.cos(beta), py*(1 - np.cos(beta)) - px*np.sin(beta)],\n",
    "         [0           ,  0           , 1                                      ]]\n",
    "    T = np.array(T)\n",
    "    P = np.array([x, y, [1]*x.size])\n",
    "    return np.dot(T, P)\n",
    "\n",
    "fig, ax = plt.subplots(1, 4)\n",
    "\n",
    "R_ = [0, 225, 40, -10]\n",
    "P_ = [[0, 0], [0, 0], [0.5, -0.5], [1.1, 1.1]]\n",
    "\n",
    "for i in range(4):\n",
    "    beta = R_[i]; px, py = P_[i]\n",
    "    x_, y_, _ = trans_rotate(x, y, px, py, beta)\n",
    "    ax[i].scatter(x_, y_)\n",
    "    ax[i].scatter(px, py)\n",
    "    ax[i].set_title(r'$\\beta={0}°$ , $p_x={1:.2f}$ , $p_y={2:.2f}$'.format(beta, px, py))\n",
    "    \n",
    "    ax[i].set_xlim([-2, 2])\n",
    "    ax[i].set_ylim([-2, 2])\n",
    "    ax[i].grid(alpha=0.5)\n",
    "    ax[i].axhline(y=0, color='k')\n",
    "    ax[i].axvline(x=0, color='k')\n",
    "\n",
    "plt.show()"
   ]
  },
  {
   "cell_type": "markdown",
   "metadata": {},
   "source": [
    "![rotate](output/2DTransform_rotate.gif)"
   ]
  },
  {
   "cell_type": "markdown",
   "metadata": {},
   "source": [
    "## Shearing\n",
    "---\n",
    "Relative to the point $(p_x, p_y)$\n",
    "$$\n",
    "\\large x' = x + \\lambda_x(y - p_x) = x + \\lambda_x y - \\lambda_x p_x\\\\\n",
    "\\large y' = y + \\lambda_y(x - p_y) = y + \\lambda_y x - \\lambda_y p_y\n",
    "$$\n",
    "using homogeneous matrix\n",
    "$$ \\large\n",
    "\\begin{bmatrix} x' \\\\ y' \\\\ 1 \\end{bmatrix} = \\begin{bmatrix} 1 & \\lambda_x & -\\lambda_x p_x \\\\ \\lambda_y & 1 & -\\lambda_y p_y  \\\\ 0 & 0 & 1 \\end{bmatrix}\\begin{bmatrix} x \\\\ y \\\\ 1 \\end{bmatrix}\n",
    "$$"
   ]
  },
  {
   "cell_type": "code",
   "execution_count": null,
   "metadata": {},
   "outputs": [],
   "source": [
    "def trans_shear(x, y, px, py, lambdax, lambday):\n",
    "    T = [[1      , lambdax, -lambdax*px],\n",
    "         [lambday, 1      , -lambday*py],\n",
    "         [0      , 0      ,  1         ]]\n",
    "    T = np.array(T)\n",
    "    P = np.array([x, y, [1]*x.size])\n",
    "    return np.dot(T, P)\n",
    "\n",
    "fig, ax = plt.subplots(1, 4)\n",
    "\n",
    "L_ = [[0, 0], [2, 0], [0, -2], [-2, -2]]\n",
    "P_ = [[0, 0], [0, 0], [0, 1.5], [1.1, 1.1]]\n",
    "\n",
    "for i in range(4):\n",
    "    lambdax, lambday = L_[i]; px, py = P_[i]\n",
    "    x_, y_, _ = trans_shear(x, y, px, py, lambdax, lambday)\n",
    "    ax[i].scatter(x_, y_)\n",
    "    ax[i].scatter(px, py)\n",
    "    ax[i].set_title(r'$p_x={0:.2f}$ , $p_y={1:.2f}$'.format(px, py) + '\\n'\n",
    "                    r'$\\lambda_x={0:.2f}$ , $\\lambda_y={1:.2f}$'.format(lambdax, lambday))\n",
    "\n",
    "    ax[i].set_xlim([-3, 3])\n",
    "    ax[i].set_ylim([-3, 3])\n",
    "    ax[i].grid(alpha=0.5)\n",
    "    ax[i].axhline(y=0, color='k')\n",
    "    ax[i].axvline(x=0, color='k')\n",
    "\n",
    "plt.show()"
   ]
  },
  {
   "cell_type": "markdown",
   "metadata": {},
   "source": [
    "![shear](output/2DTransform_shear.gif)"
   ]
  }
 ],
 "metadata": {
  "kernelspec": {
   "display_name": "Python 3",
   "language": "python",
   "name": "python3"
  },
  "language_info": {
   "codemirror_mode": {
    "name": "ipython",
    "version": 3
   },
   "file_extension": ".py",
   "mimetype": "text/x-python",
   "name": "python",
   "nbconvert_exporter": "python",
   "pygments_lexer": "ipython3",
   "version": "3.7.7"
  }
 },
 "nbformat": 4,
 "nbformat_minor": 2
}
