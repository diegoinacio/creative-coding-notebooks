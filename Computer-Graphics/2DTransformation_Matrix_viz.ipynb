{
 "cells": [
  {
   "cell_type": "markdown",
   "metadata": {},
   "source": [
    "# 2D Transformation Matrix [Viz]\n",
    "---\n",
    "- Author: Diego Inácio\n",
    "- GitHub: [github.com/diegoinacio](https://github.com/diegoinacio)"
   ]
  },
  {
   "cell_type": "code",
   "execution_count": null,
   "metadata": {},
   "outputs": [],
   "source": [
    "%matplotlib inline\n",
    "import matplotlib\n",
    "import matplotlib.pyplot as plt\n",
    "import matplotlib.animation as manim\n",
    "import numpy as np"
   ]
  },
  {
   "cell_type": "code",
   "execution_count": null,
   "metadata": {},
   "outputs": [],
   "source": [
    "plt.rcParams['figure.figsize'] = (16, 4)"
   ]
  },
  {
   "cell_type": "code",
   "execution_count": null,
   "metadata": {},
   "outputs": [],
   "source": [
    "X, Y = np.mgrid[0:1:5j, 0:1:5j]\n",
    "x, y = X.ravel(), Y.ravel()"
   ]
  },
  {
   "cell_type": "markdown",
   "metadata": {},
   "source": [
    "## 1. Translation\n",
    "---"
   ]
  },
  {
   "cell_type": "code",
   "execution_count": null,
   "metadata": {},
   "outputs": [],
   "source": [
    "def trans_translate(x, y, tx, ty):\n",
    "    T = [[1, 0, tx],\n",
    "         [0, 1, ty],\n",
    "         [0, 0, 1 ]]\n",
    "    T = np.array(T)\n",
    "    P = np.array([x, y, [1]*x.size])\n",
    "    return np.dot(T, P)\n",
    "\n",
    "fig, ax = plt.subplots(1, 4)\n",
    "\n",
    "NFRAMES = 20\n",
    "\n",
    "T_ = [[0, 0], [2.3, 0], [0, 1.7], [2, 2]]\n",
    "\n",
    "def animation(frame):\n",
    "    for i in range(4):\n",
    "        ax[i].cla()\n",
    "        tx, ty = T_[i][0]*frame/NFRAMES, T_[i][1]*frame/NFRAMES\n",
    "        x_, y_, _ = trans_translate(x, y, tx, ty)\n",
    "        ax[i].scatter(x_, y_)\n",
    "\n",
    "        ax[i].set_xlim([-0.5, 4])\n",
    "        ax[i].set_ylim([-0.5, 4])\n",
    "        ax[i].grid(alpha=0.5)\n",
    "        ax[i].axhline(y=0, color='k')\n",
    "        ax[i].axvline(x=0, color='k')\n",
    "    plt.tight_layout()\n",
    "    return ax\n",
    "\n",
    "anim = manim.FuncAnimation(fig, animation, frames=NFRAMES, interval=100)\n",
    "anim.save('output/2DTransform_translate.gif', writer=\"imagemagick\", extra_args=\"convert\")\n",
    "\n",
    "plt.close()\n",
    "\n",
    "# Solve repetition problem\n",
    "! magick convert _output/2DTransform_translate.gif -loop 0 _output/2DTransform_translate.gif\n",
    "! echo GIF exported and reconverted. Disregard the message above."
   ]
  },
  {
   "cell_type": "markdown",
   "metadata": {},
   "source": [
    "## 2. Scaling\n",
    "---"
   ]
  },
  {
   "cell_type": "code",
   "execution_count": null,
   "metadata": {},
   "outputs": [],
   "source": [
    "def trans_scale(x, y, px, py, sx, sy):\n",
    "    T = [[sx, 0 , px*(1 - sx)],\n",
    "         [0 , sy, py*(1 - sy)],\n",
    "         [0 , 0 , 1          ]]\n",
    "    T = np.array(T)\n",
    "    P = np.array([x, y, [1]*x.size])\n",
    "    return np.dot(T, P)\n",
    "\n",
    "fig, ax = plt.subplots(1, 4)\n",
    "\n",
    "NFRAMES = 20\n",
    "\n",
    "S_ = [[1, 1], [1.8, 1], [1, 1.7], [2, 2]]\n",
    "P_ = [[0, 0], [0, 0], [0.45, 0.45], [1.1, 1.1]]\n",
    "\n",
    "def animation(frame):\n",
    "    for i in range(4):\n",
    "        ax[i].cla(); px, py = P_[i]\n",
    "        sx, sy = 1 + (S_[i][0]-1)*frame/NFRAMES, 1 + (S_[i][1]-1)*frame/NFRAMES\n",
    "        x_, y_, _ = trans_scale(x, y, px, py, sx, sy)\n",
    "        ax[i].scatter(x_, y_)\n",
    "        ax[i].scatter(px, py)\n",
    "\n",
    "        ax[i].set_xlim([-2, 2])\n",
    "        ax[i].set_ylim([-2, 2])\n",
    "        ax[i].grid(alpha=0.5)\n",
    "        ax[i].axhline(y=0, color='k')\n",
    "        ax[i].axvline(x=0, color='k')\n",
    "    plt.tight_layout()\n",
    "    return ax\n",
    "\n",
    "anim = manim.FuncAnimation(fig, animation, frames=NFRAMES, interval=100)\n",
    "anim.save('output/2DTransform_scale.gif', writer=\"imagemagick\", extra_args=\"convert\")\n",
    "\n",
    "plt.close()\n",
    "\n",
    "# Solve repetition problem\n",
    "! magick convert _output/2DTransform_scale.gif -loop 0 _output/2DTransform_scale.gif\n",
    "! echo GIF exported and reconverted. Disregard the message above."
   ]
  },
  {
   "cell_type": "markdown",
   "metadata": {},
   "source": [
    "## 3. Rotation\n",
    "---"
   ]
  },
  {
   "cell_type": "code",
   "execution_count": null,
   "metadata": {},
   "outputs": [],
   "source": [
    "def trans_rotate(x, y, px, py, beta):\n",
    "    beta = np.deg2rad(beta)\n",
    "    T = [[np.cos(beta), -np.sin(beta), px*(1 - np.cos(beta)) + py*np.sin(beta)],\n",
    "         [np.sin(beta),  np.cos(beta), py*(1 - np.cos(beta)) - px*np.sin(beta)],\n",
    "         [0           ,  0           , 1                                      ]]\n",
    "    T = np.array(T)\n",
    "    P = np.array([x, y, [1]*x.size])\n",
    "    return np.dot(T, P)\n",
    "\n",
    "fig, ax = plt.subplots(1, 4)\n",
    "\n",
    "NFRAMES = 20\n",
    "\n",
    "R_ = [0, 225, 40, -10]\n",
    "P_ = [[0, 0], [0, 0], [0.5, -0.5], [1.1, 1.1]]\n",
    "\n",
    "def animation(frame):\n",
    "    for i in range(4):\n",
    "        ax[i].cla(); px, py = P_[i]\n",
    "        beta = 0 if i == 0 else R_[i] + 360*frame/NFRAMES\n",
    "        x_, y_, _ = trans_rotate(x, y, px, py, beta)\n",
    "        ax[i].scatter(x_, y_)\n",
    "        ax[i].scatter(px, py)\n",
    "\n",
    "        ax[i].set_xlim([-2, 2])\n",
    "        ax[i].set_ylim([-2, 2])\n",
    "        ax[i].grid(alpha=0.5)\n",
    "        ax[i].axhline(y=0, color='k')\n",
    "        ax[i].axvline(x=0, color='k')\n",
    "    plt.tight_layout()\n",
    "    return ax\n",
    "\n",
    "anim = manim.FuncAnimation(fig, animation, frames=NFRAMES, interval=100)\n",
    "anim.save('output/2DTransform_rotate.gif', writer=\"imagemagick\", extra_args=\"convert\")\n",
    "\n",
    "plt.close()\n",
    "\n",
    "# Solve repetition problem\n",
    "! magick convert _output/2DTransform_rotate.gif -loop 0 _output/2DTransform_rotate.gif\n",
    "! echo GIF exported and reconverted. Disregard the message above."
   ]
  },
  {
   "cell_type": "markdown",
   "metadata": {},
   "source": [
    "## 4. Shearing\n",
    "---"
   ]
  },
  {
   "cell_type": "code",
   "execution_count": null,
   "metadata": {},
   "outputs": [],
   "source": [
    "def trans_shear(x, y, px, py, lambdax, lambday):\n",
    "    T = [[1      , lambdax, -lambdax*px],\n",
    "         [lambday, 1      , -lambday*py],\n",
    "         [0      , 0      , 1          ]]\n",
    "    T = np.array(T)\n",
    "    P = np.array([x, y, [1]*x.size])\n",
    "    return np.dot(T, P)\n",
    "\n",
    "fig, ax = plt.subplots(1, 4)\n",
    "\n",
    "NFRAMES = 20\n",
    "\n",
    "L_ = [[0, 0], [2, 0], [0, -2], [-2, -2]]\n",
    "P_ = [[0, 0], [0, 0], [0, 1.5], [1.1, 1.1]]\n",
    "\n",
    "def animation(frame):\n",
    "    for i in range(4):\n",
    "        ax[i].cla(); px, py = P_[i]\n",
    "        lambdax, lambday = L_[i][0]*frame/NFRAMES, L_[i][1]*frame/NFRAMES\n",
    "        x_, y_, _ = trans_shear(x, y, px, py, lambdax, lambday)\n",
    "        ax[i].scatter(x_, y_)\n",
    "        ax[i].scatter(px, py)\n",
    "\n",
    "        ax[i].set_xlim([-3, 3])\n",
    "        ax[i].set_ylim([-3, 3])\n",
    "        ax[i].grid(alpha=0.5)\n",
    "        ax[i].axhline(y=0, color='k')\n",
    "        ax[i].axvline(x=0, color='k')\n",
    "    plt.tight_layout()\n",
    "    return ax\n",
    "\n",
    "anim = manim.FuncAnimation(fig, animation, frames=NFRAMES, interval=100)\n",
    "anim.save('output/2DTransform_shear.gif', writer=\"imagemagick\", extra_args=\"convert\")\n",
    "\n",
    "plt.close()\n",
    "\n",
    "# Solve repetition problem\n",
    "! magick convert _output/2DTransform_shear.gif -loop 0 _output/2DTransform_shear.gif\n",
    "! echo GIF exported and reconverted. Disregard the message above."
   ]
  }
 ],
 "metadata": {
  "kernelspec": {
   "display_name": "Python 3",
   "language": "python",
   "name": "python3"
  },
  "language_info": {
   "codemirror_mode": {
    "name": "ipython",
    "version": 3
   },
   "file_extension": ".py",
   "mimetype": "text/x-python",
   "name": "python",
   "nbconvert_exporter": "python",
   "pygments_lexer": "ipython3",
   "version": "3.7.10"
  }
 },
 "nbformat": 4,
 "nbformat_minor": 2
}
