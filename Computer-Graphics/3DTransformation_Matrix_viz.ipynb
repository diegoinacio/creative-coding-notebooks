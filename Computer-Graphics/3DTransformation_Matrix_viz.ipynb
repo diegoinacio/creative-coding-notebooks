{
 "cells": [
  {
   "cell_type": "markdown",
   "metadata": {},
   "source": [
    "# 3D Transformation Matrix [Viz]\n",
    "---\n",
    "- Author: Diego Inácio\n",
    "- GitHub: [github.com/diegoinacio](https://github.com/diegoinacio)"
   ]
  },
  {
   "cell_type": "code",
   "execution_count": 1,
   "metadata": {},
   "outputs": [],
   "source": [
    "%matplotlib inline\n",
    "import matplotlib\n",
    "import matplotlib.pyplot as plt\n",
    "import matplotlib.animation as manim\n",
    "from mpl_toolkits.mplot3d import Axes3D\n",
    "import numpy as np"
   ]
  },
  {
   "cell_type": "code",
   "execution_count": 2,
   "metadata": {},
   "outputs": [],
   "source": [
    "plt.rcParams['figure.figsize'] = (16, 4)"
   ]
  },
  {
   "cell_type": "code",
   "execution_count": 3,
   "metadata": {},
   "outputs": [],
   "source": [
    "X, Y, Z = np.mgrid[0:1:5j, 0:1:5j, 0:1:5j]\n",
    "x, y, z = X.ravel(), Y.ravel(), Z.ravel()"
   ]
  },
  {
   "cell_type": "markdown",
   "metadata": {},
   "source": [
    "## 1. Translation\n",
    "---"
   ]
  },
  {
   "cell_type": "code",
   "execution_count": 4,
   "metadata": {},
   "outputs": [
    {
     "name": "stdout",
     "output_type": "stream",
     "text": [
      "GIF exported and reconverted. Disregard the message above.\n"
     ]
    }
   ],
   "source": [
    "def trans_translate(x, y, z, tx, ty, tz):\n",
    "    T = [[1, 0, 0, tx],\n",
    "         [0, 1, 0, ty],\n",
    "         [0, 0, 1, tz],\n",
    "         [0, 0, 0, 1 ]]\n",
    "    T = np.array(T)\n",
    "    P = np.array([x, y, z, [1]*x.size])\n",
    "    return np.dot(T, P)\n",
    "\n",
    "fig, ax = plt.subplots(1, 4, subplot_kw={'projection': '3d'})\n",
    "\n",
    "NFRAMES = 20\n",
    "\n",
    "T_ = [[2.3, 0, 0], [0, 1.7, 0], [0, 0, 2.5], [2, 2, 2]]\n",
    "\n",
    "def animation(frame):\n",
    "    for i in range(4):\n",
    "        ax[i].cla()\n",
    "        tx = T_[i][0]*frame/NFRAMES\n",
    "        ty = T_[i][1]*frame/NFRAMES\n",
    "        tz = T_[i][2]*frame/NFRAMES\n",
    "        x_, y_, z_, _ = trans_translate(x, y, z, tx, ty, tz)\n",
    "        ax[i].view_init(20, -30)\n",
    "        ax[i].scatter(x_, y_, z_)\n",
    "\n",
    "        ax[i].set_xlim([-0.5, 4])\n",
    "        ax[i].set_ylim([-0.5, 4])\n",
    "        ax[i].set_zlim([-0.5, 4])\n",
    "    plt.tight_layout()\n",
    "    return ax\n",
    "\n",
    "anim = manim.FuncAnimation(fig, animation, frames=NFRAMES, interval=100)\n",
    "anim.save('output/3DTransform_translate.gif', writer=\"imagemagick\", extra_args=\"convert\")\n",
    "\n",
    "plt.close()\n",
    "\n",
    "# Solve repetition problem\n",
    "! magick convert _output/3DTransform_translate.gif -loop 0 _output/3DTransform_translate.gif\n",
    "! echo GIF exported and reconverted. Disregard the message above."
   ]
  },
  {
   "cell_type": "markdown",
   "metadata": {},
   "source": [
    "## 2. Scaling\n",
    "---"
   ]
  },
  {
   "cell_type": "code",
   "execution_count": 5,
   "metadata": {},
   "outputs": [
    {
     "name": "stdout",
     "output_type": "stream",
     "text": [
      "GIF exported and reconverted. Disregard the message above.\n"
     ]
    }
   ],
   "source": [
    "def trans_scale(x, y, z,\n",
    "                px, py, pz,\n",
    "                sx, sy, sz):\n",
    "    T = [[sx, 0 , 0 , px*(1 - sx)],\n",
    "         [0 , sy, 0 , py*(1 - sy)],\n",
    "         [0 , 0 , sz, pz*(1 - sz)],\n",
    "         [0 , 0 , 0 , 1          ]]\n",
    "    T = np.array(T)\n",
    "    P = np.array([x, y, z, [1]*x.size])\n",
    "    return np.dot(T, P)\n",
    "\n",
    "fig, ax = plt.subplots(1, 4, subplot_kw={'projection': '3d'})\n",
    "\n",
    "NFRAMES = 20\n",
    "\n",
    "S_ = [[1.8, 1, 1], [1, 1.7, 1], [1, 1, 1.9], [2, 2, 2]]\n",
    "P_ = [[0, 0, 0], [0, 0, 0], [0.45, 0.45, 0.45], [1.1, 1.1, 1.1]]\n",
    "\n",
    "def animation(frame):\n",
    "    for i in range(4):\n",
    "        ax[i].cla(); px, py, pz = P_[i]\n",
    "        sx = 1 + (S_[i][0]-1)*frame/NFRAMES\n",
    "        sy = 1 + (S_[i][1]-1)*frame/NFRAMES\n",
    "        sz = 1 + (S_[i][2]-1)*frame/NFRAMES\n",
    "        x_, y_, z_, _ = trans_scale(x, y, z, px, py, pz, sx, sy, sz)\n",
    "        ax[i].view_init(20, -30)\n",
    "        ax[i].scatter(x_, y_, z_)\n",
    "        ax[i].scatter(px, py, pz, s=50)\n",
    "\n",
    "        ax[i].set_xlim([-2, 2])\n",
    "        ax[i].set_ylim([-2, 2])\n",
    "        ax[i].set_zlim([-2, 2])\n",
    "    plt.tight_layout()\n",
    "    return ax\n",
    "\n",
    "anim = manim.FuncAnimation(fig, animation, frames=NFRAMES, interval=100)\n",
    "anim.save('output/3DTransform_scale.gif', writer=\"imagemagick\", extra_args=\"convert\")\n",
    "\n",
    "plt.close()\n",
    "\n",
    "# Solve repetition problem\n",
    "! magick convert _output/3DTransform_scale.gif -loop 0 _output/3DTransform_scale.gif\n",
    "! echo GIF exported and reconverted. Disregard the message above."
   ]
  },
  {
   "cell_type": "markdown",
   "metadata": {},
   "source": [
    "## 3. Rotation\n",
    "---"
   ]
  },
  {
   "cell_type": "code",
   "execution_count": 6,
   "metadata": {},
   "outputs": [
    {
     "name": "stdout",
     "output_type": "stream",
     "text": [
      "GIF exported and reconverted. Disregard the message above.\n"
     ]
    }
   ],
   "source": [
    "def trans_rotate(x, y, z, px, py, pz, alpha, beta, gamma):\n",
    "    alpha, beta, gamma = np.deg2rad(alpha), np.deg2rad(beta), np.deg2rad(gamma)\n",
    "    Rx = [[1, 0            ,  0            , 0                                        ],\n",
    "          [0, np.cos(alpha), -np.sin(alpha), py*(1 - np.cos(alpha)) + pz*np.sin(alpha)],\n",
    "          [0, np.sin(alpha),  np.cos(alpha), pz*(1 - np.cos(alpha)) - py*np.sin(alpha)],\n",
    "          [0, 0            ,  0            , 1                                        ]]\n",
    "    Ry = [[ np.cos(beta), 0, np.sin(beta), px*(1 - np.cos(beta)) - pz*np.sin(beta)],\n",
    "          [ 0           , 1, 0           , 0                                      ],\n",
    "          [-np.sin(beta), 0, np.cos(beta), pz*(1 - np.cos(beta)) + px*np.sin(beta)],\n",
    "          [ 0           , 0, 0           , 1                                      ]]\n",
    "    Rz = [[np.cos(gamma), -np.sin(gamma), 0, px*(1 - np.cos(gamma)) + py*np.sin(gamma)],\n",
    "          [np.sin(gamma),  np.cos(gamma), 0, py*(1 - np.cos(gamma)) - px*np.sin(gamma)],\n",
    "          [0            ,  0            , 1, 0                                        ],\n",
    "          [0            ,  0            , 0, 1                                        ]]\n",
    "    \n",
    "    Rx = np.array(Rx); Ry = np.array(Ry); Rz = np.array(Rz)\n",
    "    P = np.array([x, y, z, [1]*x.size])\n",
    "    return np.dot(np.dot(np.dot(Rx, Ry), Rz), P)\n",
    "\n",
    "fig, ax = plt.subplots(1, 4, subplot_kw={'projection': '3d'})\n",
    "\n",
    "NFRAMES = 20\n",
    "\n",
    "R_ = [[45, 0, 0],\n",
    "      [0, 45, 0],\n",
    "      [0, 0, 45],\n",
    "      [45, 45, 0]]\n",
    "P_ = [[0, 0, 0],\n",
    "      [0, 0, 0],\n",
    "      [0.5, -0.5, 0.5],\n",
    "      [1.1, 1.1, 1.1]]\n",
    "\n",
    "def animation(frame):\n",
    "    for i in range(4):\n",
    "        ax[i].cla(); px, py, pz = P_[i]\n",
    "        alpha = 0 if R_[i][0] == 0 else R_[i][0] + 360*frame/NFRAMES\n",
    "        beta = 0 if R_[i][1] == 0 else R_[i][1] + 360*frame/NFRAMES\n",
    "        gamma = 0 if R_[i][2] == 0 else R_[i][2] + 360*frame/NFRAMES\n",
    "        x_, y_, z_, _ = trans_rotate(x, y, z,\n",
    "                                     px, py, pz,\n",
    "                                     alpha, beta, gamma)\n",
    "        ax[i].view_init(20, -30)\n",
    "        ax[i].scatter(x_, y_, z_)\n",
    "        ax[i].scatter(px, py, pz)\n",
    "\n",
    "        ax[i].set_xlim([-2, 2])\n",
    "        ax[i].set_ylim([-2, 2])\n",
    "        ax[i].set_zlim([-2, 2])\n",
    "    plt.tight_layout()\n",
    "    return ax\n",
    "\n",
    "anim = manim.FuncAnimation(fig, animation, frames=NFRAMES, interval=100)\n",
    "anim.save('output/3DTransform_rotate.gif', writer=\"imagemagick\", extra_args=\"convert\")\n",
    "\n",
    "plt.close()\n",
    "\n",
    "# Solve repetition problem\n",
    "! magick convert _output/3DTransform_rotate.gif -loop 0 _output/3DTransform_rotate.gif\n",
    "! echo GIF exported and reconverted. Disregard the message above."
   ]
  },
  {
   "cell_type": "markdown",
   "metadata": {},
   "source": [
    "## 4. Shearing\n",
    "---"
   ]
  },
  {
   "cell_type": "code",
   "execution_count": 7,
   "metadata": {},
   "outputs": [
    {
     "name": "stdout",
     "output_type": "stream",
     "text": [
      "GIF exported and reconverted. Disregard the message above.\n"
     ]
    }
   ],
   "source": [
    "def trans_shear(x, y, z, px, py, pz,\n",
    "                lambdaxy, lambdaxz,\n",
    "                lambdayx, lambdayz,\n",
    "                lambdazx, lambdazy):\n",
    "    T = [[1       , lambdaxy, lambdaxz, -(lambdaxy+lambdaxz)*px],\n",
    "         [lambdayx, 1       , lambdayz, -(lambdayx+lambdayz)*py],\n",
    "         [lambdazx, lambdazy, 1       , -(lambdazx+lambdazy)*py],\n",
    "         [0       , 0       , 0       , 1                      ]]\n",
    "    T = np.array(T)\n",
    "    P = np.array([x, y, z, [1]*x.size])\n",
    "    return np.dot(T, P)\n",
    "\n",
    "fig, ax = plt.subplots(1, 4, subplot_kw={'projection': '3d'})\n",
    "\n",
    "NFRAMES = 20\n",
    "\n",
    "L_ = [[[2, 0], [0, 0], [0, 0]],\n",
    "      [[0, 0], [2, 0], [1, 0]],\n",
    "      [[0, 1], [0, 0], [0, 2]],\n",
    "      [[2, 0], [0, 2], [2, 0]]]\n",
    "P_ = [[0, 0, 0], [0, 0, 0], [0, 1.5, 0], [1.1, 1.1, 1.1]]\n",
    "\n",
    "def animation(frame):\n",
    "    for i in range(4):\n",
    "        ax[i].cla(); px, py, pz = P_[i]\n",
    "        lambdax = map(lambda j: j*frame/NFRAMES, L_[i][0])\n",
    "        lambday = map(lambda j: j*frame/NFRAMES, L_[i][1])\n",
    "        lambdaz = map(lambda j: j*frame/NFRAMES, L_[i][2])\n",
    "        x_, y_, z_, _ = trans_shear(x, y, z, px, py, pz,\n",
    "                                    *lambdax, *lambday, *lambdaz)\n",
    "        ax[i].view_init(20, -30)\n",
    "        ax[i].scatter(x_, y_, z_)\n",
    "        ax[i].scatter(px, py)\n",
    "\n",
    "        ax[i].set_xlim([-3, 3])\n",
    "        ax[i].set_ylim([-3, 3])\n",
    "        ax[i].set_zlim([-3, 3])\n",
    "    plt.tight_layout()\n",
    "    return ax\n",
    "\n",
    "anim = manim.FuncAnimation(fig, animation, frames=NFRAMES, interval=100)\n",
    "anim.save('output/3DTransform_shear.gif', writer=\"imagemagick\", extra_args=\"convert\")\n",
    "\n",
    "plt.close()\n",
    "\n",
    "# Solve repetition problem\n",
    "! magick convert _output/3DTransform_shear.gif -loop 0 _output/3DTransform_shear.gif\n",
    "! echo GIF exported and reconverted. Disregard the message above."
   ]
  }
 ],
 "metadata": {
  "kernelspec": {
   "display_name": "Python 3",
   "language": "python",
   "name": "python3"
  },
  "language_info": {
   "codemirror_mode": {
    "name": "ipython",
    "version": 3
   },
   "file_extension": ".py",
   "mimetype": "text/x-python",
   "name": "python",
   "nbconvert_exporter": "python",
   "pygments_lexer": "ipython3",
   "version": "3.7.3"
  }
 },
 "nbformat": 4,
 "nbformat_minor": 2
}
