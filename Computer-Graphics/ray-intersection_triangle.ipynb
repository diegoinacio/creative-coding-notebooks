{
 "cells": [
  {
   "cell_type": "markdown",
   "metadata": {},
   "source": [
    "# Ray-Triangle Intersection\n",
    "---\n",
    "- Author: Diego Inácio\n",
    "- GitHub: [github.com/diegoinacio](https://github.com/diegoinacio)\n",
    "- Notebook: [ray-intersection_triangle.ipynb](https://github.com/diegoinacio/creative-coding-notebooks/blob/master/Computer-Graphics/ray-intersection_triangle.ipynb)\n",
    "---\n",
    "Implementation of ray-triangle intersection algorithm."
   ]
  },
  {
   "cell_type": "code",
   "execution_count": null,
   "metadata": {},
   "outputs": [],
   "source": [
    "%matplotlib inline\n",
    "import matplotlib\n",
    "import matplotlib.pyplot as plt\n",
    "import numpy as np"
   ]
  },
  {
   "cell_type": "code",
   "execution_count": null,
   "metadata": {},
   "outputs": [],
   "source": [
    "np.seterr(divide='ignore', invalid='ignore')\n",
    "plt.rcParams['figure.figsize'] = (16, 4)"
   ]
  },
  {
   "cell_type": "markdown",
   "metadata": {},
   "source": [
    "## Primitives\n",
    "---\n",
    "The first thing is to define the ray origin $O$ and direction $\\large ê$, where the unit vector $\\large ê = \\frac{\\vec{e}}{\\parallel \\vec{e} \\parallel}$.\n",
    "\n",
    "![image 01](sourceimages/ray-intersection_triangle_01.jpg)"
   ]
  },
  {
   "cell_type": "code",
   "execution_count": null,
   "metadata": {},
   "outputs": [],
   "source": [
    "## Ray\n",
    "O = np.array([0, 0, 0])         # Origin pont\n",
    "e = np.array([0.1, 0.1, 1])     # Ray direction\n",
    "e_ = e/np.linalg.norm(e)        # Unit vector (versor) of e => ê"
   ]
  },
  {
   "cell_type": "markdown",
   "metadata": {},
   "source": [
    "Next step is to define the 3D triangle in counter-clockwise order in relation to the direction of the face.\n",
    "\n",
    "![image 02](sourceimages/ray-intersection_triangle_02.jpg)"
   ]
  },
  {
   "cell_type": "code",
   "execution_count": null,
   "metadata": {},
   "outputs": [],
   "source": [
    "# Triangle \n",
    "A = np.array([0 , 1, 1.50])      # Point A\n",
    "B = np.array([1 , 0, 1.25])      # Point B\n",
    "C = np.array([-1, 0, 1.00])      # Point C"
   ]
  },
  {
   "cell_type": "markdown",
   "metadata": {},
   "source": [
    "## Intersection\n",
    "---\n",
    "To find the ray intersection, the next step is to define the triangle normal $\\hat{n}$, where:\n",
    "\n",
    "$$ \\large\n",
    "\\hat{n} = \\frac{\\vec{AB} \\times \\vec{AC}}{\\parallel \\vec{AB} \\times \\vec{AC} \\parallel}\n",
    "$$\n",
    "\n",
    "*p.s.: to calculate ray-triangle intersection it is **not** necessary to normalize the normal vector.*\n",
    "\n",
    "![image 03](sourceimages/ray-intersection_triangle_03.jpg)"
   ]
  },
  {
   "cell_type": "code",
   "execution_count": null,
   "metadata": {},
   "outputs": [],
   "source": [
    "AB = B - A               # Oriented segment A to B\n",
    "AC = C - A               # Oriented segment A to C\n",
    "n = np.cross(AB, AC)     # Normal vector\n",
    "n_ = n/np.linalg.norm(n) # Normalized normal"
   ]
  },
  {
   "cell_type": "markdown",
   "metadata": {},
   "source": [
    "The *supporting plane* is what the triangle lies on, sharing the same normal vector. Given the plane equation:\n",
    "\n",
    "$$ \\large\n",
    "ax + by + cz + d = 0\n",
    "$$\n",
    "\n",
    "Having the vector normal as $\\hat{n} = [a b c]^T$ and $P = [x y z]^T$ as any point on the plane, we can define $d$ as follows:\n",
    "\n",
    "$$ \\large\n",
    "\\hat{n} \\cdot P + d = 0 \\quad \\therefore \\quad d = - \\hat{n} \\cdot P\n",
    "$$\n",
    "\n",
    "*p.s.: in this case any known point can be used. Lets use the point $A$ so $P = A$*\n",
    "\n",
    "![image 04](sourceimages/ray-intersection_triangle_04.jpg)"
   ]
  },
  {
   "cell_type": "code",
   "execution_count": null,
   "metadata": {},
   "outputs": [],
   "source": [
    "# Using the point A to find d\n",
    "d = - np.dot(n_, A)"
   ]
  },
  {
   "cell_type": "markdown",
   "metadata": {},
   "source": [
    "Before finding the intersection point $P$ on the plane, we must calculate the parameter $t$. We start by looking at the parametric equation of a line segment, which has the same direction of $ê$ and origin from $O$:\n",
    "\n",
    "$$ \\large\n",
    "P(P_x, P_y, P_z) = O + ê t\n",
    "$$\n",
    "\n",
    "where:\n",
    "\n",
    "$$\n",
    "\\large P_x = O_x + ê_x t \\\\\n",
    "\\large P_y = O_y + ê_y t \\\\\n",
    "\\large P_z = O_z + ê_z t\n",
    "$$\n",
    "\n",
    "Using this concept on the plane equation, we have:\n",
    "\n",
    "$$\n",
    "\\large ax + by + cz + d = 0 \\\\\n",
    "\\large aP_x + bP_y + cP_z + d = 0 \\\\\n",
    "\\large a(O_x + ê_x t) + b(O_y + ê_y t) + c(O_z + ê_z t) + d = 0 \\\\\n",
    "\\large aO_x + aê_x t + bO_y + bê_y t + cO_z + cê_z t + d = 0 \\\\\n",
    "\\large (aê_x + bê_y + cê_z)t + (aO_x + bO_y + cO_z) + d = 0 \\\\\n",
    "\\large (\\hat{n} \\cdot \\hat{e})t + \\hat{n} \\cdot O + d = 0 \\\\\n",
    "\\large t = - \\frac{\\hat{n} \\cdot O + d}{\\hat{n} \\cdot \\hat{e}}\n",
    "$$\n",
    "\n",
    "![image 05](sourceimages/ray-intersection_triangle_05.jpg)"
   ]
  },
  {
   "cell_type": "code",
   "execution_count": null,
   "metadata": {},
   "outputs": [],
   "source": [
    "# Finding parameter t\n",
    "t = - (np.dot(n_, O) + d)/np.dot(n_, e_)\n",
    "\n",
    "# Finding P\n",
    "P = O + t*e_"
   ]
  },
  {
   "cell_type": "markdown",
   "metadata": {},
   "source": [
    "To figure out if the plane intersection point is inside or outside the triangle, we basically have to define the vector from each vertices to $P$ and cross it with its oriented edge segment (for each vertex). If the intersection point is outside the triangle, the resulting vector will be in the opposite direction from the normal one.\n",
    "\n",
    "$$\n",
    "\\large [(B - A) \\times (P - A)] \\cdot \\hat{n} \\geq 0 \\\\\n",
    "\\large [(B - B) \\times (P - B)] \\cdot \\hat{n} \\geq 0 \\\\\n",
    "\\large [(B - C) \\times (P - C)] \\cdot \\hat{n} \\geq 0\n",
    "$$\n",
    "\n",
    "If all these conditionals are obeyed, we can conclude that the point $P$ is inside the triangle. Otherwise, the point is going to be outiside toward to the edges of the negative values.\n",
    "\n",
    "![image 06](sourceimages/ray-intersection_triangle_06.jpg)"
   ]
  },
  {
   "cell_type": "code",
   "execution_count": null,
   "metadata": {},
   "outputs": [],
   "source": [
    "# Get the resulting vector for each vertex\n",
    "# following the construction order\n",
    "Pa = np.dot(np.cross(B - A, P - A), n_)\n",
    "Pb = np.dot(np.cross(C - B, P - B), n_)\n",
    "Pc = np.dot(np.cross(A - C, P - C), n_)\n",
    "\n",
    "if(t < 0):\n",
    "    # Means that the triangle has the normal in the opposite direction (same\n",
    "    # direction from the ray) or the triangle is behind the ray origin\n",
    "    print('Backface intersection!')\n",
    "\n",
    "elif(Pa < 0 and Pb < 0 and Pc < 0):\n",
    "    print('Intersection point is outside the triangle')\n",
    "\n",
    "else:\n",
    "    print(f'Intersections at {P}')"
   ]
  },
  {
   "cell_type": "markdown",
   "metadata": {},
   "source": [
    "## 3D Intersection\n",
    "---\n",
    "Apply same model for each pixel of an image plane as the origin and the ray direction is based on the perspective camera model:\n",
    "\n",
    "![image 07](sourceimages/ray-intersection_triangle_07.jpg)"
   ]
  },
  {
   "cell_type": "code",
   "execution_count": null,
   "metadata": {},
   "outputs": [],
   "source": [
    "N, M = 256j, 512j\n",
    "O = np.ones((int(N.imag), int(M.imag), 3))                        # Init image plane origin\n",
    "O[..., 1], O[..., 0] = np.mgrid[0.5:-0.5:N, 1:-1:M]               # Image plane uvw coordinates\n",
    "e_ = O/np.linalg.norm(O, axis=2)[:,:,np.newaxis]                  # Normalized ray directon e_\n",
    "\n",
    "# Triangle \n",
    "A = np.array([0   , 2.2 , 5])                                     # Point A\n",
    "B = np.array([6.7 , -3  , 8])                                     # Point B\n",
    "C = np.array([-1.5, -0.5, 2])                                     # Point C\n",
    "\n",
    "AB = B - A                                                        # Oriented segment A to B\n",
    "AC = C - A                                                        # Oriented segment A to C\n",
    "n = np.cross(AB, AC)                                              # Normal vector\n",
    "n_ = n/np.linalg.norm(n)                                          # Normalized normal\n",
    "\n",
    "# Using the point A to find d\n",
    "d = - np.dot(n_, A)\n",
    "\n",
    "# Finding parameter t\n",
    "vec_dot = np.vectorize(np.dot, signature='(n),(m)->()')           # Vectorize dot product function\n",
    "t = - (vec_dot(n_, O) + d)/vec_dot(n_, e_)                        # Get t for each pixel\n",
    "\n",
    "# Finding P\n",
    "P = O + t[..., np.newaxis]*e_\n",
    "\n",
    "# Get the resulting vector for each vertex\n",
    "# following the construction order\n",
    "Pa = vec_dot(np.cross(B - A, P - A), n_)                          # Resulting vector of A\n",
    "Pb = vec_dot(np.cross(C - B, P - B), n_)                          # Resulting vector of B\n",
    "Pc = vec_dot(np.cross(A - C, P - C), n_)                          # Resulting vector of C\n",
    "\n",
    "output = np.zeros((int(N.imag), int(M.imag), 3))                  # Init output image\n",
    "cond = np.logical_and(np.logical_and(Pa >= 0, Pb >= 0), Pc >= 0)  # Inside the triangle conditionals\n",
    "fr = vec_dot(n_, -e_)[..., np.newaxis]                            # Compute the facing ratio\n",
    "output[cond] = (0.15, 0.35, 0.9)*fr[cond]                         # Shade with color and fr\n",
    "\n",
    "\n",
    "# Visualization\n",
    "fig, ax = plt.subplots(figsize=(16, 10))\n",
    "ax.imshow(output)\n",
    "plt.show()"
   ]
  },
  {
   "cell_type": "markdown",
   "metadata": {},
   "source": [
    "## Barycentric coordinates\n",
    "---\n",
    "The barycentric coordinates will help us to interpolate in-between vertex values. To do that we have to calculate the area of all resulting triangles. Any triangle area can be calculated as follows:\n",
    "\n",
    "$$\n",
    "\\large \\text{Area}_{ABC} = \\frac{\\parallel (B - A) \\times (C - A) \\parallel}{2}\n",
    "$$\n",
    "\n",
    "Next step is to find the weight of each point so that we can use it to interpolate any desired values.\n",
    "\n",
    "$$\n",
    "\\large \\alpha = \\frac{\\text{Area}_{BCP}}{\\text{Area}_{ABC}} = \\frac{\\parallel (C - B) \\times (P - B) \\parallel}{\\parallel (B - A) \\times (C - A) \\parallel} \\\\\\\\\n",
    "\\large \\beta = \\frac{\\text{Area}_{CAP}}{\\text{Area}_{ABC}} = \\frac{\\parallel (A - C) \\times (P - C) \\parallel}{\\parallel (B - A) \\times (C - A) \\parallel} \\\\\\\\\n",
    "\\large \\gamma = \\frac{\\text{Area}_{ABP}}{\\text{Area}_{ABC}} = \\frac{\\parallel (B - A) \\times (P - A) \\parallel}{\\parallel (B - A) \\times (C - A) \\parallel}\n",
    "$$\n",
    "\n",
    "Have the weights we can interpolate any kind of value (color, for example) by using:\n",
    "\n",
    "$$ \\large\n",
    "V = \\frac{\\alpha V_A + \\beta V_B + \\gamma V_C}{\\alpha + \\beta + \\gamma}\n",
    "$$\n",
    "\n",
    "![image 08](sourceimages/ray-intersection_triangle_08.jpg)"
   ]
  },
  {
   "cell_type": "code",
   "execution_count": null,
   "metadata": {},
   "outputs": [],
   "source": [
    "N, M = 256j, 512j\n",
    "O = np.ones((int(N.imag), int(M.imag), 3))                        # Init image plane origin\n",
    "O[..., 1], O[..., 0] = np.mgrid[0.5:-0.5:N, 1:-1:M]               # Image plane uvw coordinates\n",
    "e_ = O/np.linalg.norm(O, axis=2)[..., np.newaxis]                 # Normalized ray directon e_\n",
    "\n",
    "# Triangle \n",
    "A = np.array([0 , 1.25 , 3])                                      # Point A\n",
    "B = np.array([2 , -1.25, 3])                                      # Point B\n",
    "C = np.array([-2, -1.25, 3])                                      # Point C\n",
    "\n",
    "AB = B - A                                                        # Oriented segment A to B\n",
    "AC = C - A                                                        # Oriented segment A to C\n",
    "n = np.cross(AB, AC)                                              # Normal vector\n",
    "n_ = n/np.linalg.norm(n)                                          # Normalized normal\n",
    "\n",
    "# Using the point A to find d\n",
    "d = - np.dot(n_, A)\n",
    "\n",
    "# Finding parameter t\n",
    "vec_dot = np.vectorize(np.dot, signature='(n),(m)->()')           # Vectorize dot product function\n",
    "t = - (vec_dot(n_, O) + d)/vec_dot(n_, e_)                        # Get t for each pixel\n",
    "\n",
    "# Finding P\n",
    "P = O + t[..., np.newaxis]*e_\n",
    "\n",
    "# Get the resulting vector for each vertex\n",
    "# following the construction order\n",
    "Pa = vec_dot(np.cross(B - A, P - A), n_)                          # Resulting vector of A\n",
    "Pb = vec_dot(np.cross(C - B, P - B), n_)                          # Resulting vector of B\n",
    "Pc = vec_dot(np.cross(A - C, P - C), n_)                          # Resulting vector of C\n",
    "\n",
    "cond = np.logical_and(np.logical_and(Pa >= 0, Pb >= 0), Pc >= 0)  # Inside the triangle conditionals\n",
    "\n",
    "# Calculate barycentric coordinates\n",
    "Aa = np.cross(B - A, P - A)                                       # Resulting vector of A and P\n",
    "Aa = np.linalg.norm(Aa, axis=2)                                   # Area of triangle ABP\n",
    "Ab = np.cross(C - B, P - B)                                       # Resulting vector of B and P\n",
    "Ab = np.linalg.norm(Ab, axis=2)                                   # Area of triangle BCP\n",
    "Ac = np.cross(A - C, P - C)                                       # Resulting vector of C and P\n",
    "Ac = np.linalg.norm(Ac, axis=2)                                   # Area of triangle CAP\n",
    "At = np.cross(C - A, B - A)                                       # Resulting vector of triangle\n",
    "At = np.linalg.norm(At)                                           # Area of triangle ABC\n",
    "\n",
    "# Getting the barycenter weights\n",
    "alpha = (Ab/At)[..., np.newaxis]\n",
    "beta = (Ac/At)[..., np.newaxis]\n",
    "gamma = (Aa/At)[..., np.newaxis]\n",
    "\n",
    "# Output image\n",
    "output = np.zeros((int(N.imag), int(M.imag), 3))                  # Init output image\n",
    "Ca = np.array([1, 0, 0.4])                                        # Color vertex A\n",
    "Cb = np.array([0.4, 1, 0])                                        # Color vertex B\n",
    "Cc = np.array([0, 0.4, 1])                                        # Color vertex C\n",
    "Cd = (alpha*Ca + beta*Cb + gamma*Cc)/(alpha + beta + gamma)       # Interpolated color based on barycentric coordinates\n",
    "\n",
    "output[cond] = Cd[cond]                                           # Shade with the interpolated colors\n",
    "\n",
    "\n",
    "# Visualization\n",
    "fig, ax = plt.subplots(figsize=(16, 10))\n",
    "ax.imshow(output)\n",
    "plt.show()"
   ]
  }
 ],
 "metadata": {
  "kernelspec": {
   "display_name": "Python 3",
   "language": "python",
   "name": "python3"
  },
  "language_info": {
   "codemirror_mode": {
    "name": "ipython",
    "version": 3
   },
   "file_extension": ".py",
   "mimetype": "text/x-python",
   "name": "python",
   "nbconvert_exporter": "python",
   "pygments_lexer": "ipython3",
   "version": "3.7.7"
  }
 },
 "nbformat": 4,
 "nbformat_minor": 2
}
