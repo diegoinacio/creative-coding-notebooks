{
 "cells": [
  {
   "cell_type": "markdown",
   "metadata": {},
   "source": [
    "# Ray-Sphere Intersection\n",
    "---\n",
    "- Author: Diego Inácio\n",
    "- GitHub: [github.com/diegoinacio](https://github.com/diegoinacio)\n",
    "- Notebook: [ray-intersection_sphere.ipynb](https://github.com/diegoinacio/creative-coding-notebooks/blob/master/Computer-Graphics/ray-intersection_sphere.ipynb)\n",
    "---\n",
    "Implementation of ray-sphere intersection algorithm."
   ]
  },
  {
   "cell_type": "code",
   "execution_count": null,
   "metadata": {},
   "outputs": [],
   "source": [
    "%matplotlib inline\n",
    "import matplotlib\n",
    "import matplotlib.pyplot as plt\n",
    "import numpy as np"
   ]
  },
  {
   "cell_type": "code",
   "execution_count": null,
   "metadata": {},
   "outputs": [],
   "source": [
    "np.seterr(divide='ignore', invalid='ignore')\n",
    "plt.rcParams['figure.figsize'] = (16, 4)"
   ]
  },
  {
   "cell_type": "markdown",
   "metadata": {},
   "source": [
    "## Primitives\n",
    "---\n",
    "The first thing is to define the ray origin $O$ and direction $\\large ê$, where the unit vector $\\large ê = \\frac{\\vec{e}}{\\parallel \\vec{e} \\parallel}$.\n",
    "\n",
    "![image 01](sourceimages/ray-intersection_sphere_01.jpg)"
   ]
  },
  {
   "cell_type": "code",
   "execution_count": null,
   "metadata": {},
   "outputs": [],
   "source": [
    "## Ray\n",
    "O = np.array([0, 0])         # Origin pont\n",
    "e_ = np.array([0.5, 0.5])    # Ray direction\n",
    "e_ /= np.linalg.norm(e_)     # Unit vector of e_"
   ]
  },
  {
   "cell_type": "markdown",
   "metadata": {},
   "source": [
    "Next step is to define the sphere/circle center $C_s$ and radius $\\large r$.\n",
    "\n",
    "![image 02](sourceimages/ray-intersection_sphere_02.jpg)"
   ]
  },
  {
   "cell_type": "code",
   "execution_count": null,
   "metadata": {},
   "outputs": [],
   "source": [
    "# Sphere\n",
    "Cs = np.array([2, 0])        # Center of sphere\n",
    "r = 1.5                      # Radius of sphere"
   ]
  },
  {
   "cell_type": "markdown",
   "metadata": {},
   "source": [
    "## Intersection\n",
    "---\n",
    "To find the ray intersection, the next step is define the oriented segment $\\overline{OC} = Cs - O$.\n",
    "![image 03](sourceimages/ray-intersection_sphere_03.jpg)"
   ]
  },
  {
   "cell_type": "code",
   "execution_count": null,
   "metadata": {},
   "outputs": [],
   "source": [
    "OC_ = Cs - O  # Oriented segment from origin to center of the sphere"
   ]
  },
  {
   "cell_type": "markdown",
   "metadata": {},
   "source": [
    "Next step, we need to find the parameter $\\large t$ which will parametrize the ray segment and find the intersections from the origin. The value $\\large t$ can be found by projecting the vetor $\\vec{OC}$ on the versor $\\large ê$. The projection of a vector $\\large \\vec{a}$ on a $\\large \\vec{b}$ can be defined as the geometric representation of *dot product*:\n",
    "\n",
    "$$ \\large\n",
    "a_1 = \\parallel a \\parallel \\cos{\\theta} = a \\cdot \\hat{b} = a \\cdot \\frac{\\vec{b}}{\\parallel \\vec{b} \\parallel}\n",
    "$$\n",
    "\n",
    "![image 04](sourceimages/ray-intersection_sphere_04.jpg)"
   ]
  },
  {
   "cell_type": "code",
   "execution_count": null,
   "metadata": {},
   "outputs": [],
   "source": [
    "t = np.dot(OC_, e_)   # Vector projection of OC_ on e_"
   ]
  },
  {
   "cell_type": "markdown",
   "metadata": {},
   "source": [
    "Having the parameter $\\large t$, we can finally define the segment which will give us the point $P_e$ projected from center of the sphere on the ray direction. Applying the concept of *parametrized line*, we can define:\n",
    "\n",
    "$$ \\large\n",
    "P_e = O + t \\cdot \\hat{e}\n",
    "$$\n",
    "\n",
    "Having this point, we can find the distance between $C_s$ and $P_e$ with ${\\parallel P_e - C_s \\parallel}_2$.\n",
    "\n",
    "![image 05](sourceimages/ray-intersection_sphere_05.jpg)"
   ]
  },
  {
   "cell_type": "code",
   "execution_count": null,
   "metadata": {},
   "outputs": [],
   "source": [
    "Pe = O + e_*t                # Point on vector e_ projected from OC_\n",
    "d = np.linalg.norm(Pe - Cs)  # Distance from the point Pe and the center of the sphere"
   ]
  },
  {
   "cell_type": "markdown",
   "metadata": {},
   "source": [
    "Notice that now we have the distance $\\large d$ so we can make some assumptions:\n",
    "\n",
    "- If $d > r$ then there is no intersections;\n",
    "- If $d = r$ then there is 1 intersection (tangent);\n",
    "- if $d < r$ there are 2 intersections.\n",
    "\n",
    "![image 06](sourceimages/ray-intersection_sphere_06.jpg)\n",
    "\n",
    "Now we have all the necessary to calculate the intersection positions using the *pythagorean theorem* se we can have the value $\\large i$ and define the positions based on the parametrized line from origin.\n",
    "\n",
    "$$ \\large\n",
    "\\begin{aligned}\n",
    "P_s^1 & = O + \\hat{e} \\cdot (t - i) \\\\\n",
    "P_s^2 & = O + \\hat{e} \\cdot (t + i)\n",
    "\\end{aligned}\n",
    "$$\n",
    "\n",
    "![image 07](sourceimages/ray-intersection_sphere_07.jpg)"
   ]
  },
  {
   "cell_type": "code",
   "execution_count": null,
   "metadata": {},
   "outputs": [],
   "source": [
    "# Position of the intersections\n",
    "if(d > r):\n",
    "    print(\"No intersection!\")\n",
    "\n",
    "elif(d == r):\n",
    "    Ps = Pe\n",
    "    print(f'Intersection at {Ps}')\n",
    "\n",
    "else:\n",
    "    i = (r**2 - d**2)**0.5\n",
    "    Ps1 = O + e_*(t - i)\n",
    "    Ps2 = O + e_*(t + i)\n",
    "    print(f'Intersections at {Ps1} and {Ps2}')"
   ]
  },
  {
   "cell_type": "markdown",
   "metadata": {},
   "source": [
    "## Example\n",
    "---"
   ]
  },
  {
   "cell_type": "code",
   "execution_count": null,
   "metadata": {},
   "outputs": [],
   "source": [
    "fig, ax = plt.subplots(figsize=(16, 10))\n",
    "\n",
    "# Define x points to draw lines\n",
    "x = np.array([0, 8])\n",
    "colors = [\"red\", \"green\", \"blue\", \"brown\",\"orange\"]\n",
    "\n",
    "# Define angular coeficients\n",
    "M = [0, 0.25, 0.5, 1, 1.5]\n",
    "\n",
    "# Define sphere\n",
    "Cs = [4, 2]\n",
    "r = 2\n",
    "Circle = plt.Circle(Cs, r, color=\"k\", fill=0)\n",
    "ax.add_artist(Circle)\n",
    "\n",
    "# Draw intersections\n",
    "for index, m in enumerate(M):\n",
    "    y = m*x\n",
    "    plt.plot(x, y, color=colors[index])\n",
    "    plt.xlim([-0.1, 8])\n",
    "    plt.ylim([-0.1, 5])\n",
    "    \n",
    "    # Define ray\n",
    "    O = np.array([0, 0])\n",
    "    e_ = np.array([1, m])\n",
    "    e_ = e_/np.linalg.norm(e_)\n",
    "    \n",
    "    # Intersection\n",
    "    OC_ = Cs - O\n",
    "    t = np.dot(OC_, e_)\n",
    "    Pe = O + e_*t\n",
    "    d = np.linalg.norm(Pe - Cs)\n",
    "    \n",
    "    # Draw intersections\n",
    "    if(d == r):\n",
    "        Ps = Pe\n",
    "        Circle = plt.Circle(Ps, 0.1, color=colors[index], fill=0)\n",
    "        ax.add_artist(Circle)\n",
    "    if(d < r):\n",
    "        i = (r**2 - d**2)**0.5\n",
    "        Ps1 = O + e_*(t - i)\n",
    "        Circle = plt.Circle(Ps1, 0.1, color=colors[index], fill=0)\n",
    "        ax.add_artist(Circle)\n",
    "        Ps2 = O + e_*(t + i)\n",
    "        Circle = plt.Circle(Ps2, 0.1, color=colors[index], fill=0)\n",
    "        ax.add_artist(Circle)\n",
    "\n",
    "plt.show()"
   ]
  },
  {
   "cell_type": "markdown",
   "metadata": {},
   "source": [
    "## 3D Intersection\n",
    "---\n",
    "Apply same model for each pixel of an *image plane* as the *origin* and the *ray direction* is based on the perspective camera model:\n",
    "\n",
    "![image 07](sourceimages/ray-intersection_sphere_08.jpg)"
   ]
  },
  {
   "cell_type": "code",
   "execution_count": null,
   "metadata": {},
   "outputs": [],
   "source": [
    "N, M = 256j, 512j\n",
    "O = np.ones((int(N.imag), int(M.imag), 3))               # Init image plane origin\n",
    "O[..., 1], O[..., 0] = np.mgrid[0.5:-0.5:N, 1:-1:M]      # Image plane uvw coordinates\n",
    "e_ = O/np.linalg.norm(O, axis=2)[:,:,np.newaxis]         # Normalized ray directon e_\n",
    "\n",
    "# Sphere\n",
    "Cs = np.array([0, 0, 4])                                 # Center of sphere\n",
    "r = 1.5                                                  # Radius of sphere\n",
    "\n",
    "OC_ = Cs - O                                             # Oriented segment from origin to center of the sphere\n",
    "\n",
    "vec_dot = np.vectorize(np.dot, signature='(n),(m)->()')  # Vectorize dot product function\n",
    "t = vec_dot(OC_, e_)                                     # Pixelwise dot product\n",
    "Pe = O + e_*t[:,:,np.newaxis]                            # Point on vector e_ projected from OC_\n",
    "d = np.linalg.norm(Pe - Cs, axis=2)                      # Distance from the point Pe and the center of the sphere\n",
    "\n",
    "# Find intersection position\n",
    "i = (r**2 - d**2)**0.5                                   # \n",
    "Ps = O + e_*(t - i)[:,:,np.newaxis]                      # \n",
    "\n",
    "# Facing ratio (incidence value)\n",
    "i_ = i[:,:,np.newaxis]/r\n",
    "\n",
    "# Calculate the normal vector for each point\n",
    "n = Ps - Cs                                              # Calculate vector n\n",
    "n_ = n/np.linalg.norm(n, axis=2)[:,:,np.newaxis]         # Normalize n\n",
    "\n",
    "\n",
    "##################################\n",
    "# Simple directional light model #\n",
    "##################################\n",
    "Cd = np.array([0.9, 0.15, 0.35])**(1/0.455)              # Sphere diffuse color with gamma compensation\n",
    "\n",
    "# Key light\n",
    "l = np.array([-1.5, 1.5, -1])                            # Key light vector\n",
    "l_ = l/np.linalg.norm(l)                                 # Key light vector normalization\n",
    "Kd = vec_dot(l_, n_)[:,:,np.newaxis]                     # Calculate light incidence\n",
    "Kd[Kd < 0] = 0                                           # clamp negative values\n",
    "diff = Cd*Kd                                             # Writes to diffuse\n",
    "\n",
    "# Back light\n",
    "l = np.array([1.5, -1, 1])                               # Back light vector\n",
    "l_ = l/np.linalg.norm(l)                                 # Back light vector normalization\n",
    "Kd = vec_dot(l_, n_)[:,:,np.newaxis]                     # Calculate light incidence\n",
    "Kd[Kd < 0] = 0                                           # clamp negative values\n",
    "diff += Cd*Kd*0.25                                       # Adds to diffuse\n",
    "\n",
    "output = np.zeros((int(N.imag), int(M.imag), 3))         # Init output image\n",
    "output[d < r] = (diff*i_)[d < r]                         # Shades diffuse and fr\n",
    "\n",
    "output[output < 0] = 0; output[output > 1] = 1           # Clamp values before visualization\n",
    "\n",
    "\n",
    "# Visualization\n",
    "fig, ax = plt.subplots(figsize=(16, 10))\n",
    "ax.imshow(output**(1/2.2))                               # View the resulting image with gamma adjustment (sRGB)\n",
    "plt.show()"
   ]
  }
 ],
 "metadata": {
  "kernelspec": {
   "display_name": "Python 3",
   "language": "python",
   "name": "python3"
  },
  "language_info": {
   "codemirror_mode": {
    "name": "ipython",
    "version": 3
   },
   "file_extension": ".py",
   "mimetype": "text/x-python",
   "name": "python",
   "nbconvert_exporter": "python",
   "pygments_lexer": "ipython3",
   "version": "3.7.7"
  }
 },
 "nbformat": 4,
 "nbformat_minor": 2
}
